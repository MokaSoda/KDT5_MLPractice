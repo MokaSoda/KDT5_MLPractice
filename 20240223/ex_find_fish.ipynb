{
 "cells": [
  {
   "cell_type": "markdown",
   "source": [
    "## 목표: 생선 품종 분류 모델\n",
    "- 데이터 : fish.csv\n",
    "- 피쳐 : Weight, Height\n",
    "- 타깃 : Species\n",
    "- 기계학습 : 지도학습 + 분류 (도미, 빙어 분류는 이진분류)"
   ],
   "metadata": {
    "collapsed": false
   },
   "id": "6eac64530a8a45a5"
  },
  {
   "cell_type": "markdown",
   "source": [
    "## 모듈 로딩하기 <hr>"
   ],
   "metadata": {
    "collapsed": false
   },
   "id": "eea65878c62b34ef"
  },
  {
   "cell_type": "code",
   "outputs": [
    {
     "name": "stderr",
     "output_type": "stream",
     "text": [
      "Intel(R) Extension for Scikit-learn* enabled (https://github.com/intel/scikit-learn-intelex)\n"
     ]
    }
   ],
   "source": [
    "import matplotlib.pyplot as plt\n",
    "\n",
    "import pandas as pd\n",
    "import numpy as np\n",
    "\n",
    "# 인텔제공 최적화 라이브레리\n",
    "\n",
    "from sklearnex import patch_sklearn ,unpatch_sklearn\n",
    "patch_sklearn()\n",
    "# unpatch_sklearn()\n",
    "# 패치후 로딩\n",
    "import sklearn"
   ],
   "metadata": {
    "collapsed": false,
    "ExecuteTime": {
     "end_time": "2024-02-24T14:01:01.373753200Z",
     "start_time": "2024-02-24T14:01:01.367551100Z"
    }
   },
   "id": "7ac53ae64df36fdf",
   "execution_count": 105
  },
  {
   "cell_type": "code",
   "outputs": [
    {
     "name": "stdout",
     "output_type": "stream",
     "text": [
      "kmeans.labels_ = [1 1 1 0 0 0]\n"
     ]
    },
    {
     "name": "stderr",
     "output_type": "stream",
     "text": [
      "C:\\Users\\Administrator\\anaconda3\\Lib\\site-packages\\sklearn\\cluster\\_kmeans.py:1412: FutureWarning: The default value of `n_init` will change from 10 to 'auto' in 1.4. Set the value of `n_init` explicitly to suppress the warning\n",
      "  super()._check_params_vs_input(X, default_n_init=10)\n",
      "C:\\Users\\Administrator\\anaconda3\\Lib\\site-packages\\daal4py\\sklearn\\cluster\\_k_means_0_23.py:184: FutureWarning: The default value of `n_init` will change from 10 to 'auto' in 1.4. Set the value of `n_init` explicitly to suppress the warning\n",
      "  warnings.warn(\n"
     ]
    }
   ],
   "source": [
    "X = np.array([[1,  2], [1,  4], [1,  0],\n",
    "              [10, 2], [10, 4], [10, 0]]\n",
    "             )\n",
    "kmeans = sklearn.cluster.KMeans(\n",
    "    n_clusters=2, \n",
    "    random_state=0, \n",
    "    # n_init='auto',\n",
    ").fit(X)\n",
    "print(f\"kmeans.labels_ = {kmeans.labels_}\")\n",
    "# kmeans:sklearn.cluster.KMeans\n",
    "\n"
   ],
   "metadata": {
    "collapsed": false,
    "ExecuteTime": {
     "end_time": "2024-02-24T14:01:05.627756300Z",
     "start_time": "2024-02-24T14:01:05.623447200Z"
    }
   },
   "id": "acb1698966d14967",
   "execution_count": 117
  },
  {
   "cell_type": "markdown",
   "source": [
    "## 데이터 준비"
   ],
   "metadata": {
    "collapsed": false
   },
   "id": "b8f5e09c34be7c29"
  },
  {
   "cell_type": "code",
   "outputs": [
    {
     "name": "stdout",
     "output_type": "stream",
     "text": [
      "<class 'pandas.core.frame.DataFrame'>\n",
      "RangeIndex: 159 entries, 0 to 158\n",
      "Data columns (total 3 columns):\n",
      " #   Column   Non-Null Count  Dtype   \n",
      "---  ------   --------------  -----   \n",
      " 0   Species  159 non-null    category\n",
      " 1   Weight   159 non-null    float64 \n",
      " 2   Length   159 non-null    float64 \n",
      "dtypes: category(1), float64(2)\n",
      "memory usage: 3.1 KB\n"
     ]
    }
   ],
   "source": [
    "df = pd.read_csv('../data/fish.csv', usecols=['Species', 'Weight', 'Length'])\n",
    "\n",
    "df['Species'] = df['Species'].astype('category')\n",
    "df.info()"
   ],
   "metadata": {
    "collapsed": false,
    "ExecuteTime": {
     "end_time": "2024-02-24T13:48:48.171598200Z",
     "start_time": "2024-02-24T13:48:48.158214100Z"
    }
   },
   "id": "96a62ca96086c9c0",
   "execution_count": 3
  },
  {
   "cell_type": "markdown",
   "source": [
    "## 데이터 전처리\n"
   ],
   "metadata": {
    "collapsed": false
   },
   "id": "2e2faa3cb6ad8067"
  },
  {
   "cell_type": "code",
   "outputs": [
    {
     "data": {
      "text/plain": "['Bream', 'Roach', 'Whitefish', 'Parkki', 'Perch', 'Pike', 'Smelt']\nCategories (7, object): ['Bream', 'Parkki', 'Perch', 'Pike', 'Roach', 'Smelt', 'Whitefish']"
     },
     "execution_count": 4,
     "metadata": {},
     "output_type": "execute_result"
    }
   ],
   "source": [
    "# 컬럼별 고유값으로 이상치 체크 => unique()\n",
    "df.Species.unique()"
   ],
   "metadata": {
    "collapsed": false,
    "ExecuteTime": {
     "end_time": "2024-02-24T13:48:48.219362700Z",
     "start_time": "2024-02-24T13:48:48.170599800Z"
    }
   },
   "id": "8b9fa6fc1901aa5f",
   "execution_count": 4
  },
  {
   "cell_type": "code",
   "outputs": [
    {
     "data": {
      "text/plain": "Species    0\nWeight     0\nLength     0\ndtype: int64"
     },
     "execution_count": 5,
     "metadata": {},
     "output_type": "execute_result"
    }
   ],
   "source": [
    "df.isnull().sum()"
   ],
   "metadata": {
    "collapsed": false,
    "ExecuteTime": {
     "end_time": "2024-02-24T13:48:48.220613600Z",
     "start_time": "2024-02-24T13:48:48.177088500Z"
    }
   },
   "id": "b4076202cd33278",
   "execution_count": 5
  },
  {
   "cell_type": "code",
   "outputs": [
    {
     "data": {
      "text/plain": "    Species  Weight  Length\n0     Bream   242.0    25.4\n1     Bream   290.0    26.3\n2     Bream   340.0    26.5\n3     Bream   363.0    29.0\n4     Bream   430.0    29.0\n..      ...     ...     ...\n154   Smelt    12.2    12.2\n155   Smelt    13.4    12.4\n156   Smelt    12.2    13.0\n157   Smelt    19.7    14.3\n158   Smelt    19.9    15.0\n\n[155 rows x 3 columns]",
      "text/html": "<div>\n<style scoped>\n    .dataframe tbody tr th:only-of-type {\n        vertical-align: middle;\n    }\n\n    .dataframe tbody tr th {\n        vertical-align: top;\n    }\n\n    .dataframe thead th {\n        text-align: right;\n    }\n</style>\n<table border=\"1\" class=\"dataframe\">\n  <thead>\n    <tr style=\"text-align: right;\">\n      <th></th>\n      <th>Species</th>\n      <th>Weight</th>\n      <th>Length</th>\n    </tr>\n  </thead>\n  <tbody>\n    <tr>\n      <th>0</th>\n      <td>Bream</td>\n      <td>242.0</td>\n      <td>25.4</td>\n    </tr>\n    <tr>\n      <th>1</th>\n      <td>Bream</td>\n      <td>290.0</td>\n      <td>26.3</td>\n    </tr>\n    <tr>\n      <th>2</th>\n      <td>Bream</td>\n      <td>340.0</td>\n      <td>26.5</td>\n    </tr>\n    <tr>\n      <th>3</th>\n      <td>Bream</td>\n      <td>363.0</td>\n      <td>29.0</td>\n    </tr>\n    <tr>\n      <th>4</th>\n      <td>Bream</td>\n      <td>430.0</td>\n      <td>29.0</td>\n    </tr>\n    <tr>\n      <th>...</th>\n      <td>...</td>\n      <td>...</td>\n      <td>...</td>\n    </tr>\n    <tr>\n      <th>154</th>\n      <td>Smelt</td>\n      <td>12.2</td>\n      <td>12.2</td>\n    </tr>\n    <tr>\n      <th>155</th>\n      <td>Smelt</td>\n      <td>13.4</td>\n      <td>12.4</td>\n    </tr>\n    <tr>\n      <th>156</th>\n      <td>Smelt</td>\n      <td>12.2</td>\n      <td>13.0</td>\n    </tr>\n    <tr>\n      <th>157</th>\n      <td>Smelt</td>\n      <td>19.7</td>\n      <td>14.3</td>\n    </tr>\n    <tr>\n      <th>158</th>\n      <td>Smelt</td>\n      <td>19.9</td>\n      <td>15.0</td>\n    </tr>\n  </tbody>\n</table>\n<p>155 rows × 3 columns</p>\n</div>"
     },
     "execution_count": 6,
     "metadata": {},
     "output_type": "execute_result"
    }
   ],
   "source": [
    "# 중복데이터 체크\n",
    "df.duplicated().sum()\n",
    "df.drop_duplicates(inplace=True)\n",
    "df"
   ],
   "metadata": {
    "collapsed": false,
    "ExecuteTime": {
     "end_time": "2024-02-24T13:48:48.222611800Z",
     "start_time": "2024-02-24T13:48:48.182592100Z"
    }
   },
   "id": "bc020f2e9b99d502",
   "execution_count": 6
  },
  {
   "cell_type": "code",
   "outputs": [],
   "source": [
    "twoFishDf = df[df['Species'].isin(['Bream', 'Smelt'])]\n"
   ],
   "metadata": {
    "collapsed": false,
    "ExecuteTime": {
     "end_time": "2024-02-24T13:48:48.223608600Z",
     "start_time": "2024-02-24T13:48:48.197928800Z"
    }
   },
   "id": "48ae320491c8d484",
   "execution_count": 7
  },
  {
   "cell_type": "code",
   "outputs": [],
   "source": [
    "twoFishDf\n",
    "twoFishDf.reset_index(inplace = True, drop=True)"
   ],
   "metadata": {
    "collapsed": false,
    "ExecuteTime": {
     "end_time": "2024-02-24T13:48:48.253166400Z",
     "start_time": "2024-02-24T13:48:48.199929100Z"
    }
   },
   "id": "2bd5d76c2ef35a42",
   "execution_count": 8
  },
  {
   "cell_type": "markdown",
   "source": [
    "## 학습용 데이터 준비 => 피쳐 + 타켓으로 분리"
   ],
   "metadata": {
    "collapsed": false
   },
   "id": "ef125bece496a279"
  },
  {
   "cell_type": "code",
   "outputs": [],
   "source": [
    "feature = twoFishDf[twoFishDf.columns[1:]]\n"
   ],
   "metadata": {
    "collapsed": false,
    "ExecuteTime": {
     "end_time": "2024-02-24T13:48:48.253166400Z",
     "start_time": "2024-02-24T13:48:48.205920100Z"
    }
   },
   "id": "ab2674f57a3b5ed",
   "execution_count": 9
  },
  {
   "cell_type": "code",
   "outputs": [
    {
     "data": {
      "text/plain": "array([0, 5], dtype=int8)"
     },
     "execution_count": 10,
     "metadata": {},
     "output_type": "execute_result"
    }
   ],
   "source": [
    "# 타켓데이터 추출\n",
    "target = twoFishDf.Species\n",
    "\n",
    "# change category to number\n",
    "targetcode = target.cat.codes\n",
    "targetcode.unique()\n"
   ],
   "metadata": {
    "collapsed": false,
    "ExecuteTime": {
     "end_time": "2024-02-24T13:48:48.254669300Z",
     "start_time": "2024-02-24T13:48:48.211391300Z"
    }
   },
   "id": "352e7e1b7343f9f4",
   "execution_count": 10
  },
  {
   "cell_type": "markdown",
   "source": [
    "## 학습을 진행\n",
    "- 알고리즘 구현 인스턴스 생성 => 지도학습 - 분류 알고리즘 중 선택 (KNN)\n",
    "- 학습 진행 메서드 => fit()"
   ],
   "metadata": {
    "collapsed": false
   },
   "id": "895522a7cbbc246d"
  },
  {
   "cell_type": "code",
   "outputs": [
    {
     "data": {
      "text/plain": "KNeighborsClassifier(n_jobs=-1)",
      "text/html": "<style>#sk-container-id-1 {color: black;}#sk-container-id-1 pre{padding: 0;}#sk-container-id-1 div.sk-toggleable {background-color: white;}#sk-container-id-1 label.sk-toggleable__label {cursor: pointer;display: block;width: 100%;margin-bottom: 0;padding: 0.3em;box-sizing: border-box;text-align: center;}#sk-container-id-1 label.sk-toggleable__label-arrow:before {content: \"▸\";float: left;margin-right: 0.25em;color: #696969;}#sk-container-id-1 label.sk-toggleable__label-arrow:hover:before {color: black;}#sk-container-id-1 div.sk-estimator:hover label.sk-toggleable__label-arrow:before {color: black;}#sk-container-id-1 div.sk-toggleable__content {max-height: 0;max-width: 0;overflow: hidden;text-align: left;background-color: #f0f8ff;}#sk-container-id-1 div.sk-toggleable__content pre {margin: 0.2em;color: black;border-radius: 0.25em;background-color: #f0f8ff;}#sk-container-id-1 input.sk-toggleable__control:checked~div.sk-toggleable__content {max-height: 200px;max-width: 100%;overflow: auto;}#sk-container-id-1 input.sk-toggleable__control:checked~label.sk-toggleable__label-arrow:before {content: \"▾\";}#sk-container-id-1 div.sk-estimator input.sk-toggleable__control:checked~label.sk-toggleable__label {background-color: #d4ebff;}#sk-container-id-1 div.sk-label input.sk-toggleable__control:checked~label.sk-toggleable__label {background-color: #d4ebff;}#sk-container-id-1 input.sk-hidden--visually {border: 0;clip: rect(1px 1px 1px 1px);clip: rect(1px, 1px, 1px, 1px);height: 1px;margin: -1px;overflow: hidden;padding: 0;position: absolute;width: 1px;}#sk-container-id-1 div.sk-estimator {font-family: monospace;background-color: #f0f8ff;border: 1px dotted black;border-radius: 0.25em;box-sizing: border-box;margin-bottom: 0.5em;}#sk-container-id-1 div.sk-estimator:hover {background-color: #d4ebff;}#sk-container-id-1 div.sk-parallel-item::after {content: \"\";width: 100%;border-bottom: 1px solid gray;flex-grow: 1;}#sk-container-id-1 div.sk-label:hover label.sk-toggleable__label {background-color: #d4ebff;}#sk-container-id-1 div.sk-serial::before {content: \"\";position: absolute;border-left: 1px solid gray;box-sizing: border-box;top: 0;bottom: 0;left: 50%;z-index: 0;}#sk-container-id-1 div.sk-serial {display: flex;flex-direction: column;align-items: center;background-color: white;padding-right: 0.2em;padding-left: 0.2em;position: relative;}#sk-container-id-1 div.sk-item {position: relative;z-index: 1;}#sk-container-id-1 div.sk-parallel {display: flex;align-items: stretch;justify-content: center;background-color: white;position: relative;}#sk-container-id-1 div.sk-item::before, #sk-container-id-1 div.sk-parallel-item::before {content: \"\";position: absolute;border-left: 1px solid gray;box-sizing: border-box;top: 0;bottom: 0;left: 50%;z-index: -1;}#sk-container-id-1 div.sk-parallel-item {display: flex;flex-direction: column;z-index: 1;position: relative;background-color: white;}#sk-container-id-1 div.sk-parallel-item:first-child::after {align-self: flex-end;width: 50%;}#sk-container-id-1 div.sk-parallel-item:last-child::after {align-self: flex-start;width: 50%;}#sk-container-id-1 div.sk-parallel-item:only-child::after {width: 0;}#sk-container-id-1 div.sk-dashed-wrapped {border: 1px dashed gray;margin: 0 0.4em 0.5em 0.4em;box-sizing: border-box;padding-bottom: 0.4em;background-color: white;}#sk-container-id-1 div.sk-label label {font-family: monospace;font-weight: bold;display: inline-block;line-height: 1.2em;}#sk-container-id-1 div.sk-label-container {text-align: center;}#sk-container-id-1 div.sk-container {/* jupyter's `normalize.less` sets `[hidden] { display: none; }` but bootstrap.min.css set `[hidden] { display: none !important; }` so we also need the `!important` here to be able to override the default hidden behavior on the sphinx rendered scikit-learn.org. See: https://github.com/scikit-learn/scikit-learn/issues/21755 */display: inline-block !important;position: relative;}#sk-container-id-1 div.sk-text-repr-fallback {display: none;}</style><div id=\"sk-container-id-1\" class=\"sk-top-container\"><div class=\"sk-text-repr-fallback\"><pre>KNeighborsClassifier(n_jobs=-1)</pre><b>In a Jupyter environment, please rerun this cell to show the HTML representation or trust the notebook. <br />On GitHub, the HTML representation is unable to render, please try loading this page with nbviewer.org.</b></div><div class=\"sk-container\" hidden><div class=\"sk-item\"><div class=\"sk-estimator sk-toggleable\"><input class=\"sk-toggleable__control sk-hidden--visually\" id=\"sk-estimator-id-1\" type=\"checkbox\" checked><label for=\"sk-estimator-id-1\" class=\"sk-toggleable__label sk-toggleable__label-arrow\">KNeighborsClassifier</label><div class=\"sk-toggleable__content\"><pre>KNeighborsClassifier(n_jobs=-1)</pre></div></div></div></div></div>"
     },
     "execution_count": 11,
     "metadata": {},
     "output_type": "execute_result"
    }
   ],
   "source": [
    "# KNN 인스턴스 생성\n",
    "from sklearn.neighbors import KNeighborsClassifier\n",
    "knn = KNeighborsClassifier(n_jobs=-1)\n",
    "knn\n"
   ],
   "metadata": {
    "collapsed": false,
    "ExecuteTime": {
     "end_time": "2024-02-24T13:48:48.256793800Z",
     "start_time": "2024-02-24T13:48:48.216371700Z"
    }
   },
   "id": "a696f0b00b77d413",
   "execution_count": 11
  },
  {
   "cell_type": "code",
   "outputs": [
    {
     "data": {
      "text/plain": "KNeighborsClassifier(n_jobs=-1)",
      "text/html": "<style>#sk-container-id-2 {color: black;}#sk-container-id-2 pre{padding: 0;}#sk-container-id-2 div.sk-toggleable {background-color: white;}#sk-container-id-2 label.sk-toggleable__label {cursor: pointer;display: block;width: 100%;margin-bottom: 0;padding: 0.3em;box-sizing: border-box;text-align: center;}#sk-container-id-2 label.sk-toggleable__label-arrow:before {content: \"▸\";float: left;margin-right: 0.25em;color: #696969;}#sk-container-id-2 label.sk-toggleable__label-arrow:hover:before {color: black;}#sk-container-id-2 div.sk-estimator:hover label.sk-toggleable__label-arrow:before {color: black;}#sk-container-id-2 div.sk-toggleable__content {max-height: 0;max-width: 0;overflow: hidden;text-align: left;background-color: #f0f8ff;}#sk-container-id-2 div.sk-toggleable__content pre {margin: 0.2em;color: black;border-radius: 0.25em;background-color: #f0f8ff;}#sk-container-id-2 input.sk-toggleable__control:checked~div.sk-toggleable__content {max-height: 200px;max-width: 100%;overflow: auto;}#sk-container-id-2 input.sk-toggleable__control:checked~label.sk-toggleable__label-arrow:before {content: \"▾\";}#sk-container-id-2 div.sk-estimator input.sk-toggleable__control:checked~label.sk-toggleable__label {background-color: #d4ebff;}#sk-container-id-2 div.sk-label input.sk-toggleable__control:checked~label.sk-toggleable__label {background-color: #d4ebff;}#sk-container-id-2 input.sk-hidden--visually {border: 0;clip: rect(1px 1px 1px 1px);clip: rect(1px, 1px, 1px, 1px);height: 1px;margin: -1px;overflow: hidden;padding: 0;position: absolute;width: 1px;}#sk-container-id-2 div.sk-estimator {font-family: monospace;background-color: #f0f8ff;border: 1px dotted black;border-radius: 0.25em;box-sizing: border-box;margin-bottom: 0.5em;}#sk-container-id-2 div.sk-estimator:hover {background-color: #d4ebff;}#sk-container-id-2 div.sk-parallel-item::after {content: \"\";width: 100%;border-bottom: 1px solid gray;flex-grow: 1;}#sk-container-id-2 div.sk-label:hover label.sk-toggleable__label {background-color: #d4ebff;}#sk-container-id-2 div.sk-serial::before {content: \"\";position: absolute;border-left: 1px solid gray;box-sizing: border-box;top: 0;bottom: 0;left: 50%;z-index: 0;}#sk-container-id-2 div.sk-serial {display: flex;flex-direction: column;align-items: center;background-color: white;padding-right: 0.2em;padding-left: 0.2em;position: relative;}#sk-container-id-2 div.sk-item {position: relative;z-index: 1;}#sk-container-id-2 div.sk-parallel {display: flex;align-items: stretch;justify-content: center;background-color: white;position: relative;}#sk-container-id-2 div.sk-item::before, #sk-container-id-2 div.sk-parallel-item::before {content: \"\";position: absolute;border-left: 1px solid gray;box-sizing: border-box;top: 0;bottom: 0;left: 50%;z-index: -1;}#sk-container-id-2 div.sk-parallel-item {display: flex;flex-direction: column;z-index: 1;position: relative;background-color: white;}#sk-container-id-2 div.sk-parallel-item:first-child::after {align-self: flex-end;width: 50%;}#sk-container-id-2 div.sk-parallel-item:last-child::after {align-self: flex-start;width: 50%;}#sk-container-id-2 div.sk-parallel-item:only-child::after {width: 0;}#sk-container-id-2 div.sk-dashed-wrapped {border: 1px dashed gray;margin: 0 0.4em 0.5em 0.4em;box-sizing: border-box;padding-bottom: 0.4em;background-color: white;}#sk-container-id-2 div.sk-label label {font-family: monospace;font-weight: bold;display: inline-block;line-height: 1.2em;}#sk-container-id-2 div.sk-label-container {text-align: center;}#sk-container-id-2 div.sk-container {/* jupyter's `normalize.less` sets `[hidden] { display: none; }` but bootstrap.min.css set `[hidden] { display: none !important; }` so we also need the `!important` here to be able to override the default hidden behavior on the sphinx rendered scikit-learn.org. See: https://github.com/scikit-learn/scikit-learn/issues/21755 */display: inline-block !important;position: relative;}#sk-container-id-2 div.sk-text-repr-fallback {display: none;}</style><div id=\"sk-container-id-2\" class=\"sk-top-container\"><div class=\"sk-text-repr-fallback\"><pre>KNeighborsClassifier(n_jobs=-1)</pre><b>In a Jupyter environment, please rerun this cell to show the HTML representation or trust the notebook. <br />On GitHub, the HTML representation is unable to render, please try loading this page with nbviewer.org.</b></div><div class=\"sk-container\" hidden><div class=\"sk-item\"><div class=\"sk-estimator sk-toggleable\"><input class=\"sk-toggleable__control sk-hidden--visually\" id=\"sk-estimator-id-2\" type=\"checkbox\" checked><label for=\"sk-estimator-id-2\" class=\"sk-toggleable__label sk-toggleable__label-arrow\">KNeighborsClassifier</label><div class=\"sk-toggleable__content\"><pre>KNeighborsClassifier(n_jobs=-1)</pre></div></div></div></div></div>"
     },
     "execution_count": 12,
     "metadata": {},
     "output_type": "execute_result"
    }
   ],
   "source": [
    "# KNN 학습 진행\n",
    "# 차원을 맞춰주어야 함\n",
    "# KNN에서 feature는 2차원, targetcode 는 1차원\n",
    "knn.fit(feature, targetcode)"
   ],
   "metadata": {
    "collapsed": false,
    "ExecuteTime": {
     "end_time": "2024-02-24T13:48:48.258781600Z",
     "start_time": "2024-02-24T13:48:48.222611800Z"
    }
   },
   "id": "adb849dd5a0886fc",
   "execution_count": 12
  },
  {
   "cell_type": "code",
   "outputs": [
    {
     "name": "stdout",
     "output_type": "stream",
     "text": [
      "[0 5]\n",
      "['Weight' 'Length']\n",
      "2\n"
     ]
    }
   ],
   "source": [
    "#KNN 학습 후 속성값\n",
    "print(knn.classes_)\n",
    "print(knn.feature_names_in_)\n",
    "print(knn.n_features_in_)\n"
   ],
   "metadata": {
    "collapsed": false,
    "ExecuteTime": {
     "end_time": "2024-02-24T13:48:48.267904500Z",
     "start_time": "2024-02-24T13:48:48.230346700Z"
    }
   },
   "id": "e0cc1a59027fc06a",
   "execution_count": 13
  },
  {
   "cell_type": "markdown",
   "source": [
    "## 학습 후 검사 즉 테스트 => 메서드 : score\n",
    "- 결과 값 : 0.0 ~ 1.0 (100%)\n",
    "- 사용데이터 : 학습에 사용되지 않는 데이터"
   ],
   "metadata": {
    "collapsed": false
   },
   "id": "cc3b9f75251358ee"
  },
  {
   "cell_type": "code",
   "outputs": [
    {
     "data": {
      "text/plain": "1.0"
     },
     "execution_count": 14,
     "metadata": {},
     "output_type": "execute_result"
    }
   ],
   "source": [
    "knn.score(feature, targetcode)"
   ],
   "metadata": {
    "collapsed": false,
    "ExecuteTime": {
     "end_time": "2024-02-24T13:48:48.345594100Z",
     "start_time": "2024-02-24T13:48:48.233595900Z"
    }
   },
   "id": "19a72c736d1c6f0",
   "execution_count": 14
  },
  {
   "cell_type": "markdown",
   "source": [
    "## 예측 즉 서비스에 모델 활용 시 사용 => 메서드 : predict()\n",
    "- 조건 : 학습 시 전달된 데이터와 동일한 형태의 데이터 전달"
   ],
   "metadata": {
    "collapsed": false
   },
   "id": "e935d0e45ddba0a2"
  },
  {
   "cell_type": "code",
   "outputs": [
    {
     "data": {
      "text/plain": "array([0], dtype=int8)"
     },
     "execution_count": 15,
     "metadata": {},
     "output_type": "execute_result"
    }
   ],
   "source": [
    "import numpy as np\n",
    "new_data = pd.DataFrame([[800.8, 40]], columns=['Weight', 'Length'])\n",
    "\n",
    "\n",
    "# [무게, 길이]\n",
    "# 학습 시 제공된 데이터와 동일한 형태로 제공\n",
    "pred_y = knn.predict(new_data)\n",
    "pred_y\n"
   ],
   "metadata": {
    "collapsed": false,
    "ExecuteTime": {
     "end_time": "2024-02-24T13:48:48.349585100Z",
     "start_time": "2024-02-24T13:48:48.253166400Z"
    }
   },
   "id": "bc52bbf9cbb49601",
   "execution_count": 15
  },
  {
   "cell_type": "code",
   "outputs": [
    {
     "data": {
      "text/plain": "array([[1., 0.]])"
     },
     "execution_count": 16,
     "metadata": {},
     "output_type": "execute_result"
    }
   ],
   "source": [
    "\n",
    "knn.predict_proba(new_data)"
   ],
   "metadata": {
    "collapsed": false,
    "ExecuteTime": {
     "end_time": "2024-02-24T13:48:48.365621500Z",
     "start_time": "2024-02-24T13:48:48.264690100Z"
    }
   },
   "id": "1ff5626db12bab4",
   "execution_count": 16
  },
  {
   "cell_type": "markdown",
   "source": [
    "### getter/setter 메서드\n",
    "=> 속성값 설정 => setter메서드 set_속성명\n",
    "=> 속성값 읽기 => getter메서드 get_속성명"
   ],
   "metadata": {
    "collapsed": false
   },
   "id": "223ed56adb74f278"
  },
  {
   "cell_type": "code",
   "outputs": [
    {
     "data": {
      "text/plain": "(array([[ 49.36233382,  75.96472866,  80.95455515,  86.89211702,\n         100.92393175]]),\n array([[26, 23, 24, 25, 22]], dtype=int64))"
     },
     "execution_count": 17,
     "metadata": {},
     "output_type": "execute_result"
    }
   ],
   "source": [
    "# 데이터와 최근접 이웃 데이터\n",
    "knn.kneighbors(new_data)"
   ],
   "metadata": {
    "collapsed": false,
    "ExecuteTime": {
     "end_time": "2024-02-24T13:48:48.385610300Z",
     "start_time": "2024-02-24T13:48:48.276987100Z"
    }
   },
   "id": "81b2b0b1c3233dfa",
   "execution_count": 17
  },
  {
   "cell_type": "code",
   "outputs": [
    {
     "data": {
      "text/plain": "RangeIndex(start=0, stop=47, step=1)"
     },
     "execution_count": 18,
     "metadata": {},
     "output_type": "execute_result"
    }
   ],
   "source": [
    "feature.index"
   ],
   "metadata": {
    "collapsed": false,
    "ExecuteTime": {
     "end_time": "2024-02-24T13:48:48.387814900Z",
     "start_time": "2024-02-24T13:48:48.285997600Z"
    }
   },
   "id": "6463e1672e7fd12c",
   "execution_count": 18
  },
  {
   "cell_type": "code",
   "outputs": [
    {
     "name": "stdout",
     "output_type": "stream",
     "text": [
      "[[1. 0.]] (array([[ 49.36233382,  75.96472866,  80.95455515,  86.89211702,\n",
      "        100.92393175]]), array([[26, 23, 24, 25, 22]], dtype=int64))\n"
     ]
    }
   ],
   "source": [
    "# 데이터와 최근접 이웃 데이터 찾기\n",
    "# 반환값 : 거리, 원소번호\n",
    "# inputdata = [20,500]\n",
    "result = knn.kneighbors(new_data)\n",
    "# result\n",
    "\n",
    "print(knn.predict_proba(new_data), result)\n",
    "\n",
    "\n"
   ],
   "metadata": {
    "collapsed": false,
    "ExecuteTime": {
     "end_time": "2024-02-24T13:48:48.388811700Z",
     "start_time": "2024-02-24T13:48:48.289410800Z"
    }
   },
   "id": "66f2e296870a93a8",
   "execution_count": 19
  },
  {
   "cell_type": "code",
   "outputs": [
    {
     "data": {
      "text/plain": "[26, 23, 24, 25, 22]"
     },
     "execution_count": 20,
     "metadata": {},
     "output_type": "execute_result"
    }
   ],
   "source": [
    "list(result[1][0])"
   ],
   "metadata": {
    "collapsed": false,
    "ExecuteTime": {
     "end_time": "2024-02-24T13:48:48.388811700Z",
     "start_time": "2024-02-24T13:48:48.305561Z"
    }
   },
   "id": "520915a7d8c98b53",
   "execution_count": 20
  },
  {
   "cell_type": "code",
   "outputs": [
    {
     "data": {
      "text/plain": "<Figure size 640x480 with 1 Axes>",
      "image/png": "[encoded data removed]"
     },
     "metadata": {},
     "output_type": "display_data"
    }
   ],
   "source": [
    "mask = twoFishDf.index.isin(result[1][0])\n",
    "\n",
    "plt.scatter(\n",
    "    y = twoFishDf['Length'],\n",
    "    x = twoFishDf['Weight']\n",
    ")\n",
    "plt.plot(new_data['Weight'],new_data['Length'], 'go')\n",
    "plt.plot(twoFishDf[mask]['Weight'], twoFishDf[mask]['Length'], 'ro')\n",
    "plt.show()"
   ],
   "metadata": {
    "collapsed": false,
    "ExecuteTime": {
     "end_time": "2024-02-24T13:48:48.463487200Z",
     "start_time": "2024-02-24T13:48:48.310103600Z"
    }
   },
   "id": "d7948e36f00c86b8",
   "execution_count": 21
  },
  {
   "cell_type": "code",
   "outputs": [],
   "source": [],
   "metadata": {
    "collapsed": false,
    "ExecuteTime": {
     "end_time": "2024-02-24T13:48:48.463487200Z",
     "start_time": "2024-02-24T13:48:48.443430500Z"
    }
   },
   "id": "7fc4ac28b96ac5f4",
   "execution_count": 21
  },
  {
   "cell_type": "code",
   "outputs": [],
   "source": [],
   "metadata": {
    "collapsed": false,
    "ExecuteTime": {
     "end_time": "2024-02-24T13:48:48.463487200Z",
     "start_time": "2024-02-24T13:48:48.445691400Z"
    }
   },
   "id": "dfd3c773dadc639",
   "execution_count": 21
  },
  {
   "cell_type": "code",
   "outputs": [],
   "source": [],
   "metadata": {
    "collapsed": false,
    "ExecuteTime": {
     "end_time": "2024-02-24T13:48:48.464994400Z",
     "start_time": "2024-02-24T13:48:48.447956600Z"
    }
   },
   "id": "259a4cc52e7f952e",
   "execution_count": 21
  },
  {
   "cell_type": "code",
   "outputs": [],
   "source": [],
   "metadata": {
    "collapsed": false,
    "ExecuteTime": {
     "end_time": "2024-02-24T13:48:48.464994400Z",
     "start_time": "2024-02-24T13:48:48.449471700Z"
    }
   },
   "id": "899c6138c2594ea7",
   "execution_count": 21
  }
 ],
 "metadata": {
  "kernelspec": {
   "display_name": "Python 3",
   "language": "python",
   "name": "python3"
  },
  "language_info": {
   "codemirror_mode": {
    "name": "ipython",
    "version": 2
   },
   "file_extension": ".py",
   "mimetype": "text/x-python",
   "name": "python",
   "nbconvert_exporter": "python",
   "pygments_lexer": "ipython2",
   "version": "2.7.6"
  }
 },
 "nbformat": 4,
 "nbformat_minor": 5
}
