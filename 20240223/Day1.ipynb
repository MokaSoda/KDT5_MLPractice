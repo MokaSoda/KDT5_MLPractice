{
 "cells": [
  {
   "cell_type": "code",
   "execution_count": 1,
   "id": "initial_id",
   "metadata": {
    "collapsed": true,
    "ExecuteTime": {
     "end_time": "2024-02-23T02:02:42.101402900Z",
     "start_time": "2024-02-23T02:02:41.811915500Z"
    }
   },
   "outputs": [
    {
     "name": "stdout",
     "output_type": "stream",
     "text": [
      "pandas version: 2.0.3\n",
      "sklearn version: 1.3.0\n",
      "matplotlib version: 3.7.2\n",
      "seaborn version: 0.12.2\n",
      "beautifulsoup4 version: 4.12.2\n"
     ]
    }
   ],
   "source": [
    "import pandas as pd\n",
    "import sklearn\n",
    "import matplotlib\n",
    "import seaborn as sns\n",
    "import bs4\n",
    "\n",
    "\n",
    "# check above module version\n",
    "print(f'pandas version: {pd.__version__}')\n",
    "print(f'sklearn version: {sklearn.__version__}')\n",
    "print(f'matplotlib version: {matplotlib.__version__}')\n",
    "print(f'seaborn version: {sns.__version__}')\n",
    "print(f'beautifulsoup4 version: {bs4.__version__}')"
   ]
  },
  {
   "cell_type": "markdown",
   "source": [
    "## 클래스의 생성\n",
    "\n",
    "- 클래스의 구성요소 : 속성 + 메서드 ==> 모두 없는 클래스\n",
    "- 기본 상속 : Object ==> __속성명__,  __메서드명__()\n"
   ],
   "metadata": {
    "collapsed": false
   },
   "id": "4d8f9a4efa26d256"
  },
  {
   "cell_type": "code",
   "outputs": [],
   "source": [
    "class A:\n",
    "    pass"
   ],
   "metadata": {
    "collapsed": false,
    "ExecuteTime": {
     "end_time": "2024-02-23T02:02:42.101908700Z",
     "start_time": "2024-02-23T02:02:42.095004700Z"
    }
   },
   "id": "5903165d3bf23c15",
   "execution_count": 2
  },
  {
   "cell_type": "markdown",
   "source": [
    "- 생성 함수 : 새변수 = 클래스이름()"
   ],
   "metadata": {
    "collapsed": false
   },
   "id": "275ee221cce7537f"
  },
  {
   "cell_type": "code",
   "outputs": [],
   "source": [
    "class B:\n",
    "    \n",
    "    # 인스턴스 객체 생성 및 속성 초기화 메서드\n",
    "    def __init__(self, num, name):\n",
    "        # self로 지정된 힙 메모리 주소에서 부터 속성 저장\n",
    "        self.num = num\n",
    "        self.name = name\n",
    "    \n",
    "    # 인스턴스 메서드\n",
    "    \n",
    "    # getter setter using decorator @\n",
    "    \n",
    "    # 인스턴스 메서드 호출\n",
    "    def print_all(self):\n",
    "        print(self.num)\n",
    "        print(self.name)\n",
    "        \n",
    "    def __add__(self, other):\n",
    "        print('__add__')\n",
    "    \n",
    "    def __mul__(self, other):\n",
    "        return self.num + other.num\n",
    "    \n",
    "        \n",
    "    "
   ],
   "metadata": {
    "collapsed": false,
    "ExecuteTime": {
     "end_time": "2024-02-23T02:07:33.982345Z",
     "start_time": "2024-02-23T02:07:33.973908Z"
    }
   },
   "id": "8fbe827b6461dfcb",
   "execution_count": 28
  },
  {
   "cell_type": "code",
   "outputs": [],
   "source": [
    "a1 = A()"
   ],
   "metadata": {
    "collapsed": false,
    "ExecuteTime": {
     "end_time": "2024-02-23T02:02:42.112962900Z",
     "start_time": "2024-02-23T02:02:42.107209700Z"
    }
   },
   "id": "e39a2874ed9e6657",
   "execution_count": 4
  },
  {
   "cell_type": "markdown",
   "source": [
    "- 객체/인스턴스의 속성/메서드 사용\n",
    "- => 사용 방법 : 객체/인스턴스 변수명.속성\n",
    "                객체/인스턴스 변수명.메서드()"
   ],
   "metadata": {
    "collapsed": false
   },
   "id": "9bf0c2cc72c981b8"
  },
  {
   "cell_type": "code",
   "outputs": [
    {
     "name": "stdout",
     "output_type": "stream",
     "text": [
      "{} A인스턴스 a1\n"
     ]
    }
   ],
   "source": [
    "print(a1.__dict__ , 'A인스턴스 a1')"
   ],
   "metadata": {
    "collapsed": false,
    "ExecuteTime": {
     "end_time": "2024-02-23T02:02:42.146767300Z",
     "start_time": "2024-02-23T02:02:42.112020100Z"
    }
   },
   "id": "ada45b691764bd99",
   "execution_count": 5
  },
  {
   "cell_type": "code",
   "outputs": [
    {
     "name": "stdout",
     "output_type": "stream",
     "text": [
      "{'__module__': '__main__', '__dict__': <attribute '__dict__' of 'A' objects>, '__weakref__': <attribute '__weakref__' of 'A' objects>, '__doc__': None}  ===> A 클래스\n"
     ]
    }
   ],
   "source": [
    "print(A.__dict__, ' ===> A 클래스')"
   ],
   "metadata": {
    "collapsed": false,
    "ExecuteTime": {
     "end_time": "2024-02-23T02:02:42.147772300Z",
     "start_time": "2024-02-23T02:02:42.117649400Z"
    }
   },
   "id": "6b6a08e435a6d3dc",
   "execution_count": 6
  },
  {
   "cell_type": "code",
   "outputs": [
    {
     "name": "stdout",
     "output_type": "stream",
     "text": [
      "__new__\n",
      "__repr__\n",
      "__hash__\n",
      "__str__\n",
      "__getattribute__\n",
      "__lt__\n",
      "__le__\n",
      "__eq__\n",
      "__ne__\n",
      "__gt__\n",
      "__ge__\n",
      "__iter__\n",
      "__mod__\n",
      "__rmod__\n",
      "__len__\n",
      "__getitem__\n",
      "__add__\n",
      "__mul__\n",
      "__rmul__\n",
      "__contains__\n",
      "encode\n",
      "replace\n",
      "split\n",
      "rsplit\n",
      "join\n",
      "capitalize\n",
      "casefold\n",
      "title\n",
      "center\n",
      "count\n",
      "expandtabs\n",
      "find\n",
      "partition\n",
      "index\n",
      "ljust\n",
      "lower\n",
      "lstrip\n",
      "rfind\n",
      "rindex\n",
      "rjust\n",
      "rstrip\n",
      "rpartition\n",
      "splitlines\n",
      "strip\n",
      "swapcase\n",
      "translate\n",
      "upper\n",
      "startswith\n",
      "endswith\n",
      "removeprefix\n",
      "removesuffix\n",
      "isascii\n",
      "islower\n",
      "isupper\n",
      "istitle\n",
      "isspace\n",
      "isdecimal\n",
      "isdigit\n",
      "isnumeric\n",
      "isalpha\n",
      "isalnum\n",
      "isidentifier\n",
      "isprintable\n",
      "zfill\n",
      "format\n",
      "format_map\n",
      "__format__\n",
      "maketrans\n",
      "__sizeof__\n",
      "__getnewargs__\n",
      "__doc__\n",
      "__setattr__\n",
      "__delattr__\n",
      "__init__\n",
      "__reduce_ex__\n",
      "__reduce__\n",
      "__getstate__\n",
      "__subclasshook__\n",
      "__init_subclass__\n",
      "__dir__\n",
      "__class__\n"
     ]
    },
    {
     "data": {
      "text/plain": "[None,\n None,\n None,\n None,\n None,\n None,\n None,\n None,\n None,\n None,\n None,\n None,\n None,\n None,\n None,\n None,\n None,\n None,\n None,\n None,\n None,\n None,\n None,\n None,\n None,\n None,\n None,\n None,\n None,\n None,\n None,\n None,\n None,\n None,\n None,\n None,\n None,\n None,\n None,\n None,\n None,\n None,\n None,\n None,\n None,\n None,\n None,\n None,\n None,\n None,\n None,\n None,\n None,\n None,\n None,\n None,\n None,\n None,\n None,\n None,\n None,\n None,\n None,\n None,\n None,\n None,\n None,\n None,\n None,\n None,\n None,\n None,\n None,\n None,\n None,\n None,\n None,\n None,\n None,\n None,\n None]"
     },
     "execution_count": 7,
     "metadata": {},
     "output_type": "execute_result"
    }
   ],
   "source": [
    "[print(x) for x in A.__dir__('')]"
   ],
   "metadata": {
    "collapsed": false,
    "ExecuteTime": {
     "end_time": "2024-02-23T02:02:42.149767100Z",
     "start_time": "2024-02-23T02:02:42.121080700Z"
    }
   },
   "id": "c24a204f49fbe882",
   "execution_count": 7
  },
  {
   "cell_type": "code",
   "outputs": [],
   "source": [
    "#a1.__dir__()"
   ],
   "metadata": {
    "collapsed": false,
    "ExecuteTime": {
     "end_time": "2024-02-23T02:02:42.166433200Z",
     "start_time": "2024-02-23T02:02:42.132952900Z"
    }
   },
   "id": "7a6bdf81481e0685",
   "execution_count": 8
  },
  {
   "cell_type": "code",
   "outputs": [
    {
     "name": "stdout",
     "output_type": "stream",
     "text": [
      "1\n",
      "2\n"
     ]
    }
   ],
   "source": [
    "# 클래스 생성시  __init__ 에 지정된 파라미터 수만큼 넣음\n",
    "b1 = B(1,2)\n",
    "\n",
    "b1.print_all()"
   ],
   "metadata": {
    "collapsed": false,
    "ExecuteTime": {
     "end_time": "2024-02-23T02:02:42.234645900Z",
     "start_time": "2024-02-23T02:02:42.137164600Z"
    }
   },
   "id": "349d9c213aea0791",
   "execution_count": 9
  },
  {
   "cell_type": "code",
   "outputs": [
    {
     "data": {
      "text/plain": "{'num': 1, 'name': 2}"
     },
     "execution_count": 10,
     "metadata": {},
     "output_type": "execute_result"
    }
   ],
   "source": [
    "# b1의 속성을 출력해줌\n",
    "b1.__dict__\n"
   ],
   "metadata": {
    "collapsed": false,
    "ExecuteTime": {
     "end_time": "2024-02-23T02:02:42.237910700Z",
     "start_time": "2024-02-23T02:02:42.144685400Z"
    }
   },
   "id": "378385dbb3ba8625",
   "execution_count": 10
  },
  {
   "cell_type": "code",
   "outputs": [
    {
     "data": {
      "text/plain": "['num', 'name', 'print_all']"
     },
     "execution_count": 11,
     "metadata": {},
     "output_type": "execute_result"
    }
   ],
   "source": [
    "#b1의 속성과 메서드도 출력\n",
    "[x for x in b1.__dir__() if x.find('__') < 0]"
   ],
   "metadata": {
    "collapsed": false,
    "ExecuteTime": {
     "end_time": "2024-02-23T02:02:42.255880400Z",
     "start_time": "2024-02-23T02:02:42.148767800Z"
    }
   },
   "id": "434897abad4be3b0",
   "execution_count": 11
  },
  {
   "cell_type": "code",
   "outputs": [],
   "source": [
    "class C:\n",
    "    # 클래스 변수 => C 클래스로 생성된 모든 인스턴스에서 공유\n",
    "    loc = '대구'\n",
    "    \n",
    "    def __init__(self, num, name):\n",
    "        self.num = num\n",
    "        self.name = name\n",
    "        \n",
    "    def infoPrint(self):\n",
    "        print(f\"num : {self.num}\")\n",
    "        print(f\"name : {self.name}\")\n",
    "        \n",
    "\n",
    "c1 = C(1000, 'CCC')\n",
    "    \n",
    "    "
   ],
   "metadata": {
    "collapsed": false,
    "ExecuteTime": {
     "end_time": "2024-02-23T02:02:42.256923800Z",
     "start_time": "2024-02-23T02:02:42.158612500Z"
    }
   },
   "id": "775ea395bd309097",
   "execution_count": 12
  },
  {
   "cell_type": "code",
   "outputs": [
    {
     "name": "stdout",
     "output_type": "stream",
     "text": [
      "num : 1000\n",
      "name : CCC\n",
      "CCC\n"
     ]
    }
   ],
   "source": [
    "# 인스턴스 메서드\n",
    "c1.infoPrint()\n",
    "\n",
    "# 인스턴스 속성\n",
    "print(c1.name)"
   ],
   "metadata": {
    "collapsed": false,
    "ExecuteTime": {
     "end_time": "2024-02-23T02:02:42.257923600Z",
     "start_time": "2024-02-23T02:02:42.161538500Z"
    }
   },
   "id": "fd43e17e340631dd",
   "execution_count": 13
  },
  {
   "cell_type": "code",
   "outputs": [
    {
     "name": "stdout",
     "output_type": "stream",
     "text": [
      "C 클래스의 loc =>  대구 대구 <== c1 인스턴스의 loc\n"
     ]
    }
   ],
   "source": [
    "# 클래스 속성 사용\n",
    "print('C 클래스의 loc => ', C.loc, c1.loc, '<== c1 인스턴스의 loc')\n"
   ],
   "metadata": {
    "collapsed": false,
    "ExecuteTime": {
     "end_time": "2024-02-23T02:02:42.257923600Z",
     "start_time": "2024-02-23T02:02:42.170513300Z"
    }
   },
   "id": "9eac284a51f4e7a9",
   "execution_count": 14
  },
  {
   "cell_type": "code",
   "outputs": [
    {
     "name": "stdout",
     "output_type": "stream",
     "text": [
      "num : 1000\n",
      "name : CCC\n"
     ]
    }
   ],
   "source": [
    "# 인스턴스 메서드는 클래스명으로 사용 불가(기본적으로)\n",
    "# 그러나 self 에 인스턴스를 지정하면 사용 가능\n",
    "\n",
    "C.infoPrint(self=c1)"
   ],
   "metadata": {
    "collapsed": false,
    "ExecuteTime": {
     "end_time": "2024-02-23T02:02:42.258923700Z",
     "start_time": "2024-02-23T02:02:42.173467400Z"
    }
   },
   "id": "ffdb9ebf41f04bd4",
   "execution_count": 15
  },
  {
   "cell_type": "code",
   "outputs": [
    {
     "name": "stdout",
     "output_type": "stream",
     "text": [
      "DCalc.brand : CASIO\n",
      "CASIO\n",
      "CASIO\n",
      "<class '__main__.DCalc'>\n",
      "DCalc.addNum(10,20) : 30\n",
      "DCalc.minusNum(10,20)  : -10\n"
     ]
    }
   ],
   "source": [
    "class DCalc:\n",
    "    brand = 'CASIO'\n",
    "    \n",
    "    \n",
    "    @classmethod\n",
    "    def addNum(cls, a, b):\n",
    "        print(cls.brand)\n",
    "        print(DCalc.brand)\n",
    "        print(cls)\n",
    "        # print(cls.addNum(a, b))\n",
    "        return a + b\n",
    "    \n",
    "    @classmethod\n",
    "    def minusNum(cls, a, b):\n",
    "        return a - b\n",
    "    \n",
    "    \n",
    "# 클래스 속성 및 메서드 사용 \n",
    "\n",
    "print(f\"DCalc.brand : {DCalc.brand}\")\n",
    "print(f\"DCalc.addNum(10,20) : {DCalc.addNum(10,20)}\")\n",
    "print(f\"DCalc.minusNum(10,20)  : {DCalc.minusNum(10,20)}\") \n"
   ],
   "metadata": {
    "collapsed": false,
    "ExecuteTime": {
     "end_time": "2024-02-23T02:02:42.259923900Z",
     "start_time": "2024-02-23T02:02:42.182622600Z"
    }
   },
   "id": "bc8dcf8dbfc4245b",
   "execution_count": 16
  },
  {
   "cell_type": "code",
   "outputs": [
    {
     "name": "stdout",
     "output_type": "stream",
     "text": [
      "__add__\n"
     ]
    }
   ],
   "source": [
    "# 오버라이딩 연습\n",
    "\n",
    "a1 = A()\n",
    "b1 = B(1,2)\n",
    "b2 = B(1,2)\n",
    "\n",
    "b1+b2\n"
   ],
   "metadata": {
    "collapsed": false,
    "ExecuteTime": {
     "end_time": "2024-02-23T02:07:39.934612900Z",
     "start_time": "2024-02-23T02:07:39.923391300Z"
    }
   },
   "id": "9aa5ad23b7dbf322",
   "execution_count": 30
  },
  {
   "cell_type": "code",
   "outputs": [
    {
     "data": {
      "text/plain": "2"
     },
     "execution_count": 31,
     "metadata": {},
     "output_type": "execute_result"
    }
   ],
   "source": [
    "b1 * b2"
   ],
   "metadata": {
    "collapsed": false,
    "ExecuteTime": {
     "end_time": "2024-02-23T02:07:40.897158400Z",
     "start_time": "2024-02-23T02:07:40.882690600Z"
    }
   },
   "id": "bb9172e34d32cb95",
   "execution_count": 31
  },
  {
   "cell_type": "markdown",
   "source": [
    "## 상속(interitance)\n",
    "- 다중 상속 허용\n",
    "- 문법 : class 자식클래스명(부모1, 부모2, ....)"
   ],
   "metadata": {
    "collapsed": false
   },
   "id": "8ef26a49198a19ba"
  },
  {
   "cell_type": "code",
   "outputs": [],
   "source": [
    "class A:\n",
    "    @classmethod\n",
    "    def infoPrint(cls):\n",
    "        print('TestA')\n",
    "        \n",
    "class B(A):\n",
    "    @classmethod\n",
    "    def infoPrint(cls):\n",
    "        print('TestB')\n",
    "        \n",
    "\n",
    "\n",
    "\n",
    "    "
   ],
   "metadata": {
    "collapsed": false,
    "ExecuteTime": {
     "end_time": "2024-02-23T02:19:30.532529600Z",
     "start_time": "2024-02-23T02:19:30.519257600Z"
    }
   },
   "id": "12f8df8c6357b452",
   "execution_count": 42
  },
  {
   "cell_type": "code",
   "outputs": [
    {
     "name": "stdout",
     "output_type": "stream",
     "text": [
      "TestB\n"
     ]
    }
   ],
   "source": [
    "B.infoPrint()"
   ],
   "metadata": {
    "collapsed": false,
    "ExecuteTime": {
     "end_time": "2024-02-23T02:18:18.780929500Z",
     "start_time": "2024-02-23T02:18:18.771005900Z"
    }
   },
   "id": "183dbf14db56dce6",
   "execution_count": 41
  },
  {
   "cell_type": "code",
   "outputs": [],
   "source": [
    "import seaborn as sns\n",
    "\n",
    "sns.plot"
   ],
   "metadata": {
    "collapsed": false
   },
   "id": "190d63a3496d5085"
  },
  {
   "cell_type": "code",
   "outputs": [
    {
     "name": "stderr",
     "output_type": "stream",
     "text": [
      "Intel(R) Extension for Scikit-learn* enabled (https://github.com/intel/scikit-learn-intelex)\n"
     ]
    }
   ],
   "source": [
    "from sklearnex import patch_sklearn\n",
    "patch_sklearn()"
   ],
   "metadata": {
    "collapsed": false,
    "ExecuteTime": {
     "end_time": "2024-02-23T05:38:17.256247400Z",
     "start_time": "2024-02-23T05:38:16.681750200Z"
    }
   },
   "id": "c73d032e0a58876c",
   "execution_count": 43
  }
 ],
 "metadata": {
  "kernelspec": {
   "display_name": "Python 3",
   "language": "python",
   "name": "python3"
  },
  "language_info": {
   "codemirror_mode": {
    "name": "ipython",
    "version": 2
   },
   "file_extension": ".py",
   "mimetype": "text/x-python",
   "name": "python",
   "nbconvert_exporter": "python",
   "pygments_lexer": "ipython2",
   "version": "2.7.6"
  }
 },
 "nbformat": 4,
 "nbformat_minor": 5
}
