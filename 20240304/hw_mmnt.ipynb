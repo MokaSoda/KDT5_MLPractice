{
 "cells": [
  {
   "cell_type": "markdown",
   "metadata": {},
   "source": [
    "## 분류\n",
    "- 로지스틱\n",
    "- SGD\n",
    "- 과대 과소적합 확인\n",
    "- 최종 예측(이미지 로딩 후 가져오기)"
   ]
  },
  {
   "cell_type": "code",
   "execution_count": 37,
   "metadata": {},
   "outputs": [
    {
     "name": "stderr",
     "output_type": "stream",
     "text": [
      "Intel(R) Extension for Scikit-learn* enabled (https://github.com/intel/scikit-learn-intelex)\n"
     ]
    }
   ],
   "source": [
    "from sklearn.datasets import fetch_openml\n",
    "from sklearnex import patch_sklearn, unpatch_sklearn\n",
    "patch_sklearn()\n",
    "import numpy as np\n",
    "import pandas as pd\n",
    "# import cudf\n",
    "# import cuml"
   ]
  },
  {
   "cell_type": "code",
   "execution_count": 38,
   "metadata": {},
   "outputs": [
    {
     "data": {
      "text/plain": [
       "dict_keys(['data', 'target', 'frame', 'categories', 'feature_names', 'target_names', 'DESCR', 'details', 'url'])"
      ]
     },
     "execution_count": 38,
     "metadata": {},
     "output_type": "execute_result"
    }
   ],
   "source": [
    "numimage = fetch_openml('mnist_784', as_frame=False)\n",
    "numimage.keys()"
   ]
  },
  {
   "cell_type": "code",
   "execution_count": 39,
   "metadata": {},
   "outputs": [
    {
     "data": {
      "text/plain": [
       "numpy.ndarray"
      ]
     },
     "execution_count": 39,
     "metadata": {},
     "output_type": "execute_result"
    }
   ],
   "source": [
    "\n",
    "X = numimage.data\n",
    "y = numimage.target\n",
    "\n",
    "\n",
    "type(X)"
   ]
  },
  {
   "cell_type": "code",
   "execution_count": 40,
   "metadata": {},
   "outputs": [],
   "source": [
    "from sklearn.model_selection import train_test_split\n",
    "\n",
    "X_train, X_test, y_train, y_test = train_test_split(X, y, test_size=0.2, random_state=42, stratify=y)\n"
   ]
  },
  {
   "cell_type": "code",
   "execution_count": 41,
   "metadata": {},
   "outputs": [
    {
     "data": {
      "text/plain": [
       "((56000, 784), (14000, 784))"
      ]
     },
     "execution_count": 41,
     "metadata": {},
     "output_type": "execute_result"
    }
   ],
   "source": [
    "X_train.shape, X_test.shape"
   ]
  },
  {
   "cell_type": "markdown",
   "metadata": {},
   "source": [
    "### SGD 테스트"
   ]
  },
  {
   "cell_type": "code",
   "execution_count": 42,
   "metadata": {},
   "outputs": [
    {
     "name": "stderr",
     "output_type": "stream",
     "text": [
      "/home/portableos/miniconda3/envs/rapids-24.02/lib/python3.9/site-packages/sklearn/linear_model/_stochastic_gradient.py:723: ConvergenceWarning: Maximum number of iteration reached before convergence. Consider increasing max_iter to improve the fit.\n",
      "  warnings.warn(\n"
     ]
    },
    {
     "data": {
      "text/plain": [
       "0.8800714285714286"
      ]
     },
     "execution_count": 42,
     "metadata": {},
     "output_type": "execute_result"
    }
   ],
   "source": [
    "from sklearn.linear_model import SGDClassifier\n",
    "\n",
    "\n",
    "model = SGDClassifier(\n",
    "    loss='log_loss', \n",
    "    n_jobs=-1, \n",
    "    n_iter_no_change=1000, \n",
    "    # max_iter=10**5 ,\n",
    "    random_state=42\n",
    ")\n",
    "model.fit(X_train, y_train)\n",
    "model.score(X_test, y_test)"
   ]
  },
  {
   "cell_type": "code",
   "execution_count": 11,
   "metadata": {},
   "outputs": [
    {
     "name": "stdout",
     "output_type": "stream",
     "text": [
      "accuracy : 0.8800714285714286\n",
      "confusion_matrix : \n",
      "[[1346    0    0    7   10    1    9    0    8    0]\n",
      " [   1 1427    8   47    0    8    5    6   71    2]\n",
      " [  22    5 1103   70   23    7   27   21  114    6]\n",
      " [   7    1   16 1332    5   13    3   11   30   10]\n",
      " [   3    3    1   10 1281    0   12    4   12   39]\n",
      " [  16    2   10  187   29  907   23   12   60   17]\n",
      " [  16    2    3    3   21   20 1295    0   15    0]\n",
      " [   6    2    8   37   23    3    0 1324   17   39]\n",
      " [  13    5    8   92   21   31   10   11 1162   12]\n",
      " [   4    5    2   77   95    9    1   40   14 1144]]\n",
      "classification_report : \n",
      "              precision    recall  f1-score   support\n",
      "\n",
      "           0       0.94      0.97      0.96      1381\n",
      "           1       0.98      0.91      0.94      1575\n",
      "           2       0.95      0.79      0.86      1398\n",
      "           3       0.72      0.93      0.81      1428\n",
      "           4       0.85      0.94      0.89      1365\n",
      "           5       0.91      0.72      0.80      1263\n",
      "           6       0.94      0.94      0.94      1375\n",
      "           7       0.93      0.91      0.92      1459\n",
      "           8       0.77      0.85      0.81      1365\n",
      "           9       0.90      0.82      0.86      1391\n",
      "\n",
      "    accuracy                           0.88     14000\n",
      "   macro avg       0.89      0.88      0.88     14000\n",
      "weighted avg       0.89      0.88      0.88     14000\n",
      "\n"
     ]
    }
   ],
   "source": [
    "# using metrics to evaluate scores\n",
    "from sklearn.metrics import accuracy_score, confusion_matrix, classification_report, f1_score\n",
    "def show_metrics(model, X_test):\n",
    "    y_pred = model.predict(X_test)\n",
    "    scores = [\n",
    "        accuracy_score(y_test, y_pred),\n",
    "    confusion_matrix(y_test, y_pred),\n",
    "    classification_report(y_test, y_pred),\n",
    "    f1_score(y_test, y_pred, average='macro'),\n",
    "    ]\n",
    "\n",
    "    print(f\"accuracy : {scores[0]}\")\n",
    "    print(f\"confusion_matrix : \\n{scores[1]}\")\n",
    "    print(f\"classification_report : \\n{scores[2]}\")\n",
    "\n",
    "show_metrics(model, X_test)"
   ]
  },
  {
   "cell_type": "markdown",
   "metadata": {},
   "source": [
    "### 로지스틱 회귀 테스트\n"
   ]
  },
  {
   "cell_type": "code",
   "execution_count": 43,
   "metadata": {},
   "outputs": [
    {
     "name": "stderr",
     "output_type": "stream",
     "text": [
      "/home/portableos/miniconda3/envs/rapids-24.02/lib/python3.9/site-packages/daal4py/sklearn/linear_model/logistic_path.py:574: ConvergenceWarning: lbfgs failed to converge (status=1):\n",
      "STOP: TOTAL NO. of f AND g EVALUATIONS EXCEEDS LIMIT.\n",
      "\n",
      "Increase the number of iterations (max_iter) or scale the data as shown in:\n",
      "    https://scikit-learn.org/stable/modules/preprocessing.html\n",
      "Please also refer to the documentation for alternative solver options:\n",
      "    https://scikit-learn.org/stable/modules/linear_model.html#logistic-regression\n",
      "  n_iter_i = _check_optimize_result(\n"
     ]
    },
    {
     "data": {
      "text/plain": [
       "0.9145714285714286"
      ]
     },
     "execution_count": 43,
     "metadata": {},
     "output_type": "execute_result"
    }
   ],
   "source": [
    "from sklearn.linear_model import LogisticRegression\n",
    "\n",
    "modelL = LogisticRegression(random_state=42, n_jobs=-1 ,max_iter=10**13)\n",
    "modelL.fit(X_train, y_train)\n",
    "modelL.score(X_test, y_test)"
   ]
  },
  {
   "cell_type": "code",
   "execution_count": 13,
   "metadata": {},
   "outputs": [
    {
     "name": "stdout",
     "output_type": "stream",
     "text": [
      "accuracy : 0.9142142857142858\n",
      "confusion_matrix : \n",
      "[[1331    0    5    2    5   11   11    1   13    2]\n",
      " [   0 1516   10   14    1    7    2    9   14    2]\n",
      " [  12   24 1242   19   15   12   22   20   25    7]\n",
      " [   9    3   36 1272    4   52    3   15   25    9]\n",
      " [   4    8   14    5 1233    0   18    9   12   62]\n",
      " [  14    3    9   46    9 1097   26    7   39   13]\n",
      " [  12    5   12    0   15   19 1304    0    8    0]\n",
      " [   6    7   19    8   12    3    1 1361    4   38]\n",
      " [  11   20   14   36    6   44    9    6 1198   21]\n",
      " [   8   12    3   21   38   11    1   44    8 1245]]\n",
      "classification_report : \n",
      "              precision    recall  f1-score   support\n",
      "\n",
      "           0       0.95      0.96      0.95      1381\n",
      "           1       0.95      0.96      0.96      1575\n",
      "           2       0.91      0.89      0.90      1398\n",
      "           3       0.89      0.89      0.89      1428\n",
      "           4       0.92      0.90      0.91      1365\n",
      "           5       0.87      0.87      0.87      1263\n",
      "           6       0.93      0.95      0.94      1375\n",
      "           7       0.92      0.93      0.93      1459\n",
      "           8       0.89      0.88      0.88      1365\n",
      "           9       0.89      0.90      0.89      1391\n",
      "\n",
      "    accuracy                           0.91     14000\n",
      "   macro avg       0.91      0.91      0.91     14000\n",
      "weighted avg       0.91      0.91      0.91     14000\n",
      "\n"
     ]
    }
   ],
   "source": [
    "show_metrics(modelL, X_test)"
   ]
  },
  {
   "cell_type": "code",
   "execution_count": null,
   "metadata": {},
   "outputs": [],
   "source": []
  },
  {
   "cell_type": "code",
   "execution_count": 24,
   "metadata": {},
   "outputs": [],
   "source": [
    "import cudf\n",
    "def changetocudf(X_train, X_test, y_train, y_test):\n",
    "    X_train = cudf.DataFrame(X_train, dtype=np.float32)\n",
    "    X_test = cudf.DataFrame(X_test,dtype=np.float32)\n",
    "    y_train = cudf.Series(y_train,dtype=np.float32)\n",
    "    y_test = cudf.Series(y_test,dtype=np.float32)\n",
    "    return X_train, X_test, y_train, y_test\n",
    "\n",
    "X_train, X_test, y_train, y_test = changetocudf(X_train, X_test, y_train, y_test)"
   ]
  },
  {
   "cell_type": "code",
   "execution_count": null,
   "metadata": {},
   "outputs": [],
   "source": [
    "\n",
    "\n",
    "# from cuml.linear_model import MBSGDClassifier\n",
    "\n",
    "# modelGPU = MBSGDClassifier(\n",
    "#     # loss='log', \n",
    "#     # penalty='l1',\n",
    "#     # n_iter_no_change=1000, \n",
    "#     # learning_rate='adaptive',\n",
    "#     # alpha=0.0000001,\n",
    "#     # eta0=1,\n",
    "#     # batch_size=4,\n",
    "\n",
    "# )\n",
    "# modelGPU.fit(X_train, y_train)\n",
    "# modelGPU.score(X_test, y_test)\n"
   ]
  },
  {
   "cell_type": "code",
   "execution_count": 8,
   "metadata": {},
   "outputs": [
    {
     "data": {
      "text/plain": [
       "0.9149285554885864"
      ]
     },
     "execution_count": 8,
     "metadata": {},
     "output_type": "execute_result"
    }
   ],
   "source": [
    "from cuml.linear_model import LogisticRegression\n",
    "\n",
    "modelLoGPU = LogisticRegression(penalty='elasticnet',max_iter=10**8, l1_ratio=0.5)\n",
    "modelLoGPU.fit(X_train, y_train)\n",
    "modelLoGPU.score(X_test, y_test)\n"
   ]
  },
  {
   "cell_type": "code",
   "execution_count": 9,
   "metadata": {},
   "outputs": [
    {
     "name": "stdout",
     "output_type": "stream",
     "text": [
      "0.9149285554885864\n",
      "[[1335    0    5    2    6    9    9    1   12    2]\n",
      " [   0 1521    9   13    1    6    3    8   12    2]\n",
      " [  12   22 1243   19   15   14   20   22   25    6]\n",
      " [  10    4   37 1266    3   52    3   17   25   11]\n",
      " [   4    8   13    6 1236    0   18   11   12   57]\n",
      " [  13    2   10   46    8 1098   26    7   39   14]\n",
      " [  12    5   12    0   14   17 1307    0    8    0]\n",
      " [   6    7   18   10   13    1    1 1362    4   37]\n",
      " [  11   22   14   37    6   45    8    4 1199   19]\n",
      " [   8   12    3   21   38   12    1   47    7 1242]]\n"
     ]
    }
   ],
   "source": [
    "from cuml.metrics import accuracy_score, confusion_matrix\n",
    "\n",
    "print(accuracy_score(y_test, modelLoGPU.predict(X_test)))\n",
    "print(confusion_matrix(y_test, modelLoGPU.predict(X_test), convert_dtype=True))"
   ]
  },
  {
   "cell_type": "code",
   "execution_count": 10,
   "metadata": {},
   "outputs": [
    {
     "name": "stdout",
     "output_type": "stream",
     "text": [
      "[W] [07:03:48.783012] L-BFGS stopped, because the line search failed to advance (step delta = 0.000000)\n",
      "[W] [07:03:52.676855] QWL-QN stopped, because the line search failed to advance (step delta = 0.000000)\n",
      "[W] [07:03:56.545063] QWL-QN stopped, because the line search failed to advance (step delta = 0.000000)\n",
      "[W] [07:04:00.247700] QWL-QN stopped, because the line search failed to advance (step delta = 0.000000)\n",
      "[W] [07:04:04.010753] QWL-QN stopped, because the line search failed to advance (step delta = 0.000000)\n",
      "[W] [07:04:10.954996] QWL-QN stopped, because the line search failed to advance (step delta = 0.000000)\n",
      "[W] [07:04:14.332380] QWL-QN stopped, because the line search failed to advance (step delta = 0.000000)\n",
      "[W] [07:04:18.050286] QWL-QN stopped, because the line search failed to advance (step delta = 0.000000)\n",
      "[W] [07:04:21.179184] QWL-QN stopped, because the line search failed to advance (step delta = 0.000000)\n",
      "[W] [07:04:24.904548] QWL-QN stopped, because the line search failed to advance (step delta = 0.000000)\n"
     ]
    },
    {
     "data": {
      "image/png": "[encoded data removed]",
      "text/plain": [
       "<Figure size 640x480 with 1 Axes>"
      ]
     },
     "metadata": {},
     "output_type": "display_data"
    }
   ],
   "source": [
    "trainscore = []\n",
    "testscore = []\n",
    "for num in range(0, 11):\n",
    "    modelLoGPU = LogisticRegression(penalty='elasticnet',max_iter=10**8, l1_ratio=num/10)\n",
    "    modelLoGPU.fit(X_train, y_train)\n",
    "    testscore.append(modelLoGPU.score(X_test, y_test))\n",
    "    trainscore.append(modelLoGPU.score(X_train, y_train))\n",
    "\n",
    "xlabel = [x/10 for x in range(0, 11)]\n",
    "import matplotlib.pyplot as plt\n",
    "plt.plot(xlabel, trainscore, label='train')\n",
    "plt.plot(xlabel, testscore, label='test')\n",
    "plt.legend()\n",
    "plt.title('l1_ratio vs score')\n",
    "plt.xlabel('l1_ratio')\n",
    "plt.ylabel('score')\n",
    "plt.show()\n"
   ]
  },
  {
   "cell_type": "code",
   "execution_count": 30,
   "metadata": {},
   "outputs": [
    {
     "name": "stdout",
     "output_type": "stream",
     "text": [
      "[W] [07:27:12.017291] QWL-QN stopped, because the line search failed to advance (step delta = 0.000000)\n",
      "[W] [07:27:21.963121] QWL-QN stopped, because the line search failed to advance (step delta = 0.000000)\n",
      "[W] [07:27:31.695200] QWL-QN stopped, because the line search failed to advance (step delta = 0.000000)\n",
      "[W] [07:27:35.901440] QWL-QN stopped, because the line search failed to advance (step delta = 0.000000)\n"
     ]
    }
   ],
   "source": [
    "trainscore = []\n",
    "testscore = []\n",
    "for num in range(1, 10):\n",
    "    X_train_new, X_test_new, y_train_new, y_test_new = train_test_split(X, y, train_size=num/10, random_state=42, stratify=y)\n",
    "    X_train_new, X_test_new, y_train_new, y_test_new = changetocudf(X_train_new, X_test_new, y_train_new, y_test_new)\n",
    "    modelLoGPU = LogisticRegression(penalty='elasticnet',max_iter=10**8, l1_ratio=0.1)\n",
    "    modelLoGPU.fit(X_train_new, y_train_new)\n",
    "    testscore.append(modelLoGPU.score(X_test_new, y_test_new))\n",
    "    trainscore.append(modelLoGPU.score(X_train_new, y_train_new))\n"
   ]
  },
  {
   "cell_type": "code",
   "execution_count": 31,
   "metadata": {},
   "outputs": [
    {
     "data": {
      "image/png": "[encoded data removed]",
      "text/plain": [
       "<Figure size 640x480 with 1 Axes>"
      ]
     },
     "metadata": {},
     "output_type": "display_data"
    }
   ],
   "source": [
    "\n",
    "\n",
    "xlabel = [x/10 for x in range(1, 10)]\n",
    "plt.plot(xlabel, trainscore, 'o--', label='train')\n",
    "plt.plot(xlabel, testscore, '^--', label='test')\n",
    "plt.legend()\n",
    "plt.title('trainsize')\n",
    "plt.xlabel('trainsize_ratio')\n",
    "plt.ylabel('score')\n",
    "plt.show()\n"
   ]
  },
  {
   "cell_type": "markdown",
   "metadata": {},
   "source": [
    "### 숫자 nparray 로 변환"
   ]
  },
  {
   "cell_type": "code",
   "execution_count": 26,
   "metadata": {},
   "outputs": [],
   "source": [
    "from PIL import Image\n",
    "im3 = Image.open('numtest.png')\n",
    "\n",
    "img3np = np.array(im3)\n",
    "img3np = img3np.astype(np.int16)\n",
    "test = abs(np.subtract(img3np[:,:,1].reshape(-1), 255))\n",
    "# tttt = X_test[335,:].astype(np.int16)\n",
    "\n",
    "# Image.fromarray(tttt.reshape(28,28)).show()\n",
    "# Image.fromarray(test.reshape(28,28)).show()"
   ]
  },
  {
   "cell_type": "code",
   "execution_count": 36,
   "metadata": {},
   "outputs": [
    {
     "name": "stdout",
     "output_type": "stream",
     "text": [
      "GPULogisticRegression 결과값 :  [3.]\n"
     ]
    }
   ],
   "source": [
    "print('GPULogisticRegression 결과값 : ',modelLoGPU.predict(np.array([test])))"
   ]
  },
  {
   "cell_type": "code",
   "execution_count": 45,
   "metadata": {},
   "outputs": [
    {
     "name": "stdout",
     "output_type": "stream",
     "text": [
      "SGDClassifier 결과값 :  ['3']\n",
      "LogisticRegression 결과값 :  ['3']\n"
     ]
    }
   ],
   "source": [
    "\n",
    "print('SGDClassifier 결과값 : ',model.predict([test]))\n",
    "print('LogisticRegression 결과값 : ',modelL.predict([test]))\n"
   ]
  },
  {
   "cell_type": "code",
   "execution_count": 20,
   "metadata": {},
   "outputs": [
    {
     "data": {
      "text/plain": [
       "array(['5', '5', '5', ..., '5', '5', '5'], dtype=object)"
      ]
     },
     "execution_count": 20,
     "metadata": {},
     "output_type": "execute_result"
    }
   ],
   "source": [
    "newy = y[np.where(y == '5')]\n",
    "newX = X[np.where(y == '5')]\n"
   ]
  },
  {
   "cell_type": "code",
   "execution_count": 16,
   "metadata": {},
   "outputs": [],
   "source": [
    "import pickle\n",
    "\n",
    "with open('model.pkl', 'wb') as f:\n",
    "    f.write(pickle.dumps(model))\n",
    "with open('modelL.pkl', 'wb') as f:\n",
    "    f.write(pickle.dumps(modelL))    "
   ]
  }
 ],
 "metadata": {
  "kernelspec": {
   "display_name": "EXAM_ML",
   "language": "python",
   "name": "python3"
  },
  "language_info": {
   "codemirror_mode": {
    "name": "ipython",
    "version": 3
   },
   "file_extension": ".py",
   "mimetype": "text/x-python",
   "name": "python",
   "nbconvert_exporter": "python",
   "pygments_lexer": "ipython3",
   "version": "3.9.18"
  }
 },
 "nbformat": 4,
 "nbformat_minor": 2
}
