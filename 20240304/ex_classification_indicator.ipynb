{
 "cells": [
  {
   "cell_type": "markdown",
   "metadata": {},
   "source": [
    "## 분류 모델 성능지표\n",
    "- 모델 구현 후 성능 평가 방식\n",
    "- 정확도(Accuracy) : 불균형 데이터에 부적합\n",
    "- 보완 평가 방식 : 정밀도, 재현율, f1점수, 혼동 행렬 테이블"
   ]
  },
  {
   "cell_type": "markdown",
   "metadata": {},
   "source": [
    "\n",
    "### (1) 임시 데이터\n",
    "<hr>\n",
    "\n"
   ]
  },
  {
   "cell_type": "code",
   "execution_count": 2,
   "metadata": {},
   "outputs": [],
   "source": [
    "y_true = [0,1,1,0]\n",
    "y_pred = [1,1,1,0]\n",
    "\n"
   ]
  },
  {
   "cell_type": "markdown",
   "metadata": {},
   "source": [
    "### (2) 분류 평가지표\n",
    "<hr>"
   ]
  },
  {
   "cell_type": "code",
   "execution_count": 10,
   "metadata": {},
   "outputs": [
    {
     "name": "stdout",
     "output_type": "stream",
     "text": [
      "Accuracy :  0.75\n",
      "Precision : 0.67\n",
      "Recall Score :  1.0\n",
      "F1 Score :  0.8\n",
      "Confusion Matrix : \n",
      " [[1 1]\n",
      " [0 2]]\n"
     ]
    }
   ],
   "source": [
    "from sklearn.metrics import accuracy_score, confusion_matrix, recall_score, f1_score, precision_score\n",
    "## 분류 정확도 => accuracy : 불균형 데이터의 경우 모델 평가 지표로 사용 불가 \n",
    "print(\"Accuracy : \", accuracy_score(y_true, y_pred))\n",
    "\n",
    "## 정밀도(true positive rate) => precision\n",
    "## 예측 양성률\n",
    "print(\"Precision : %.2f\"%(precision_score(y_true, y_pred)))\n",
    "\n",
    "# recall score\n",
    "print(\"Recall Score : \", recall_score(y_true, y_pred))\n",
    "\n",
    "# f1 score >> 정밀도와 제현율 상호보완 조화평균\n",
    "print(\"F1 Score : \", f1_score(y_true, y_pred))\n",
    "\n",
    "# confusion matrix\n",
    "print(\"Confusion Matrix : \\n\", confusion_matrix(y_true, y_pred))\n",
    "\n",
    "\n"
   ]
  },
  {
   "cell_type": "code",
   "execution_count": 19,
   "metadata": {},
   "outputs": [
    {
     "name": "stdout",
     "output_type": "stream",
     "text": [
      "정확도 :  0.75\n",
      "정밀도 :  0.6666666666666666\n",
      "f1 score :  0.8\n",
      "재현율 :  1.0\n"
     ]
    },
    {
     "data": {
      "text/plain": [
       "<sklearn.metrics._plot.confusion_matrix.ConfusionMatrixDisplay at 0x2bb0e83ce20>"
      ]
     },
     "execution_count": 19,
     "metadata": {},
     "output_type": "execute_result"
    },
    {
     "data": {
      "image/png": "[encoded data removed]",
      "text/plain": [
       "<Figure size 640x480 with 2 Axes>"
      ]
     },
     "metadata": {},
     "output_type": "display_data"
    }
   ],
   "source": [
    "#### (2-5) 혼돈행렬값 출력 \n",
    "\n",
    "from sklearn.metrics import confusion_matrix, ConfusionMatrixDisplay\n",
    "\n",
    "cm = confusion_matrix(y_true, y_pred)\n",
    "\n",
    "\n",
    "tn, fp, fn, tp = cm.ravel()\n",
    "tn, fp, fn, tp = cm.reshape(-1,)\n",
    "\n",
    "\n",
    "\n",
    "print(\"정확도 : \", (tn + tp)/ (tn + fp + fn + tp))\n",
    "print(\"정밀도 : \", (tp)/ (tp + fp))\n",
    "print(\"f1 score : \", (2/ ((tp + fp) /(tp) + (tp + fn) / (tp))))\n",
    "print(\"재현율 : \", (tp/ (tp + fn)))\n",
    "\n",
    "ConfusionMatrixDisplay(confusion_matrix=cm).plot()"
   ]
  },
  {
   "cell_type": "code",
   "execution_count": null,
   "metadata": {},
   "outputs": [],
   "source": [
    "\n",
    "ConfusionMatrixDisplay(confusion_matrix=cm).plot()"
   ]
  },
  {
   "cell_type": "code",
   "execution_count": 11,
   "metadata": {},
   "outputs": [
    {
     "name": "stderr",
     "output_type": "stream",
     "text": [
      "Intel(R) Extension for Scikit-learn* enabled (https://github.com/intel/scikit-learn-intelex)\n"
     ]
    }
   ],
   "source": [
    "import pandas as pd\n",
    "import numpy as np\n",
    "from sklearnex import patch_sklearn, unpatch_sklearn\n",
    "patch_sklearn()\n",
    "import sklearn\n",
    "import seaborn as sns\n",
    "import matplotlib.pyplot as plt\n",
    "# font to 맑은고딕\n",
    "from matplotlib import font_manager, rc\n",
    "font_path = \"C:/Windows/Fonts/malgun.ttf\"\n",
    "font = font_manager.FontProperties(fname=font_path).get_name()\n",
    "rc('font', family=font)\n"
   ]
  },
  {
   "cell_type": "code",
   "execution_count": null,
   "metadata": {},
   "outputs": [],
   "source": []
  },
  {
   "cell_type": "code",
   "execution_count": null,
   "metadata": {},
   "outputs": [],
   "source": []
  }
 ],
 "metadata": {
  "kernelspec": {
   "display_name": "EXAM_ML",
   "language": "python",
   "name": "python3"
  },
  "language_info": {
   "codemirror_mode": {
    "name": "ipython",
    "version": 3
   },
   "file_extension": ".py",
   "mimetype": "text/x-python",
   "name": "python",
   "nbconvert_exporter": "python",
   "pygments_lexer": "ipython3",
   "version": "3.9.18"
  }
 },
 "nbformat": 4,
 "nbformat_minor": 2
}
