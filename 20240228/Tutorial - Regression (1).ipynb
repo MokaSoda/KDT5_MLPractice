{
 "cells": [
  {
   "attachments": {},
   "cell_type": "markdown",
   "id": "81e0620e",
   "metadata": {},
   "source": [
    "Last updated: 15 Feb 2023\n",
    "\n",
    "# 👋 PyCaret Regression Tutorial\n",
    "\n",
    "PyCaret is an open-source, low-code machine learning library in Python that automates machine learning workflows. It is an end-to-end machine learning and model management tool that exponentially speeds up the experiment cycle and makes you more productive.\n",
    "\n",
    "Compared with the other open-source machine learning libraries, PyCaret is an alternate low-code library that can be used to replace hundreds of lines of code with a few lines only. This makes experiments exponentially fast and efficient. PyCaret is essentially a Python wrapper around several machine learning libraries and frameworks, such as scikit-learn, XGBoost, LightGBM, CatBoost, spaCy, Optuna, Hyperopt, Ray, and a few more.\n",
    "\n",
    "The design and simplicity of PyCaret are inspired by the emerging role of citizen data scientists, a term first used by Gartner. Citizen Data Scientists are power users who can perform both simple and moderately sophisticated analytical tasks that would previously have required more technical expertise.\n"
   ]
  },
  {
   "attachments": {},
   "cell_type": "markdown",
   "id": "8116e19d",
   "metadata": {},
   "source": [
    "# 💻 Installation\n",
    "\n",
    "PyCaret is tested and supported on the following 64-bit systems:\n",
    "- Python 3.7 – 3.10\n",
    "- Python 3.9 for Ubuntu only\n",
    "- Ubuntu 16.04 or later\n",
    "- Windows 7 or later\n",
    "\n",
    "You can install PyCaret with Python's pip package manager:\n",
    "\n",
    "`pip install pycaret`\n",
    "\n",
    "PyCaret's default installation will not install all the extra dependencies automatically. For that you will have to install the full version:\n",
    "\n",
    "`pip install pycaret[full]`\n",
    "\n",
    "or depending on your use-case you may install one of the following variant:\n",
    "\n",
    "- `pip install pycaret[analysis]`\n",
    "- `pip install pycaret[models]`\n",
    "- `pip install pycaret[tuner]`\n",
    "- `pip install pycaret[mlops]`\n",
    "- `pip install pycaret[parallel]`\n",
    "- `pip install pycaret[test]`"
   ]
  },
  {
   "cell_type": "code",
   "execution_count": 4,
   "id": "d7142a33",
   "metadata": {},
   "outputs": [
    {
     "data": {
      "text/plain": [
       "'3.3.0'"
      ]
     },
     "execution_count": 4,
     "metadata": {},
     "output_type": "execute_result"
    }
   ],
   "source": [
    "# check installed version (must be >3.0)\n",
    "import pycaret\n",
    "pycaret.__version__"
   ]
  },
  {
   "attachments": {},
   "cell_type": "markdown",
   "id": "fb66e98d",
   "metadata": {},
   "source": [
    "# 🚀 Quick start"
   ]
  },
  {
   "attachments": {},
   "cell_type": "markdown",
   "id": "00347d44",
   "metadata": {},
   "source": [
    "PyCaret's Regression Module is a supervised machine learning module that is used for estimating the relationships between a dependent variable (often called the outcome variable, or target) and one or more independent variables (often called features, predictors, or covariates). \n",
    "\n",
    "The objective of regression is to predict continuous values such as predicting sales amount, predicting quantity, predicting temperature, etc. Regression module provides several pre-processing features to preprocess the data for modeling through the setup function. \n",
    "\n",
    "PyCaret's regression module has many preprocessing capabilities and it coems with over 25 ready-to-use algorithms and several plots to analyze the performance of trained models. \n",
    "\n",
    "A typical workflow in PyCaret Regression module consist of the following 5 steps in this order:\n",
    "\n",
    "### **Setup** ➡️ **Compare Models** ➡️ **Analyze Model** ➡️ **Prediction** ➡️ **Save Model** \n",
    "<br/>"
   ]
  },
  {
   "cell_type": "code",
   "execution_count": 5,
   "id": "ce748017",
   "metadata": {},
   "outputs": [
    {
     "name": "stderr",
     "output_type": "stream",
     "text": [
      "Intel(R) Extension for Scikit-learn* enabled (https://github.com/intel/scikit-learn-intelex)\n"
     ]
    }
   ],
   "source": [
    "# autoMPG\n",
    "import pandas as pd\n",
    "import numpy as np\n",
    "from sklearnex import patch_sklearn, unpatch_sklearn\n",
    "patch_sklearn()\n",
    "import sklearn\n",
    "import matplotlib.pyplot as plt\n",
    "import matplotlib as mpl\n",
    "# font to 맑은 고딕\n",
    "mpl.rc('font', family='Malgun Gothic')\n",
    "import seaborn as sns\n"
   ]
  },
  {
   "cell_type": "code",
   "execution_count": 6,
   "id": "1b09f8df",
   "metadata": {},
   "outputs": [
    {
     "data": {
      "text/html": [
       "<div>\n",
       "<style scoped>\n",
       "    .dataframe tbody tr th:only-of-type {\n",
       "        vertical-align: middle;\n",
       "    }\n",
       "\n",
       "    .dataframe tbody tr th {\n",
       "        vertical-align: top;\n",
       "    }\n",
       "\n",
       "    .dataframe thead th {\n",
       "        text-align: right;\n",
       "    }\n",
       "</style>\n",
       "<table border=\"1\" class=\"dataframe\">\n",
       "  <thead>\n",
       "    <tr style=\"text-align: right;\">\n",
       "      <th></th>\n",
       "      <th>mpg</th>\n",
       "      <th>cylinders</th>\n",
       "      <th>displacement</th>\n",
       "      <th>horsepower</th>\n",
       "      <th>weight</th>\n",
       "      <th>acceleration</th>\n",
       "      <th>model_year</th>\n",
       "      <th>origin</th>\n",
       "      <th>car_name</th>\n",
       "    </tr>\n",
       "  </thead>\n",
       "  <tbody>\n",
       "    <tr>\n",
       "      <th>0</th>\n",
       "      <td>18.0</td>\n",
       "      <td>8</td>\n",
       "      <td>307.0</td>\n",
       "      <td>130.0</td>\n",
       "      <td>3504.0</td>\n",
       "      <td>12.0</td>\n",
       "      <td>70</td>\n",
       "      <td>1</td>\n",
       "      <td>chevrolet chevelle malibu</td>\n",
       "    </tr>\n",
       "    <tr>\n",
       "      <th>1</th>\n",
       "      <td>15.0</td>\n",
       "      <td>8</td>\n",
       "      <td>350.0</td>\n",
       "      <td>165.0</td>\n",
       "      <td>3693.0</td>\n",
       "      <td>11.5</td>\n",
       "      <td>70</td>\n",
       "      <td>1</td>\n",
       "      <td>buick skylark 320</td>\n",
       "    </tr>\n",
       "    <tr>\n",
       "      <th>2</th>\n",
       "      <td>18.0</td>\n",
       "      <td>8</td>\n",
       "      <td>318.0</td>\n",
       "      <td>150.0</td>\n",
       "      <td>3436.0</td>\n",
       "      <td>11.0</td>\n",
       "      <td>70</td>\n",
       "      <td>1</td>\n",
       "      <td>plymouth satellite</td>\n",
       "    </tr>\n",
       "    <tr>\n",
       "      <th>3</th>\n",
       "      <td>16.0</td>\n",
       "      <td>8</td>\n",
       "      <td>304.0</td>\n",
       "      <td>150.0</td>\n",
       "      <td>3433.0</td>\n",
       "      <td>12.0</td>\n",
       "      <td>70</td>\n",
       "      <td>1</td>\n",
       "      <td>amc rebel sst</td>\n",
       "    </tr>\n",
       "    <tr>\n",
       "      <th>4</th>\n",
       "      <td>17.0</td>\n",
       "      <td>8</td>\n",
       "      <td>302.0</td>\n",
       "      <td>140.0</td>\n",
       "      <td>3449.0</td>\n",
       "      <td>10.5</td>\n",
       "      <td>70</td>\n",
       "      <td>1</td>\n",
       "      <td>ford torino</td>\n",
       "    </tr>\n",
       "  </tbody>\n",
       "</table>\n",
       "</div>"
      ],
      "text/plain": [
       "    mpg  cylinders  displacement horsepower  weight  acceleration  model_year  \\\n",
       "0  18.0          8         307.0      130.0  3504.0          12.0          70   \n",
       "1  15.0          8         350.0      165.0  3693.0          11.5          70   \n",
       "2  18.0          8         318.0      150.0  3436.0          11.0          70   \n",
       "3  16.0          8         304.0      150.0  3433.0          12.0          70   \n",
       "4  17.0          8         302.0      140.0  3449.0          10.5          70   \n",
       "\n",
       "   origin                   car_name  \n",
       "0       1  chevrolet chevelle malibu  \n",
       "1       1          buick skylark 320  \n",
       "2       1         plymouth satellite  \n",
       "3       1              amc rebel sst  \n",
       "4       1                ford torino  "
      ]
     },
     "execution_count": 6,
     "metadata": {},
     "output_type": "execute_result"
    }
   ],
   "source": [
    "### load sample dataset from pycaret dataset module\n",
    "from pycaret.datasets import get_data\n",
    "import pandas as pd\n",
    "\n",
    "url = 'https://archive.ics.uci.edu/ml/machine-learning-databases/auto-mpg/auto-mpg.data'\n",
    "df = pd.read_csv(url, header=None, sep='\\s+')\n",
    "df.columns = ['mpg', 'cylinders', 'displacement', 'horsepower', 'weight', 'acceleration', 'model_year', 'origin', 'car_name']\n",
    "df.head()"
   ]
  },
  {
   "cell_type": "code",
   "execution_count": 7,
   "id": "9c4ebb45",
   "metadata": {},
   "outputs": [
    {
     "name": "stdout",
     "output_type": "stream",
     "text": [
      "<class 'pandas.core.frame.DataFrame'>\n",
      "RangeIndex: 398 entries, 0 to 397\n",
      "Data columns (total 9 columns):\n",
      " #   Column        Non-Null Count  Dtype   \n",
      "---  ------        --------------  -----   \n",
      " 0   mpg           398 non-null    float64 \n",
      " 1   cylinders     398 non-null    int64   \n",
      " 2   displacement  398 non-null    float64 \n",
      " 3   horsepower    398 non-null    object  \n",
      " 4   weight        398 non-null    float64 \n",
      " 5   acceleration  398 non-null    float64 \n",
      " 6   model_year    398 non-null    int64   \n",
      " 7   origin        398 non-null    category\n",
      " 8   car_name      398 non-null    object  \n",
      "dtypes: category(1), float64(4), int64(2), object(2)\n",
      "memory usage: 25.5+ KB\n"
     ]
    },
    {
     "data": {
      "text/html": [
       "<div>\n",
       "<style scoped>\n",
       "    .dataframe tbody tr th:only-of-type {\n",
       "        vertical-align: middle;\n",
       "    }\n",
       "\n",
       "    .dataframe tbody tr th {\n",
       "        vertical-align: top;\n",
       "    }\n",
       "\n",
       "    .dataframe thead th {\n",
       "        text-align: right;\n",
       "    }\n",
       "</style>\n",
       "<table border=\"1\" class=\"dataframe\">\n",
       "  <thead>\n",
       "    <tr style=\"text-align: right;\">\n",
       "      <th></th>\n",
       "      <th>cylinders</th>\n",
       "      <th>displacement</th>\n",
       "      <th>horsepower</th>\n",
       "      <th>weight</th>\n",
       "    </tr>\n",
       "  </thead>\n",
       "  <tbody>\n",
       "    <tr>\n",
       "      <th>387</th>\n",
       "      <td>4</td>\n",
       "      <td>140.0</td>\n",
       "      <td>86.0</td>\n",
       "      <td>2790.0</td>\n",
       "    </tr>\n",
       "    <tr>\n",
       "      <th>388</th>\n",
       "      <td>4</td>\n",
       "      <td>97.0</td>\n",
       "      <td>52.0</td>\n",
       "      <td>2130.0</td>\n",
       "    </tr>\n",
       "    <tr>\n",
       "      <th>389</th>\n",
       "      <td>4</td>\n",
       "      <td>135.0</td>\n",
       "      <td>84.0</td>\n",
       "      <td>2295.0</td>\n",
       "    </tr>\n",
       "    <tr>\n",
       "      <th>390</th>\n",
       "      <td>4</td>\n",
       "      <td>120.0</td>\n",
       "      <td>79.0</td>\n",
       "      <td>2625.0</td>\n",
       "    </tr>\n",
       "    <tr>\n",
       "      <th>391</th>\n",
       "      <td>4</td>\n",
       "      <td>119.0</td>\n",
       "      <td>82.0</td>\n",
       "      <td>2720.0</td>\n",
       "    </tr>\n",
       "  </tbody>\n",
       "</table>\n",
       "</div>"
      ],
      "text/plain": [
       "     cylinders  displacement  horsepower  weight\n",
       "387          4         140.0        86.0  2790.0\n",
       "388          4          97.0        52.0  2130.0\n",
       "389          4         135.0        84.0  2295.0\n",
       "390          4         120.0        79.0  2625.0\n",
       "391          4         119.0        82.0  2720.0"
      ]
     },
     "execution_count": 7,
     "metadata": {},
     "output_type": "execute_result"
    }
   ],
   "source": [
    "df['origin'] = df['origin'].astype('category')\n",
    "df['model_year'] = df['model_year'].apply(lambda x: pd.to_datetime(x, format='%y').year)\n",
    "df.info()\n",
    "df['horsepower'] = df['horsepower'].apply(lambda x: pd.to_numeric(x, errors='coerce'))\n",
    "df.dropna(inplace=True, axis=0)\n",
    "df.reset_index(drop=True, inplace=True)\n",
    "df\n",
    "corrdf = df.drop([\n",
    "    'car_name', \n",
    "    'origin' , \n",
    "    'model_year'\n",
    "    ], axis=1)\n",
    "corrdf.corr()['mpg']\n",
    "targetfeaturesdf = df.drop([\n",
    "    # 'mpg', \n",
    "    'car_name', \n",
    "    'origin' , \n",
    "    'model_year', \n",
    "    # 'acceleration',\n",
    "    ], axis=1\n",
    "                   )\n",
    "target = df['mpg']\n",
    "features = df.drop([\n",
    "    'mpg', \n",
    "    'car_name', \n",
    "    'origin' , \n",
    "    'model_year', \n",
    "    'acceleration',\n",
    "    ], axis=1\n",
    "                   )\n",
    "features.tail()"
   ]
  },
  {
   "attachments": {},
   "cell_type": "markdown",
   "id": "c00f6a4a",
   "metadata": {},
   "source": [
    "## Setup\n",
    "The `setup` function initializes the training environment and creates the transformation pipeline. Setup function must be called before executing any other function in PyCaret. It only has two required parameters i.e. `data` and `target`. All the other parameters are optional."
   ]
  },
  {
   "cell_type": "code",
   "execution_count": 19,
   "id": "97f2c6c6",
   "metadata": {},
   "outputs": [
    {
     "data": {
      "text/html": [
       "<style type=\"text/css\">\n",
       "#T_31d5e_row9_col1, #T_31d5e_row15_col1, #T_31d5e_row17_col1, #T_31d5e_row19_col1, #T_31d5e_row21_col1, #T_31d5e_row23_col1 {\n",
       "  background-color: lightgreen;\n",
       "}\n",
       "</style>\n",
       "<table id=\"T_31d5e\">\n",
       "  <thead>\n",
       "    <tr>\n",
       "      <th class=\"blank level0\" >&nbsp;</th>\n",
       "      <th id=\"T_31d5e_level0_col0\" class=\"col_heading level0 col0\" >Description</th>\n",
       "      <th id=\"T_31d5e_level0_col1\" class=\"col_heading level0 col1\" >Value</th>\n",
       "    </tr>\n",
       "  </thead>\n",
       "  <tbody>\n",
       "    <tr>\n",
       "      <th id=\"T_31d5e_level0_row0\" class=\"row_heading level0 row0\" >0</th>\n",
       "      <td id=\"T_31d5e_row0_col0\" class=\"data row0 col0\" >Session id</td>\n",
       "      <td id=\"T_31d5e_row0_col1\" class=\"data row0 col1\" >123</td>\n",
       "    </tr>\n",
       "    <tr>\n",
       "      <th id=\"T_31d5e_level0_row1\" class=\"row_heading level0 row1\" >1</th>\n",
       "      <td id=\"T_31d5e_row1_col0\" class=\"data row1 col0\" >Target</td>\n",
       "      <td id=\"T_31d5e_row1_col1\" class=\"data row1 col1\" >mpg</td>\n",
       "    </tr>\n",
       "    <tr>\n",
       "      <th id=\"T_31d5e_level0_row2\" class=\"row_heading level0 row2\" >2</th>\n",
       "      <td id=\"T_31d5e_row2_col0\" class=\"data row2 col0\" >Target type</td>\n",
       "      <td id=\"T_31d5e_row2_col1\" class=\"data row2 col1\" >Regression</td>\n",
       "    </tr>\n",
       "    <tr>\n",
       "      <th id=\"T_31d5e_level0_row3\" class=\"row_heading level0 row3\" >3</th>\n",
       "      <td id=\"T_31d5e_row3_col0\" class=\"data row3 col0\" >Original data shape</td>\n",
       "      <td id=\"T_31d5e_row3_col1\" class=\"data row3 col1\" >(392, 6)</td>\n",
       "    </tr>\n",
       "    <tr>\n",
       "      <th id=\"T_31d5e_level0_row4\" class=\"row_heading level0 row4\" >4</th>\n",
       "      <td id=\"T_31d5e_row4_col0\" class=\"data row4 col0\" >Transformed data shape</td>\n",
       "      <td id=\"T_31d5e_row4_col1\" class=\"data row4 col1\" >(378, 55)</td>\n",
       "    </tr>\n",
       "    <tr>\n",
       "      <th id=\"T_31d5e_level0_row5\" class=\"row_heading level0 row5\" >5</th>\n",
       "      <td id=\"T_31d5e_row5_col0\" class=\"data row5 col0\" >Transformed train set shape</td>\n",
       "      <td id=\"T_31d5e_row5_col1\" class=\"data row5 col1\" >(260, 55)</td>\n",
       "    </tr>\n",
       "    <tr>\n",
       "      <th id=\"T_31d5e_level0_row6\" class=\"row_heading level0 row6\" >6</th>\n",
       "      <td id=\"T_31d5e_row6_col0\" class=\"data row6 col0\" >Transformed test set shape</td>\n",
       "      <td id=\"T_31d5e_row6_col1\" class=\"data row6 col1\" >(118, 55)</td>\n",
       "    </tr>\n",
       "    <tr>\n",
       "      <th id=\"T_31d5e_level0_row7\" class=\"row_heading level0 row7\" >7</th>\n",
       "      <td id=\"T_31d5e_row7_col0\" class=\"data row7 col0\" >Numeric features</td>\n",
       "      <td id=\"T_31d5e_row7_col1\" class=\"data row7 col1\" >4</td>\n",
       "    </tr>\n",
       "    <tr>\n",
       "      <th id=\"T_31d5e_level0_row8\" class=\"row_heading level0 row8\" >8</th>\n",
       "      <td id=\"T_31d5e_row8_col0\" class=\"data row8 col0\" >Categorical features</td>\n",
       "      <td id=\"T_31d5e_row8_col1\" class=\"data row8 col1\" >1</td>\n",
       "    </tr>\n",
       "    <tr>\n",
       "      <th id=\"T_31d5e_level0_row9\" class=\"row_heading level0 row9\" >9</th>\n",
       "      <td id=\"T_31d5e_row9_col0\" class=\"data row9 col0\" >Preprocess</td>\n",
       "      <td id=\"T_31d5e_row9_col1\" class=\"data row9 col1\" >True</td>\n",
       "    </tr>\n",
       "    <tr>\n",
       "      <th id=\"T_31d5e_level0_row10\" class=\"row_heading level0 row10\" >10</th>\n",
       "      <td id=\"T_31d5e_row10_col0\" class=\"data row10 col0\" >Imputation type</td>\n",
       "      <td id=\"T_31d5e_row10_col1\" class=\"data row10 col1\" >simple</td>\n",
       "    </tr>\n",
       "    <tr>\n",
       "      <th id=\"T_31d5e_level0_row11\" class=\"row_heading level0 row11\" >11</th>\n",
       "      <td id=\"T_31d5e_row11_col0\" class=\"data row11 col0\" >Numeric imputation</td>\n",
       "      <td id=\"T_31d5e_row11_col1\" class=\"data row11 col1\" >knn</td>\n",
       "    </tr>\n",
       "    <tr>\n",
       "      <th id=\"T_31d5e_level0_row12\" class=\"row_heading level0 row12\" >12</th>\n",
       "      <td id=\"T_31d5e_row12_col0\" class=\"data row12 col0\" >Categorical imputation</td>\n",
       "      <td id=\"T_31d5e_row12_col1\" class=\"data row12 col1\" >mode</td>\n",
       "    </tr>\n",
       "    <tr>\n",
       "      <th id=\"T_31d5e_level0_row13\" class=\"row_heading level0 row13\" >13</th>\n",
       "      <td id=\"T_31d5e_row13_col0\" class=\"data row13 col0\" >Maximum one-hot encoding</td>\n",
       "      <td id=\"T_31d5e_row13_col1\" class=\"data row13 col1\" >25</td>\n",
       "    </tr>\n",
       "    <tr>\n",
       "      <th id=\"T_31d5e_level0_row14\" class=\"row_heading level0 row14\" >14</th>\n",
       "      <td id=\"T_31d5e_row14_col0\" class=\"data row14 col0\" >Encoding method</td>\n",
       "      <td id=\"T_31d5e_row14_col1\" class=\"data row14 col1\" >None</td>\n",
       "    </tr>\n",
       "    <tr>\n",
       "      <th id=\"T_31d5e_level0_row15\" class=\"row_heading level0 row15\" >15</th>\n",
       "      <td id=\"T_31d5e_row15_col0\" class=\"data row15 col0\" >Polynomial features</td>\n",
       "      <td id=\"T_31d5e_row15_col1\" class=\"data row15 col1\" >True</td>\n",
       "    </tr>\n",
       "    <tr>\n",
       "      <th id=\"T_31d5e_level0_row16\" class=\"row_heading level0 row16\" >16</th>\n",
       "      <td id=\"T_31d5e_row16_col0\" class=\"data row16 col0\" >Polynomial degree</td>\n",
       "      <td id=\"T_31d5e_row16_col1\" class=\"data row16 col1\" >2</td>\n",
       "    </tr>\n",
       "    <tr>\n",
       "      <th id=\"T_31d5e_level0_row17\" class=\"row_heading level0 row17\" >17</th>\n",
       "      <td id=\"T_31d5e_row17_col0\" class=\"data row17 col0\" >Remove outliers</td>\n",
       "      <td id=\"T_31d5e_row17_col1\" class=\"data row17 col1\" >True</td>\n",
       "    </tr>\n",
       "    <tr>\n",
       "      <th id=\"T_31d5e_level0_row18\" class=\"row_heading level0 row18\" >18</th>\n",
       "      <td id=\"T_31d5e_row18_col0\" class=\"data row18 col0\" >Outliers threshold</td>\n",
       "      <td id=\"T_31d5e_row18_col1\" class=\"data row18 col1\" >0.050000</td>\n",
       "    </tr>\n",
       "    <tr>\n",
       "      <th id=\"T_31d5e_level0_row19\" class=\"row_heading level0 row19\" >19</th>\n",
       "      <td id=\"T_31d5e_row19_col0\" class=\"data row19 col0\" >Transformation</td>\n",
       "      <td id=\"T_31d5e_row19_col1\" class=\"data row19 col1\" >True</td>\n",
       "    </tr>\n",
       "    <tr>\n",
       "      <th id=\"T_31d5e_level0_row20\" class=\"row_heading level0 row20\" >20</th>\n",
       "      <td id=\"T_31d5e_row20_col0\" class=\"data row20 col0\" >Transformation method</td>\n",
       "      <td id=\"T_31d5e_row20_col1\" class=\"data row20 col1\" >quantile</td>\n",
       "    </tr>\n",
       "    <tr>\n",
       "      <th id=\"T_31d5e_level0_row21\" class=\"row_heading level0 row21\" >21</th>\n",
       "      <td id=\"T_31d5e_row21_col0\" class=\"data row21 col0\" >Normalize</td>\n",
       "      <td id=\"T_31d5e_row21_col1\" class=\"data row21 col1\" >True</td>\n",
       "    </tr>\n",
       "    <tr>\n",
       "      <th id=\"T_31d5e_level0_row22\" class=\"row_heading level0 row22\" >22</th>\n",
       "      <td id=\"T_31d5e_row22_col0\" class=\"data row22 col0\" >Normalize method</td>\n",
       "      <td id=\"T_31d5e_row22_col1\" class=\"data row22 col1\" >zscore</td>\n",
       "    </tr>\n",
       "    <tr>\n",
       "      <th id=\"T_31d5e_level0_row23\" class=\"row_heading level0 row23\" >23</th>\n",
       "      <td id=\"T_31d5e_row23_col0\" class=\"data row23 col0\" >PCA</td>\n",
       "      <td id=\"T_31d5e_row23_col1\" class=\"data row23 col1\" >True</td>\n",
       "    </tr>\n",
       "    <tr>\n",
       "      <th id=\"T_31d5e_level0_row24\" class=\"row_heading level0 row24\" >24</th>\n",
       "      <td id=\"T_31d5e_row24_col0\" class=\"data row24 col0\" >PCA method</td>\n",
       "      <td id=\"T_31d5e_row24_col1\" class=\"data row24 col1\" >linear</td>\n",
       "    </tr>\n",
       "    <tr>\n",
       "      <th id=\"T_31d5e_level0_row25\" class=\"row_heading level0 row25\" >25</th>\n",
       "      <td id=\"T_31d5e_row25_col0\" class=\"data row25 col0\" >PCA components</td>\n",
       "      <td id=\"T_31d5e_row25_col1\" class=\"data row25 col1\" >None</td>\n",
       "    </tr>\n",
       "    <tr>\n",
       "      <th id=\"T_31d5e_level0_row26\" class=\"row_heading level0 row26\" >26</th>\n",
       "      <td id=\"T_31d5e_row26_col0\" class=\"data row26 col0\" >Fold Generator</td>\n",
       "      <td id=\"T_31d5e_row26_col1\" class=\"data row26 col1\" >KFold</td>\n",
       "    </tr>\n",
       "    <tr>\n",
       "      <th id=\"T_31d5e_level0_row27\" class=\"row_heading level0 row27\" >27</th>\n",
       "      <td id=\"T_31d5e_row27_col0\" class=\"data row27 col0\" >Fold Number</td>\n",
       "      <td id=\"T_31d5e_row27_col1\" class=\"data row27 col1\" >10</td>\n",
       "    </tr>\n",
       "    <tr>\n",
       "      <th id=\"T_31d5e_level0_row28\" class=\"row_heading level0 row28\" >28</th>\n",
       "      <td id=\"T_31d5e_row28_col0\" class=\"data row28 col0\" >CPU Jobs</td>\n",
       "      <td id=\"T_31d5e_row28_col1\" class=\"data row28 col1\" >-1</td>\n",
       "    </tr>\n",
       "    <tr>\n",
       "      <th id=\"T_31d5e_level0_row29\" class=\"row_heading level0 row29\" >29</th>\n",
       "      <td id=\"T_31d5e_row29_col0\" class=\"data row29 col0\" >Use GPU</td>\n",
       "      <td id=\"T_31d5e_row29_col1\" class=\"data row29 col1\" >False</td>\n",
       "    </tr>\n",
       "    <tr>\n",
       "      <th id=\"T_31d5e_level0_row30\" class=\"row_heading level0 row30\" >30</th>\n",
       "      <td id=\"T_31d5e_row30_col0\" class=\"data row30 col0\" >Log Experiment</td>\n",
       "      <td id=\"T_31d5e_row30_col1\" class=\"data row30 col1\" >False</td>\n",
       "    </tr>\n",
       "    <tr>\n",
       "      <th id=\"T_31d5e_level0_row31\" class=\"row_heading level0 row31\" >31</th>\n",
       "      <td id=\"T_31d5e_row31_col0\" class=\"data row31 col0\" >Experiment Name</td>\n",
       "      <td id=\"T_31d5e_row31_col1\" class=\"data row31 col1\" >reg-default-name</td>\n",
       "    </tr>\n",
       "    <tr>\n",
       "      <th id=\"T_31d5e_level0_row32\" class=\"row_heading level0 row32\" >32</th>\n",
       "      <td id=\"T_31d5e_row32_col0\" class=\"data row32 col0\" >USI</td>\n",
       "      <td id=\"T_31d5e_row32_col1\" class=\"data row32 col1\" >477b</td>\n",
       "    </tr>\n",
       "  </tbody>\n",
       "</table>\n"
      ],
      "text/plain": [
       "<pandas.io.formats.style.Styler at 0x23d5555e940>"
      ]
     },
     "metadata": {},
     "output_type": "display_data"
    }
   ],
   "source": [
    "# import pycaret regression and init setup\n",
    "from pycaret.regression import *\n",
    "s = setup(\n",
    "    targetfeaturesdf, \n",
    "    target = 'mpg',\n",
    "    session_id = 123, \n",
    "    use_gpu=False,\n",
    "    numeric_imputation='knn',\n",
    "    remove_outliers = True,\n",
    "    # outliers_method = ,\n",
    "    polynomial_features = True,\n",
    "    polynomial_degree = 2,\n",
    "    # bin_numeric_features = ['age'],\n",
    "    normalize=True, \n",
    "    transformation = True,\n",
    "    transformation_method = 'quantile', \n",
    "    # remove_multicollinearity = True,\n",
    "    multicollinearity_threshold = 0.3,\n",
    "    pca=True,\n",
    "    categorical_features=['cylinders'],\n",
    ")"
   ]
  },
  {
   "attachments": {},
   "cell_type": "markdown",
   "id": "3c583864",
   "metadata": {},
   "source": [
    "Once the setup has been successfully executed it shows the information grid containing experiment level information. \n",
    "\n",
    "- **Session id:**  A pseudo-random number distributed as a seed in all functions for later reproducibility. If no `session_id` is passed, a random number is automatically generated that is distributed to all functions.<br/>\n",
    "<br/>\n",
    "- **Target type:**  Binary, Multiclass, or Regression. The Target type is automatically detected. <br/>\n",
    "<br/>\n",
    "- **Original data shape:**  Shape of the original data prior to any transformations. <br/>\n",
    "<br/>\n",
    "- **Transformed train set shape :**  Shape of transformed train set <br/>\n",
    "<br/>\n",
    "- **Transformed test set shape :**  Shape of transformed test set <br/>\n",
    "<br/>\n",
    "- **Numeric features :**  The number of features considered as numerical. <br/>\n",
    "<br/>\n",
    "- **Categorical features :**  The number of features considered as categorical. <br/>"
   ]
  },
  {
   "attachments": {},
   "cell_type": "markdown",
   "id": "f98dd435",
   "metadata": {},
   "source": [
    "## Compare Models\n",
    "\n",
    "The `compare_models` function trains and evaluates the performance of all the estimators available in the model library using cross-validation. The output of this function is a scoring grid with average cross-validated scores. Metrics evaluated during CV can be accessed using the `get_metrics` function. Custom metrics can be added or removed using `add_metric` and `remove_metric` function."
   ]
  },
  {
   "cell_type": "code",
   "execution_count": 20,
   "id": "87477aa4",
   "metadata": {},
   "outputs": [
    {
     "data": {
      "text/html": [
       "<div>\n",
       "<style scoped>\n",
       "    .dataframe tbody tr th:only-of-type {\n",
       "        vertical-align: middle;\n",
       "    }\n",
       "\n",
       "    .dataframe tbody tr th {\n",
       "        vertical-align: top;\n",
       "    }\n",
       "\n",
       "    .dataframe thead th {\n",
       "        text-align: right;\n",
       "    }\n",
       "</style>\n",
       "<table border=\"1\" class=\"dataframe\">\n",
       "  <thead>\n",
       "    <tr style=\"text-align: right;\">\n",
       "      <th></th>\n",
       "      <th></th>\n",
       "      <th></th>\n",
       "    </tr>\n",
       "    <tr>\n",
       "      <th></th>\n",
       "      <th></th>\n",
       "      <th></th>\n",
       "    </tr>\n",
       "  </thead>\n",
       "  <tbody>\n",
       "    <tr>\n",
       "      <th>Initiated</th>\n",
       "      <td>. . . . . . . . . . . . . . . . . .</td>\n",
       "      <td>10:22:50</td>\n",
       "    </tr>\n",
       "    <tr>\n",
       "      <th>Status</th>\n",
       "      <td>. . . . . . . . . . . . . . . . . .</td>\n",
       "      <td>Fitting 10 Folds</td>\n",
       "    </tr>\n",
       "    <tr>\n",
       "      <th>Estimator</th>\n",
       "      <td>. . . . . . . . . . . . . . . . . .</td>\n",
       "      <td>Linear Regression</td>\n",
       "    </tr>\n",
       "  </tbody>\n",
       "</table>\n",
       "</div>"
      ],
      "text/plain": [
       "                                                                 \n",
       "                                                                 \n",
       "Initiated  . . . . . . . . . . . . . . . . . .           10:22:50\n",
       "Status     . . . . . . . . . . . . . . . . . .   Fitting 10 Folds\n",
       "Estimator  . . . . . . . . . . . . . . . . . .  Linear Regression"
      ]
     },
     "metadata": {},
     "output_type": "display_data"
    },
    {
     "data": {
      "text/html": [
       "<style type=\"text/css\">\n",
       "#T_5ab79 th {\n",
       "  text-align: left;\n",
       "}\n",
       "#T_5ab79_row0_col0, #T_5ab79_row0_col5, #T_5ab79_row0_col6, #T_5ab79_row1_col0, #T_5ab79_row1_col1, #T_5ab79_row1_col2, #T_5ab79_row1_col3, #T_5ab79_row1_col4, #T_5ab79_row1_col5, #T_5ab79_row1_col6, #T_5ab79_row2_col0, #T_5ab79_row2_col1, #T_5ab79_row2_col2, #T_5ab79_row2_col3, #T_5ab79_row2_col4, #T_5ab79_row2_col6, #T_5ab79_row3_col0, #T_5ab79_row3_col1, #T_5ab79_row3_col2, #T_5ab79_row3_col3, #T_5ab79_row3_col4, #T_5ab79_row3_col5, #T_5ab79_row4_col0, #T_5ab79_row4_col1, #T_5ab79_row4_col2, #T_5ab79_row4_col3, #T_5ab79_row4_col4, #T_5ab79_row4_col5, #T_5ab79_row4_col6, #T_5ab79_row5_col0, #T_5ab79_row5_col1, #T_5ab79_row5_col2, #T_5ab79_row5_col3, #T_5ab79_row5_col4, #T_5ab79_row5_col5, #T_5ab79_row5_col6, #T_5ab79_row6_col0, #T_5ab79_row6_col1, #T_5ab79_row6_col2, #T_5ab79_row6_col3, #T_5ab79_row6_col4, #T_5ab79_row6_col5, #T_5ab79_row6_col6, #T_5ab79_row7_col0, #T_5ab79_row7_col1, #T_5ab79_row7_col2, #T_5ab79_row7_col3, #T_5ab79_row7_col4, #T_5ab79_row7_col5, #T_5ab79_row7_col6, #T_5ab79_row8_col0, #T_5ab79_row8_col1, #T_5ab79_row8_col2, #T_5ab79_row8_col3, #T_5ab79_row8_col4, #T_5ab79_row8_col5, #T_5ab79_row8_col6, #T_5ab79_row9_col0, #T_5ab79_row9_col1, #T_5ab79_row9_col2, #T_5ab79_row9_col3, #T_5ab79_row9_col4, #T_5ab79_row9_col5, #T_5ab79_row9_col6, #T_5ab79_row10_col0, #T_5ab79_row10_col1, #T_5ab79_row10_col2, #T_5ab79_row10_col3, #T_5ab79_row10_col4, #T_5ab79_row10_col5, #T_5ab79_row10_col6, #T_5ab79_row11_col0, #T_5ab79_row11_col1, #T_5ab79_row11_col2, #T_5ab79_row11_col3, #T_5ab79_row11_col4, #T_5ab79_row11_col5, #T_5ab79_row11_col6, #T_5ab79_row12_col0, #T_5ab79_row12_col1, #T_5ab79_row12_col2, #T_5ab79_row12_col3, #T_5ab79_row12_col4, #T_5ab79_row12_col5, #T_5ab79_row12_col6, #T_5ab79_row13_col0, #T_5ab79_row13_col1, #T_5ab79_row13_col2, #T_5ab79_row13_col3, #T_5ab79_row13_col4, #T_5ab79_row13_col5, #T_5ab79_row13_col6, #T_5ab79_row14_col0, #T_5ab79_row14_col1, #T_5ab79_row14_col2, #T_5ab79_row14_col3, #T_5ab79_row14_col4, #T_5ab79_row14_col5, #T_5ab79_row14_col6, #T_5ab79_row15_col0, #T_5ab79_row15_col1, #T_5ab79_row15_col2, #T_5ab79_row15_col3, #T_5ab79_row15_col4, #T_5ab79_row15_col5, #T_5ab79_row15_col6, #T_5ab79_row16_col0, #T_5ab79_row16_col1, #T_5ab79_row16_col2, #T_5ab79_row16_col3, #T_5ab79_row16_col4, #T_5ab79_row16_col5, #T_5ab79_row16_col6, #T_5ab79_row17_col0, #T_5ab79_row17_col1, #T_5ab79_row17_col2, #T_5ab79_row17_col3, #T_5ab79_row17_col4, #T_5ab79_row17_col5, #T_5ab79_row17_col6, #T_5ab79_row18_col0, #T_5ab79_row18_col1, #T_5ab79_row18_col2, #T_5ab79_row18_col3, #T_5ab79_row18_col4, #T_5ab79_row18_col5, #T_5ab79_row18_col6, #T_5ab79_row19_col0, #T_5ab79_row19_col1, #T_5ab79_row19_col2, #T_5ab79_row19_col3, #T_5ab79_row19_col4, #T_5ab79_row19_col5, #T_5ab79_row19_col6 {\n",
       "  text-align: left;\n",
       "}\n",
       "#T_5ab79_row0_col1, #T_5ab79_row0_col2, #T_5ab79_row0_col3, #T_5ab79_row0_col4, #T_5ab79_row2_col5, #T_5ab79_row3_col6 {\n",
       "  text-align: left;\n",
       "  background-color: yellow;\n",
       "}\n",
       "#T_5ab79_row0_col7, #T_5ab79_row1_col7, #T_5ab79_row2_col7, #T_5ab79_row3_col7, #T_5ab79_row4_col7, #T_5ab79_row6_col7, #T_5ab79_row7_col7, #T_5ab79_row8_col7, #T_5ab79_row9_col7, #T_5ab79_row10_col7, #T_5ab79_row11_col7, #T_5ab79_row12_col7, #T_5ab79_row13_col7, #T_5ab79_row14_col7, #T_5ab79_row15_col7, #T_5ab79_row16_col7, #T_5ab79_row17_col7, #T_5ab79_row18_col7, #T_5ab79_row19_col7 {\n",
       "  text-align: left;\n",
       "  background-color: lightgrey;\n",
       "}\n",
       "#T_5ab79_row5_col7 {\n",
       "  text-align: left;\n",
       "  background-color: yellow;\n",
       "  background-color: lightgrey;\n",
       "}\n",
       "</style>\n",
       "<table id=\"T_5ab79\">\n",
       "  <thead>\n",
       "    <tr>\n",
       "      <th class=\"blank level0\" >&nbsp;</th>\n",
       "      <th id=\"T_5ab79_level0_col0\" class=\"col_heading level0 col0\" >Model</th>\n",
       "      <th id=\"T_5ab79_level0_col1\" class=\"col_heading level0 col1\" >MAE</th>\n",
       "      <th id=\"T_5ab79_level0_col2\" class=\"col_heading level0 col2\" >MSE</th>\n",
       "      <th id=\"T_5ab79_level0_col3\" class=\"col_heading level0 col3\" >RMSE</th>\n",
       "      <th id=\"T_5ab79_level0_col4\" class=\"col_heading level0 col4\" >R2</th>\n",
       "      <th id=\"T_5ab79_level0_col5\" class=\"col_heading level0 col5\" >RMSLE</th>\n",
       "      <th id=\"T_5ab79_level0_col6\" class=\"col_heading level0 col6\" >MAPE</th>\n",
       "      <th id=\"T_5ab79_level0_col7\" class=\"col_heading level0 col7\" >TT (Sec)</th>\n",
       "    </tr>\n",
       "  </thead>\n",
       "  <tbody>\n",
       "    <tr>\n",
       "      <th id=\"T_5ab79_level0_row0\" class=\"row_heading level0 row0\" >et</th>\n",
       "      <td id=\"T_5ab79_row0_col0\" class=\"data row0 col0\" >Extra Trees Regressor</td>\n",
       "      <td id=\"T_5ab79_row0_col1\" class=\"data row0 col1\" >2.7683</td>\n",
       "      <td id=\"T_5ab79_row0_col2\" class=\"data row0 col2\" >14.6741</td>\n",
       "      <td id=\"T_5ab79_row0_col3\" class=\"data row0 col3\" >3.7891</td>\n",
       "      <td id=\"T_5ab79_row0_col4\" class=\"data row0 col4\" >0.7527</td>\n",
       "      <td id=\"T_5ab79_row0_col5\" class=\"data row0 col5\" >0.1497</td>\n",
       "      <td id=\"T_5ab79_row0_col6\" class=\"data row0 col6\" >0.1227</td>\n",
       "      <td id=\"T_5ab79_row0_col7\" class=\"data row0 col7\" >0.1300</td>\n",
       "    </tr>\n",
       "    <tr>\n",
       "      <th id=\"T_5ab79_level0_row1\" class=\"row_heading level0 row1\" >lightgbm</th>\n",
       "      <td id=\"T_5ab79_row1_col0\" class=\"data row1 col0\" >Light Gradient Boosting Machine</td>\n",
       "      <td id=\"T_5ab79_row1_col1\" class=\"data row1 col1\" >2.9271</td>\n",
       "      <td id=\"T_5ab79_row1_col2\" class=\"data row1 col2\" >15.5922</td>\n",
       "      <td id=\"T_5ab79_row1_col3\" class=\"data row1 col3\" >3.9016</td>\n",
       "      <td id=\"T_5ab79_row1_col4\" class=\"data row1 col4\" >0.7392</td>\n",
       "      <td id=\"T_5ab79_row1_col5\" class=\"data row1 col5\" >0.1519</td>\n",
       "      <td id=\"T_5ab79_row1_col6\" class=\"data row1 col6\" >0.1258</td>\n",
       "      <td id=\"T_5ab79_row1_col7\" class=\"data row1 col7\" >0.1090</td>\n",
       "    </tr>\n",
       "    <tr>\n",
       "      <th id=\"T_5ab79_level0_row2\" class=\"row_heading level0 row2\" >xgboost</th>\n",
       "      <td id=\"T_5ab79_row2_col0\" class=\"data row2 col0\" >Extreme Gradient Boosting</td>\n",
       "      <td id=\"T_5ab79_row2_col1\" class=\"data row2 col1\" >2.8521</td>\n",
       "      <td id=\"T_5ab79_row2_col2\" class=\"data row2 col2\" >15.0552</td>\n",
       "      <td id=\"T_5ab79_row2_col3\" class=\"data row2 col3\" >3.8299</td>\n",
       "      <td id=\"T_5ab79_row2_col4\" class=\"data row2 col4\" >0.7383</td>\n",
       "      <td id=\"T_5ab79_row2_col5\" class=\"data row2 col5\" >0.1478</td>\n",
       "      <td id=\"T_5ab79_row2_col6\" class=\"data row2 col6\" >0.1234</td>\n",
       "      <td id=\"T_5ab79_row2_col7\" class=\"data row2 col7\" >0.2300</td>\n",
       "    </tr>\n",
       "    <tr>\n",
       "      <th id=\"T_5ab79_level0_row3\" class=\"row_heading level0 row3\" >gbr</th>\n",
       "      <td id=\"T_5ab79_row3_col0\" class=\"data row3 col0\" >Gradient Boosting Regressor</td>\n",
       "      <td id=\"T_5ab79_row3_col1\" class=\"data row3 col1\" >2.8082</td>\n",
       "      <td id=\"T_5ab79_row3_col2\" class=\"data row3 col2\" >15.7167</td>\n",
       "      <td id=\"T_5ab79_row3_col3\" class=\"data row3 col3\" >3.9338</td>\n",
       "      <td id=\"T_5ab79_row3_col4\" class=\"data row3 col4\" >0.7325</td>\n",
       "      <td id=\"T_5ab79_row3_col5\" class=\"data row3 col5\" >0.1490</td>\n",
       "      <td id=\"T_5ab79_row3_col6\" class=\"data row3 col6\" >0.1210</td>\n",
       "      <td id=\"T_5ab79_row3_col7\" class=\"data row3 col7\" >0.1280</td>\n",
       "    </tr>\n",
       "    <tr>\n",
       "      <th id=\"T_5ab79_level0_row4\" class=\"row_heading level0 row4\" >rf</th>\n",
       "      <td id=\"T_5ab79_row4_col0\" class=\"data row4 col0\" >Random Forest Regressor</td>\n",
       "      <td id=\"T_5ab79_row4_col1\" class=\"data row4 col1\" >2.8776</td>\n",
       "      <td id=\"T_5ab79_row4_col2\" class=\"data row4 col2\" >15.7924</td>\n",
       "      <td id=\"T_5ab79_row4_col3\" class=\"data row4 col3\" >3.9355</td>\n",
       "      <td id=\"T_5ab79_row4_col4\" class=\"data row4 col4\" >0.7294</td>\n",
       "      <td id=\"T_5ab79_row4_col5\" class=\"data row4 col5\" >0.1496</td>\n",
       "      <td id=\"T_5ab79_row4_col6\" class=\"data row4 col6\" >0.1238</td>\n",
       "      <td id=\"T_5ab79_row4_col7\" class=\"data row4 col7\" >0.1250</td>\n",
       "    </tr>\n",
       "    <tr>\n",
       "      <th id=\"T_5ab79_level0_row5\" class=\"row_heading level0 row5\" >ridge</th>\n",
       "      <td id=\"T_5ab79_row5_col0\" class=\"data row5 col0\" >Ridge Regression</td>\n",
       "      <td id=\"T_5ab79_row5_col1\" class=\"data row5 col1\" >2.9390</td>\n",
       "      <td id=\"T_5ab79_row5_col2\" class=\"data row5 col2\" >16.4043</td>\n",
       "      <td id=\"T_5ab79_row5_col3\" class=\"data row5 col3\" >3.9844</td>\n",
       "      <td id=\"T_5ab79_row5_col4\" class=\"data row5 col4\" >0.7277</td>\n",
       "      <td id=\"T_5ab79_row5_col5\" class=\"data row5 col5\" >0.1547</td>\n",
       "      <td id=\"T_5ab79_row5_col6\" class=\"data row5 col6\" >0.1252</td>\n",
       "      <td id=\"T_5ab79_row5_col7\" class=\"data row5 col7\" >0.0680</td>\n",
       "    </tr>\n",
       "    <tr>\n",
       "      <th id=\"T_5ab79_level0_row6\" class=\"row_heading level0 row6\" >br</th>\n",
       "      <td id=\"T_5ab79_row6_col0\" class=\"data row6 col0\" >Bayesian Ridge</td>\n",
       "      <td id=\"T_5ab79_row6_col1\" class=\"data row6 col1\" >2.9619</td>\n",
       "      <td id=\"T_5ab79_row6_col2\" class=\"data row6 col2\" >16.5916</td>\n",
       "      <td id=\"T_5ab79_row6_col3\" class=\"data row6 col3\" >4.0175</td>\n",
       "      <td id=\"T_5ab79_row6_col4\" class=\"data row6 col4\" >0.7244</td>\n",
       "      <td id=\"T_5ab79_row6_col5\" class=\"data row6 col5\" >0.1577</td>\n",
       "      <td id=\"T_5ab79_row6_col6\" class=\"data row6 col6\" >0.1261</td>\n",
       "      <td id=\"T_5ab79_row6_col7\" class=\"data row6 col7\" >0.0720</td>\n",
       "    </tr>\n",
       "    <tr>\n",
       "      <th id=\"T_5ab79_level0_row7\" class=\"row_heading level0 row7\" >knn</th>\n",
       "      <td id=\"T_5ab79_row7_col0\" class=\"data row7 col0\" >K Neighbors Regressor</td>\n",
       "      <td id=\"T_5ab79_row7_col1\" class=\"data row7 col1\" >2.9546</td>\n",
       "      <td id=\"T_5ab79_row7_col2\" class=\"data row7 col2\" >16.3073</td>\n",
       "      <td id=\"T_5ab79_row7_col3\" class=\"data row7 col3\" >3.9888</td>\n",
       "      <td id=\"T_5ab79_row7_col4\" class=\"data row7 col4\" >0.7243</td>\n",
       "      <td id=\"T_5ab79_row7_col5\" class=\"data row7 col5\" >0.1493</td>\n",
       "      <td id=\"T_5ab79_row7_col6\" class=\"data row7 col6\" >0.1242</td>\n",
       "      <td id=\"T_5ab79_row7_col7\" class=\"data row7 col7\" >0.0710</td>\n",
       "    </tr>\n",
       "    <tr>\n",
       "      <th id=\"T_5ab79_level0_row8\" class=\"row_heading level0 row8\" >ada</th>\n",
       "      <td id=\"T_5ab79_row8_col0\" class=\"data row8 col0\" >AdaBoost Regressor</td>\n",
       "      <td id=\"T_5ab79_row8_col1\" class=\"data row8 col1\" >2.9907</td>\n",
       "      <td id=\"T_5ab79_row8_col2\" class=\"data row8 col2\" >16.0344</td>\n",
       "      <td id=\"T_5ab79_row8_col3\" class=\"data row8 col3\" >3.9577</td>\n",
       "      <td id=\"T_5ab79_row8_col4\" class=\"data row8 col4\" >0.7224</td>\n",
       "      <td id=\"T_5ab79_row8_col5\" class=\"data row8 col5\" >0.1529</td>\n",
       "      <td id=\"T_5ab79_row8_col6\" class=\"data row8 col6\" >0.1305</td>\n",
       "      <td id=\"T_5ab79_row8_col7\" class=\"data row8 col7\" >0.1020</td>\n",
       "    </tr>\n",
       "    <tr>\n",
       "      <th id=\"T_5ab79_level0_row9\" class=\"row_heading level0 row9\" >catboost</th>\n",
       "      <td id=\"T_5ab79_row9_col0\" class=\"data row9 col0\" >CatBoost Regressor</td>\n",
       "      <td id=\"T_5ab79_row9_col1\" class=\"data row9 col1\" >3.1891</td>\n",
       "      <td id=\"T_5ab79_row9_col2\" class=\"data row9 col2\" >17.0379</td>\n",
       "      <td id=\"T_5ab79_row9_col3\" class=\"data row9 col3\" >4.0857</td>\n",
       "      <td id=\"T_5ab79_row9_col4\" class=\"data row9 col4\" >0.7050</td>\n",
       "      <td id=\"T_5ab79_row9_col5\" class=\"data row9 col5\" >0.1748</td>\n",
       "      <td id=\"T_5ab79_row9_col6\" class=\"data row9 col6\" >0.1532</td>\n",
       "      <td id=\"T_5ab79_row9_col7\" class=\"data row9 col7\" >4.0830</td>\n",
       "    </tr>\n",
       "    <tr>\n",
       "      <th id=\"T_5ab79_level0_row10\" class=\"row_heading level0 row10\" >huber</th>\n",
       "      <td id=\"T_5ab79_row10_col0\" class=\"data row10 col0\" >Huber Regressor</td>\n",
       "      <td id=\"T_5ab79_row10_col1\" class=\"data row10 col1\" >3.0143</td>\n",
       "      <td id=\"T_5ab79_row10_col2\" class=\"data row10 col2\" >18.4870</td>\n",
       "      <td id=\"T_5ab79_row10_col3\" class=\"data row10 col3\" >4.2039</td>\n",
       "      <td id=\"T_5ab79_row10_col4\" class=\"data row10 col4\" >0.7018</td>\n",
       "      <td id=\"T_5ab79_row10_col5\" class=\"data row10 col5\" >0.1667</td>\n",
       "      <td id=\"T_5ab79_row10_col6\" class=\"data row10 col6\" >0.1315</td>\n",
       "      <td id=\"T_5ab79_row10_col7\" class=\"data row10 col7\" >0.0730</td>\n",
       "    </tr>\n",
       "    <tr>\n",
       "      <th id=\"T_5ab79_level0_row11\" class=\"row_heading level0 row11\" >en</th>\n",
       "      <td id=\"T_5ab79_row11_col0\" class=\"data row11 col0\" >Elastic Net</td>\n",
       "      <td id=\"T_5ab79_row11_col1\" class=\"data row11 col1\" >3.1851</td>\n",
       "      <td id=\"T_5ab79_row11_col2\" class=\"data row11 col2\" >18.5058</td>\n",
       "      <td id=\"T_5ab79_row11_col3\" class=\"data row11 col3\" >4.2524</td>\n",
       "      <td id=\"T_5ab79_row11_col4\" class=\"data row11 col4\" >0.6931</td>\n",
       "      <td id=\"T_5ab79_row11_col5\" class=\"data row11 col5\" >0.1760</td>\n",
       "      <td id=\"T_5ab79_row11_col6\" class=\"data row11 col6\" >0.1369</td>\n",
       "      <td id=\"T_5ab79_row11_col7\" class=\"data row11 col7\" >0.0770</td>\n",
       "    </tr>\n",
       "    <tr>\n",
       "      <th id=\"T_5ab79_level0_row12\" class=\"row_heading level0 row12\" >lasso</th>\n",
       "      <td id=\"T_5ab79_row12_col0\" class=\"data row12 col0\" >Lasso Regression</td>\n",
       "      <td id=\"T_5ab79_row12_col1\" class=\"data row12 col1\" >3.2213</td>\n",
       "      <td id=\"T_5ab79_row12_col2\" class=\"data row12 col2\" >18.5196</td>\n",
       "      <td id=\"T_5ab79_row12_col3\" class=\"data row12 col3\" >4.2586</td>\n",
       "      <td id=\"T_5ab79_row12_col4\" class=\"data row12 col4\" >0.6926</td>\n",
       "      <td id=\"T_5ab79_row12_col5\" class=\"data row12 col5\" >0.1800</td>\n",
       "      <td id=\"T_5ab79_row12_col6\" class=\"data row12 col6\" >0.1393</td>\n",
       "      <td id=\"T_5ab79_row12_col7\" class=\"data row12 col7\" >0.0760</td>\n",
       "    </tr>\n",
       "    <tr>\n",
       "      <th id=\"T_5ab79_level0_row13\" class=\"row_heading level0 row13\" >llar</th>\n",
       "      <td id=\"T_5ab79_row13_col0\" class=\"data row13 col0\" >Lasso Least Angle Regression</td>\n",
       "      <td id=\"T_5ab79_row13_col1\" class=\"data row13 col1\" >3.2213</td>\n",
       "      <td id=\"T_5ab79_row13_col2\" class=\"data row13 col2\" >18.5196</td>\n",
       "      <td id=\"T_5ab79_row13_col3\" class=\"data row13 col3\" >4.2586</td>\n",
       "      <td id=\"T_5ab79_row13_col4\" class=\"data row13 col4\" >0.6926</td>\n",
       "      <td id=\"T_5ab79_row13_col5\" class=\"data row13 col5\" >0.1800</td>\n",
       "      <td id=\"T_5ab79_row13_col6\" class=\"data row13 col6\" >0.1393</td>\n",
       "      <td id=\"T_5ab79_row13_col7\" class=\"data row13 col7\" >0.0730</td>\n",
       "    </tr>\n",
       "    <tr>\n",
       "      <th id=\"T_5ab79_level0_row14\" class=\"row_heading level0 row14\" >lar</th>\n",
       "      <td id=\"T_5ab79_row14_col0\" class=\"data row14 col0\" >Least Angle Regression</td>\n",
       "      <td id=\"T_5ab79_row14_col1\" class=\"data row14 col1\" >3.0919</td>\n",
       "      <td id=\"T_5ab79_row14_col2\" class=\"data row14 col2\" >19.2421</td>\n",
       "      <td id=\"T_5ab79_row14_col3\" class=\"data row14 col3\" >4.2537</td>\n",
       "      <td id=\"T_5ab79_row14_col4\" class=\"data row14 col4\" >0.6844</td>\n",
       "      <td id=\"T_5ab79_row14_col5\" class=\"data row14 col5\" >0.1719</td>\n",
       "      <td id=\"T_5ab79_row14_col6\" class=\"data row14 col6\" >0.1333</td>\n",
       "      <td id=\"T_5ab79_row14_col7\" class=\"data row14 col7\" >0.0740</td>\n",
       "    </tr>\n",
       "    <tr>\n",
       "      <th id=\"T_5ab79_level0_row15\" class=\"row_heading level0 row15\" >omp</th>\n",
       "      <td id=\"T_5ab79_row15_col0\" class=\"data row15 col0\" >Orthogonal Matching Pursuit</td>\n",
       "      <td id=\"T_5ab79_row15_col1\" class=\"data row15 col1\" >3.1954</td>\n",
       "      <td id=\"T_5ab79_row15_col2\" class=\"data row15 col2\" >19.2325</td>\n",
       "      <td id=\"T_5ab79_row15_col3\" class=\"data row15 col3\" >4.3332</td>\n",
       "      <td id=\"T_5ab79_row15_col4\" class=\"data row15 col4\" >0.6802</td>\n",
       "      <td id=\"T_5ab79_row15_col5\" class=\"data row15 col5\" >0.1931</td>\n",
       "      <td id=\"T_5ab79_row15_col6\" class=\"data row15 col6\" >0.1392</td>\n",
       "      <td id=\"T_5ab79_row15_col7\" class=\"data row15 col7\" >0.0750</td>\n",
       "    </tr>\n",
       "    <tr>\n",
       "      <th id=\"T_5ab79_level0_row16\" class=\"row_heading level0 row16\" >dt</th>\n",
       "      <td id=\"T_5ab79_row16_col0\" class=\"data row16 col0\" >Decision Tree Regressor</td>\n",
       "      <td id=\"T_5ab79_row16_col1\" class=\"data row16 col1\" >3.6241</td>\n",
       "      <td id=\"T_5ab79_row16_col2\" class=\"data row16 col2\" >26.3950</td>\n",
       "      <td id=\"T_5ab79_row16_col3\" class=\"data row16 col3\" >5.0555</td>\n",
       "      <td id=\"T_5ab79_row16_col4\" class=\"data row16 col4\" >0.5517</td>\n",
       "      <td id=\"T_5ab79_row16_col5\" class=\"data row16 col5\" >0.1873</td>\n",
       "      <td id=\"T_5ab79_row16_col6\" class=\"data row16 col6\" >0.1513</td>\n",
       "      <td id=\"T_5ab79_row16_col7\" class=\"data row16 col7\" >0.0690</td>\n",
       "    </tr>\n",
       "    <tr>\n",
       "      <th id=\"T_5ab79_level0_row17\" class=\"row_heading level0 row17\" >par</th>\n",
       "      <td id=\"T_5ab79_row17_col0\" class=\"data row17 col0\" >Passive Aggressive Regressor</td>\n",
       "      <td id=\"T_5ab79_row17_col1\" class=\"data row17 col1\" >4.2287</td>\n",
       "      <td id=\"T_5ab79_row17_col2\" class=\"data row17 col2\" >35.3263</td>\n",
       "      <td id=\"T_5ab79_row17_col3\" class=\"data row17 col3\" >5.7920</td>\n",
       "      <td id=\"T_5ab79_row17_col4\" class=\"data row17 col4\" >0.4050</td>\n",
       "      <td id=\"T_5ab79_row17_col5\" class=\"data row17 col5\" >0.2711</td>\n",
       "      <td id=\"T_5ab79_row17_col6\" class=\"data row17 col6\" >0.1946</td>\n",
       "      <td id=\"T_5ab79_row17_col7\" class=\"data row17 col7\" >0.0720</td>\n",
       "    </tr>\n",
       "    <tr>\n",
       "      <th id=\"T_5ab79_level0_row18\" class=\"row_heading level0 row18\" >dummy</th>\n",
       "      <td id=\"T_5ab79_row18_col0\" class=\"data row18 col0\" >Dummy Regressor</td>\n",
       "      <td id=\"T_5ab79_row18_col1\" class=\"data row18 col1\" >6.7519</td>\n",
       "      <td id=\"T_5ab79_row18_col2\" class=\"data row18 col2\" >62.3947</td>\n",
       "      <td id=\"T_5ab79_row18_col3\" class=\"data row18 col3\" >7.8601</td>\n",
       "      <td id=\"T_5ab79_row18_col4\" class=\"data row18 col4\" >-0.0403</td>\n",
       "      <td id=\"T_5ab79_row18_col5\" class=\"data row18 col5\" >0.3332</td>\n",
       "      <td id=\"T_5ab79_row18_col6\" class=\"data row18 col6\" >0.3309</td>\n",
       "      <td id=\"T_5ab79_row18_col7\" class=\"data row18 col7\" >0.0800</td>\n",
       "    </tr>\n",
       "    <tr>\n",
       "      <th id=\"T_5ab79_level0_row19\" class=\"row_heading level0 row19\" >lr</th>\n",
       "      <td id=\"T_5ab79_row19_col0\" class=\"data row19 col0\" >Linear Regression</td>\n",
       "      <td id=\"T_5ab79_row19_col1\" class=\"data row19 col1\" >3069714331775272084799397156742775269692014592.0000</td>\n",
       "      <td id=\"T_5ab79_row19_col2\" class=\"data row19 col2\" >2534367496473042449922893738602442779833254166036605751341446296177272224223895861943462789120.0000</td>\n",
       "      <td id=\"T_5ab79_row19_col3\" class=\"data row19 col3\" >16243401432169510952566167480978885769187819520.0000</td>\n",
       "      <td id=\"T_5ab79_row19_col4\" class=\"data row19 col4\" >-32409645972544572820373668636670159708588895471854569503807161139027368568713599583680200704.0000</td>\n",
       "      <td id=\"T_5ab79_row19_col5\" class=\"data row19 col5\" >17.7239</td>\n",
       "      <td id=\"T_5ab79_row19_col6\" class=\"data row19 col6\" >169980685606259615139676796822533727234031616.0000</td>\n",
       "      <td id=\"T_5ab79_row19_col7\" class=\"data row19 col7\" >0.0940</td>\n",
       "    </tr>\n",
       "  </tbody>\n",
       "</table>\n"
      ],
      "text/plain": [
       "<pandas.io.formats.style.Styler at 0x23d55a36130>"
      ]
     },
     "metadata": {},
     "output_type": "display_data"
    },
    {
     "data": {
      "text/html": [],
      "text/plain": [
       "<IPython.core.display.HTML object>"
      ]
     },
     "metadata": {},
     "output_type": "display_data"
    }
   ],
   "source": [
    "# compare models using OOP\n",
    "best = s.compare_models(\n",
    "    \n",
    ")"
   ]
  },
  {
   "attachments": {},
   "cell_type": "markdown",
   "id": "340de1e2",
   "metadata": {},
   "source": [
    "Notice that the output between functional and OOP API is consistent. Rest of the functions in this notebook will only be shown using functional API only. \n",
    "\n",
    "___"
   ]
  },
  {
   "attachments": {},
   "cell_type": "markdown",
   "id": "6a77ec0c",
   "metadata": {},
   "source": [
    "## Analyze Model"
   ]
  },
  {
   "attachments": {},
   "cell_type": "markdown",
   "id": "595ea108",
   "metadata": {},
   "source": [
    "The `plot_model` function is used to analyze the performance of a trained model on the test set. It may require re-training the model in certain cases."
   ]
  },
  {
   "cell_type": "code",
   "execution_count": null,
   "id": "0ec7fad6",
   "metadata": {},
   "outputs": [],
   "source": [
    "# plot residuals\n",
    "plot_model(best, plot = 'residuals')"
   ]
  },
  {
   "cell_type": "code",
   "execution_count": null,
   "id": "9fc4b9b1",
   "metadata": {},
   "outputs": [],
   "source": [
    "# plot error\n",
    "plot_model(best, plot = 'error')"
   ]
  },
  {
   "cell_type": "code",
   "execution_count": null,
   "id": "bbc790e4",
   "metadata": {},
   "outputs": [],
   "source": [
    "# plot feature importance\n",
    "plot_model(best, plot = 'feature')"
   ]
  },
  {
   "cell_type": "code",
   "execution_count": null,
   "id": "da718984",
   "metadata": {},
   "outputs": [],
   "source": [
    "# check docstring to see available plots \n",
    "# help(plot_model)"
   ]
  },
  {
   "attachments": {},
   "cell_type": "markdown",
   "id": "6bd66179",
   "metadata": {},
   "source": [
    "An alternate to `plot_model` function is `evaluate_model`. It can only be used in Notebook since it uses `ipywidget`."
   ]
  },
  {
   "cell_type": "code",
   "execution_count": null,
   "id": "c75f07a8",
   "metadata": {},
   "outputs": [],
   "source": [
    "evaluate_model(best)"
   ]
  },
  {
   "attachments": {},
   "cell_type": "markdown",
   "id": "ab3d2f1e",
   "metadata": {},
   "source": [
    "___"
   ]
  },
  {
   "attachments": {},
   "cell_type": "markdown",
   "id": "954cbeff",
   "metadata": {},
   "source": [
    "## Prediction\n",
    "The `predict_model` function returns `prediction_label` as new column to the input dataframe. When data is `None` (default), it uses the test set (created during the setup function) for scoring."
   ]
  },
  {
   "cell_type": "code",
   "execution_count": null,
   "id": "87c1a007",
   "metadata": {},
   "outputs": [],
   "source": [
    "# predict on test set\n",
    "holdout_pred = predict_model(best)"
   ]
  },
  {
   "cell_type": "code",
   "execution_count": null,
   "id": "5c01ac77",
   "metadata": {},
   "outputs": [],
   "source": [
    "# show predictions df\n",
    "holdout_pred.head()"
   ]
  },
  {
   "attachments": {},
   "cell_type": "markdown",
   "id": "d4baf825",
   "metadata": {},
   "source": [
    "The same function works for predicting the labels on unseen dataset. Let's create a copy of original data and drop the `charges`. We can then use the new data frame without labels for scoring."
   ]
  },
  {
   "cell_type": "code",
   "execution_count": null,
   "id": "fb1cb86d",
   "metadata": {},
   "outputs": [],
   "source": [
    "# copy data and drop charges\n",
    "\n",
    "new_data = data.copy()\n",
    "new_data.drop('charges', axis=1, inplace=True)\n",
    "new_data.head()"
   ]
  },
  {
   "cell_type": "code",
   "execution_count": null,
   "id": "c5803df9",
   "metadata": {},
   "outputs": [],
   "source": [
    "# predict model on new_data\n",
    "predictions = predict_model(best, data = new_data)\n",
    "predictions.head()"
   ]
  },
  {
   "attachments": {},
   "cell_type": "markdown",
   "id": "3950252d",
   "metadata": {},
   "source": [
    "___"
   ]
  },
  {
   "attachments": {},
   "cell_type": "markdown",
   "id": "e4384735",
   "metadata": {},
   "source": [
    "## Save Model"
   ]
  },
  {
   "attachments": {},
   "cell_type": "markdown",
   "id": "cd63f053",
   "metadata": {},
   "source": [
    "Finally, you can save the entire pipeline on disk for later use, using pycaret's `save_model` function."
   ]
  },
  {
   "cell_type": "code",
   "execution_count": null,
   "id": "4181de41",
   "metadata": {},
   "outputs": [],
   "source": [
    "# save pipeline\n",
    "save_model(best, 'my_first_pipeline')"
   ]
  },
  {
   "cell_type": "code",
   "execution_count": null,
   "id": "40ed5152",
   "metadata": {},
   "outputs": [],
   "source": [
    "# load pipeline\n",
    "loaded_best_pipeline = load_model('my_first_pipeline')\n",
    "loaded_best_pipeline"
   ]
  },
  {
   "attachments": {},
   "cell_type": "markdown",
   "id": "b2c7d62e",
   "metadata": {},
   "source": [
    "# 👇 Detailed function-by-function overview"
   ]
  },
  {
   "attachments": {},
   "cell_type": "markdown",
   "id": "e05937f5",
   "metadata": {},
   "source": [
    "## ✅ Setup\n",
    "The `setup` function initializes the experiment in PyCaret and creates the transformation pipeline based on all the parameters passed in the function. Setup function must be called before executing any other function. It takes two required parameters: `data` and `target`. All the other parameters are optional and are used for configuring data preprocessing pipeline."
   ]
  },
  {
   "cell_type": "code",
   "execution_count": null,
   "id": "24e503be",
   "metadata": {},
   "outputs": [],
   "source": [
    "s = setup(data, target = 'charges', session_id = 123)"
   ]
  },
  {
   "attachments": {},
   "cell_type": "markdown",
   "id": "924d198b",
   "metadata": {},
   "source": [
    "To access all the variables created by the setup function such as transformed dataset, random_state, etc. you can use `get_config` method."
   ]
  },
  {
   "cell_type": "code",
   "execution_count": null,
   "id": "76128b08",
   "metadata": {},
   "outputs": [],
   "source": [
    "# check all available config\n",
    "get_config()"
   ]
  },
  {
   "cell_type": "code",
   "execution_count": null,
   "id": "dbc43292",
   "metadata": {},
   "outputs": [],
   "source": [
    "# lets access X_train_transformed\n",
    "get_config('X_train_transformed')"
   ]
  },
  {
   "cell_type": "code",
   "execution_count": null,
   "id": "ef9cd061",
   "metadata": {},
   "outputs": [],
   "source": [
    "# another example: let's access seed\n",
    "print(\"The current seed is: {}\".format(get_config('seed')))\n",
    "\n",
    "# now lets change it using set_config\n",
    "set_config('seed', 786)\n",
    "print(\"The new seed is: {}\".format(get_config('seed')))"
   ]
  },
  {
   "attachments": {},
   "cell_type": "markdown",
   "id": "7afbe41d",
   "metadata": {},
   "source": [
    "All the preprocessing configurations and experiment settings/parameters are passed into the `setup` function. To see all available parameters, check the docstring:"
   ]
  },
  {
   "cell_type": "code",
   "execution_count": null,
   "id": "2885a14f",
   "metadata": {},
   "outputs": [],
   "source": [
    "# help(setup)"
   ]
  },
  {
   "cell_type": "code",
   "execution_count": null,
   "id": "34ae0fce",
   "metadata": {},
   "outputs": [],
   "source": [
    "# init setup with normalize = True\n",
    "s = setup(data, target = 'charges', session_id = 123,\n",
    "          normalize = True, normalize_method = 'minmax')"
   ]
  },
  {
   "cell_type": "code",
   "execution_count": null,
   "id": "04204ae7",
   "metadata": {},
   "outputs": [],
   "source": [
    "# lets check the X_train_transformed to see effect of params passed\n",
    "get_config('X_train_transformed')['age'].hist()"
   ]
  },
  {
   "attachments": {},
   "cell_type": "markdown",
   "id": "d28a3e4e",
   "metadata": {},
   "source": [
    "Notice that all the values are between 0 and 1 - that is because we passed `normalize=True` in the `setup` function. If you don't remember how it compares to actual data, no problem - we can also access non-transformed values using `get_config` and then compare. See below and notice the range of values on x-axis and compare it with histogram above."
   ]
  },
  {
   "cell_type": "code",
   "execution_count": null,
   "id": "68cc1c63",
   "metadata": {},
   "outputs": [],
   "source": [
    "get_config('X_train')['age'].hist()"
   ]
  },
  {
   "attachments": {},
   "cell_type": "markdown",
   "id": "b3776fbf",
   "metadata": {},
   "source": [
    "___"
   ]
  },
  {
   "attachments": {},
   "cell_type": "markdown",
   "id": "36b8b803",
   "metadata": {},
   "source": [
    "## ✅ Compare Models\n",
    "The `compare_models` function trains and evaluates the performance of all estimators available in the model library using cross-validation. The output of this function is a scoring grid with average cross-validated scores. Metrics evaluated during CV can be accessed using the `get_metrics` function. Custom metrics can be added or removed using `add_metric` and `remove_metric` function."
   ]
  },
  {
   "cell_type": "code",
   "execution_count": null,
   "id": "a3350418",
   "metadata": {},
   "outputs": [],
   "source": [
    "best = compare_models()"
   ]
  },
  {
   "attachments": {},
   "cell_type": "markdown",
   "id": "cd18dcf6",
   "metadata": {},
   "source": [
    "`compare_models` by default uses all the estimators in model library (all except models with `Turbo=False`) . To see all available models you can use the function `models()`"
   ]
  },
  {
   "cell_type": "code",
   "execution_count": null,
   "id": "432e93d7",
   "metadata": {},
   "outputs": [],
   "source": [
    "# check available models\n",
    "models()"
   ]
  },
  {
   "attachments": {},
   "cell_type": "markdown",
   "id": "f588f54b",
   "metadata": {},
   "source": [
    "You can use the `include` and `exclude` parameter in the `compare_models` to train only select model or exclude specific models from training by passing the model id's in `exclude` parameter."
   ]
  },
  {
   "cell_type": "code",
   "execution_count": null,
   "id": "f2a7e578",
   "metadata": {},
   "outputs": [],
   "source": [
    "compare_tree_models = compare_models(include = ['dt', 'rf', 'et', 'gbr', 'xgboost', 'lightgbm', 'catboost'])"
   ]
  },
  {
   "cell_type": "code",
   "execution_count": null,
   "id": "c15a467e",
   "metadata": {},
   "outputs": [],
   "source": [
    "compare_tree_models"
   ]
  },
  {
   "attachments": {},
   "cell_type": "markdown",
   "id": "af9ae6cd",
   "metadata": {},
   "source": [
    "The function above has return trained model object as an output. The scoring grid is only displayed and not returned. If you need access to the scoring grid you can use `pull` function to access the dataframe."
   ]
  },
  {
   "cell_type": "code",
   "execution_count": null,
   "id": "fc529e25",
   "metadata": {},
   "outputs": [],
   "source": [
    "compare_tree_models_results = pull()\n",
    "compare_tree_models_results"
   ]
  },
  {
   "attachments": {},
   "cell_type": "markdown",
   "id": "05a72fc2",
   "metadata": {},
   "source": [
    "By default `compare_models` return the single best performing model based on the metric defined in the `sort` parameter. Let's change our code to return 3 top models based on `MAE`."
   ]
  },
  {
   "cell_type": "code",
   "execution_count": null,
   "id": "1066dd07",
   "metadata": {},
   "outputs": [],
   "source": [
    "best_mae_models_top3 = compare_models(sort = 'MAE', n_select = 3)"
   ]
  },
  {
   "cell_type": "code",
   "execution_count": null,
   "id": "aa259708",
   "metadata": {},
   "outputs": [],
   "source": [
    "# list of top 3 models by MAE\n",
    "best_mae_models_top3"
   ]
  },
  {
   "attachments": {},
   "cell_type": "markdown",
   "id": "1d91d27e",
   "metadata": {},
   "source": [
    "Some other parameters that you might find very useful in `compare_models` are:\n",
    "\n",
    "- fold\n",
    "- cross_validation\n",
    "- budget_time\n",
    "- errors\n",
    "- probability_threshold\n",
    "- parallel\n",
    "\n",
    "You can check the docstring of the function for more info."
   ]
  },
  {
   "cell_type": "code",
   "execution_count": null,
   "id": "f0c49e0b",
   "metadata": {},
   "outputs": [],
   "source": [
    "# help(compare_models)"
   ]
  },
  {
   "attachments": {},
   "cell_type": "markdown",
   "id": "9e6c47cb",
   "metadata": {},
   "source": [
    "## ✅ Experiment Logging\n",
    "PyCaret integrates with many different type of experiment loggers (default = 'mlflow'). To turn on experiment tracking in PyCaret you can set `log_experiment` and `experiment_name` parameter. It will automatically track all the metrics, hyperparameters, and artifacts based on the defined logger."
   ]
  },
  {
   "cell_type": "code",
   "execution_count": null,
   "id": "1af63fd0",
   "metadata": {},
   "outputs": [],
   "source": [
    "# from pycaret.regression import *\n",
    "# s = setup(data, target = 'charges', log_experiment='mlflow', experiment_name='insurance_experiment')"
   ]
  },
  {
   "cell_type": "code",
   "execution_count": null,
   "id": "42cd6120",
   "metadata": {},
   "outputs": [],
   "source": [
    "# compare models\n",
    "# best = compare_models()"
   ]
  },
  {
   "cell_type": "code",
   "execution_count": null,
   "id": "adc82ce5",
   "metadata": {},
   "outputs": [],
   "source": [
    "# start mlflow server on localhost:5000\n",
    "# !mlflow ui"
   ]
  },
  {
   "attachments": {},
   "cell_type": "markdown",
   "id": "a06f9df7",
   "metadata": {},
   "source": [
    "By default PyCaret uses `MLFlow` logger that can be changed using `log_experiment` parameter. Following loggers are available:\n",
    "    \n",
    "    - mlflow\n",
    "    - wandb\n",
    "    - comet_ml\n",
    "    - dagshub\n",
    "    \n",
    "Other logging related parameters that you may find useful are:\n",
    "\n",
    "- experiment_custom_tags\n",
    "- log_plots\n",
    "- log_data\n",
    "- log_profile\n",
    "\n",
    "For more information check out the docstring of the `setup` function."
   ]
  },
  {
   "cell_type": "code",
   "execution_count": null,
   "id": "2f8b6aa1",
   "metadata": {},
   "outputs": [],
   "source": [
    "# help(setup)"
   ]
  },
  {
   "attachments": {},
   "cell_type": "markdown",
   "id": "6ce0b555",
   "metadata": {},
   "source": [
    "## ✅ Create Model\n",
    "The `create_model` function trains and evaluates the performance of a given estimator using cross-validation. The output of this function is a scoring grid with CV scores by fold. Metrics evaluated during CV can be accessed using the `get_metrics` function. Custom metrics can be added or removed using `add_metric` and `remove_metric` function. All the available models can be accessed using the `models` function."
   ]
  },
  {
   "cell_type": "code",
   "execution_count": null,
   "id": "837cebfa",
   "metadata": {},
   "outputs": [],
   "source": [
    "# check all the available models\n",
    "models()"
   ]
  },
  {
   "cell_type": "code",
   "execution_count": null,
   "id": "16641cab",
   "metadata": {},
   "outputs": [],
   "source": [
    "# train linear regression with default fold=10\n",
    "lr = create_model('lr')"
   ]
  },
  {
   "attachments": {},
   "cell_type": "markdown",
   "id": "074b4572",
   "metadata": {},
   "source": [
    "The function above has return trained model object as an output. The scoring grid is only displayed and not returned. If you need access to the scoring grid you can use `pull` function to access the dataframe."
   ]
  },
  {
   "cell_type": "code",
   "execution_count": null,
   "id": "fe277e1b",
   "metadata": {},
   "outputs": [],
   "source": [
    "lr_results = pull()\n",
    "print(type(lr_results))\n",
    "lr_results"
   ]
  },
  {
   "cell_type": "code",
   "execution_count": null,
   "id": "148a74c4",
   "metadata": {},
   "outputs": [],
   "source": [
    "# train linear regression with fold=3\n",
    "lr = create_model('lr', fold=3)"
   ]
  },
  {
   "cell_type": "code",
   "execution_count": null,
   "id": "5a8906a8",
   "metadata": {},
   "outputs": [],
   "source": [
    "# train linear regression with specific model parameters\n",
    "create_model('lr', fit_intercept = False)"
   ]
  },
  {
   "cell_type": "code",
   "execution_count": null,
   "id": "b85af29b",
   "metadata": {},
   "outputs": [],
   "source": [
    "# train lr and return train score as well alongwith CV\n",
    "create_model('lr', return_train_score=True)"
   ]
  },
  {
   "attachments": {},
   "cell_type": "markdown",
   "id": "08634e9e",
   "metadata": {},
   "source": [
    "Some other parameters that you might find very useful in `create_model` are:\n",
    "\n",
    "- cross_validation\n",
    "- engine\n",
    "- fit_kwargs\n",
    "- groups\n",
    "\n",
    "You can check the docstring of the function for more info."
   ]
  },
  {
   "cell_type": "code",
   "execution_count": null,
   "id": "3fb32c74",
   "metadata": {},
   "outputs": [],
   "source": [
    "# help(create_model)"
   ]
  },
  {
   "attachments": {},
   "cell_type": "markdown",
   "id": "d5378836",
   "metadata": {},
   "source": [
    "## ✅ Tune Model\n",
    "\n",
    "The `tune_model` function tunes the hyperparameters of the model. The output of this function is a scoring grid with cross-validated scores by fold. The best model is selected based on the metric defined in optimize parameter. Metrics evaluated during cross-validation can be accessed using the `get_metrics` function. Custom metrics can be added or removed using `add_metric` and `remove_metric` function."
   ]
  },
  {
   "cell_type": "code",
   "execution_count": null,
   "id": "402597f2",
   "metadata": {},
   "outputs": [],
   "source": [
    "# train a dt model with default params\n",
    "dt = create_model('dt')"
   ]
  },
  {
   "cell_type": "code",
   "execution_count": null,
   "id": "90dc451d",
   "metadata": {},
   "outputs": [],
   "source": [
    "# tune hyperparameters of dt\n",
    "tuned_dt = tune_model(dt)"
   ]
  },
  {
   "attachments": {},
   "cell_type": "markdown",
   "id": "805b66b9",
   "metadata": {},
   "source": [
    "Metric to optimize can be defined in `optimize` parameter (default = 'Accuracy'). Also, a custom tuned grid can be passed with `custom_grid` parameter. "
   ]
  },
  {
   "cell_type": "code",
   "execution_count": null,
   "id": "cca8e640",
   "metadata": {},
   "outputs": [],
   "source": [
    "dt"
   ]
  },
  {
   "cell_type": "code",
   "execution_count": null,
   "id": "31e050ff",
   "metadata": {},
   "outputs": [],
   "source": [
    "# define tuning grid\n",
    "dt_grid = {'max_depth' : [None, 2, 4, 6, 8, 10, 12]}\n",
    "\n",
    "# tune model with custom grid and metric = MAE\n",
    "tuned_dt = tune_model(dt, custom_grid = dt_grid, optimize = 'MAE')"
   ]
  },
  {
   "cell_type": "code",
   "execution_count": null,
   "id": "6cca514b",
   "metadata": {},
   "outputs": [],
   "source": [
    "# to access the tuner object you can set return_tuner = True\n",
    "tuned_dt, tuner = tune_model(dt, return_tuner=True)"
   ]
  },
  {
   "cell_type": "code",
   "execution_count": null,
   "id": "80cbb4a6",
   "metadata": {},
   "outputs": [],
   "source": [
    "# model object\n",
    "tuned_dt"
   ]
  },
  {
   "cell_type": "code",
   "execution_count": null,
   "id": "7d5e49ca",
   "metadata": {},
   "outputs": [],
   "source": [
    "# tuner object\n",
    "tuner"
   ]
  },
  {
   "attachments": {},
   "cell_type": "markdown",
   "id": "0a33c70b",
   "metadata": {},
   "source": [
    "The default search algorithm is `RandomizedSearchCV` from `sklearn`. This can be changed by using `search_library` and `search_algorithm` parameter."
   ]
  },
  {
   "cell_type": "code",
   "execution_count": null,
   "id": "31e33547",
   "metadata": {},
   "outputs": [],
   "source": [
    "# tune dt using optuna\n",
    "tuned_dt = tune_model(dt, search_library = 'optuna')"
   ]
  },
  {
   "attachments": {},
   "cell_type": "markdown",
   "id": "a1e2875b",
   "metadata": {},
   "source": [
    "For more details on all available `search_library` and `search_algorithm` please check the docstring. Some other parameters that you might find very useful in `tune_model` are:\n",
    "\n",
    "- choose_better\n",
    "- n_iter\n",
    "- early_stopping\n",
    "- groups\n",
    "\n",
    "You can check the docstring of the function for more info."
   ]
  },
  {
   "cell_type": "code",
   "execution_count": null,
   "id": "94f9c86e",
   "metadata": {},
   "outputs": [],
   "source": [
    "# help(tune_model)"
   ]
  },
  {
   "attachments": {},
   "cell_type": "markdown",
   "id": "2ca8ee07",
   "metadata": {},
   "source": [
    "## ✅ Ensemble Model"
   ]
  },
  {
   "attachments": {},
   "cell_type": "markdown",
   "id": "ce321d4c",
   "metadata": {},
   "source": [
    "The `ensemble_model` function ensembles a given estimator. The output of this function is a scoring grid with CV scores by fold. Metrics evaluated during CV can be accessed using the `get_metrics` function. Custom metrics can be added or removed using `add_metric` and `remove_metric` function."
   ]
  },
  {
   "cell_type": "code",
   "execution_count": null,
   "id": "c8ee936d",
   "metadata": {},
   "outputs": [],
   "source": [
    "# ensemble with bagging\n",
    "ensemble_model(dt, method = 'Bagging')"
   ]
  },
  {
   "cell_type": "code",
   "execution_count": null,
   "id": "79279394",
   "metadata": {},
   "outputs": [],
   "source": [
    "# ensemble with boosting\n",
    "ensemble_model(dt, method = 'Boosting')"
   ]
  },
  {
   "attachments": {},
   "cell_type": "markdown",
   "id": "d0fa1ce2",
   "metadata": {},
   "source": [
    "Some other parameters that you might find very useful in `ensemble_model` are:\n",
    "\n",
    "- choose_better\n",
    "- n_estimators\n",
    "- groups\n",
    "- fit_kwargs\n",
    "- return_train_score\n",
    "\n",
    "You can check the docstring of the function for more info."
   ]
  },
  {
   "cell_type": "code",
   "execution_count": null,
   "id": "78130ed1",
   "metadata": {},
   "outputs": [],
   "source": [
    "# help(ensemble_model)"
   ]
  },
  {
   "attachments": {},
   "cell_type": "markdown",
   "id": "ea8a9a4e",
   "metadata": {},
   "source": [
    "## ✅ Blend Models"
   ]
  },
  {
   "attachments": {},
   "cell_type": "markdown",
   "id": "2ede29c4",
   "metadata": {},
   "source": [
    "The `blend_models` function trains a `VotingRegressor` for select models passed in the `estimator_list` parameter. The output of this function is a scoring grid with CV scores by fold. Metrics evaluated during CV can be accessed using the `get_metrics` function. Custom metrics can be added or removed using `add_metric` and `remove_metric` function."
   ]
  },
  {
   "cell_type": "code",
   "execution_count": null,
   "id": "61a7a1c5",
   "metadata": {},
   "outputs": [],
   "source": [
    "# top 3 models based on mae\n",
    "best_mae_models_top3"
   ]
  },
  {
   "cell_type": "code",
   "execution_count": null,
   "id": "04f65f2f",
   "metadata": {},
   "outputs": [],
   "source": [
    "# blend top 3 models\n",
    "blend_models(best_mae_models_top3)"
   ]
  },
  {
   "attachments": {},
   "cell_type": "markdown",
   "id": "9e788c9c",
   "metadata": {},
   "source": [
    "Some other parameters that you might find very useful in `blend_models` are:\n",
    "\n",
    "- choose_better\n",
    "- weights\n",
    "- optimize\n",
    "- fit_kwargs\n",
    "- return_train_score\n",
    "\n",
    "You can check the docstring of the function for more info."
   ]
  },
  {
   "cell_type": "code",
   "execution_count": null,
   "id": "99b549a6",
   "metadata": {},
   "outputs": [],
   "source": [
    "# help(blend_models)"
   ]
  },
  {
   "attachments": {},
   "cell_type": "markdown",
   "id": "e76969b0",
   "metadata": {},
   "source": [
    "## ✅ Stack Models"
   ]
  },
  {
   "attachments": {},
   "cell_type": "markdown",
   "id": "55909804",
   "metadata": {},
   "source": [
    "The `stack_models` function trains a meta-model over select estimators passed in the estimator_list parameter. The output of this function is a scoring grid with CV scores by fold. Metrics evaluated during CV can be accessed using the `get_metrics` function. Custom metrics can be added or removed using `add_metric` and `remove_metric` function."
   ]
  },
  {
   "cell_type": "code",
   "execution_count": null,
   "id": "201c681e",
   "metadata": {},
   "outputs": [],
   "source": [
    "# stack models\n",
    "stack_models(best_mae_models_top3)"
   ]
  },
  {
   "attachments": {},
   "cell_type": "markdown",
   "id": "af78cda8",
   "metadata": {},
   "source": [
    "Some other parameters that you might find very useful in `stack_models` are:\n",
    "\n",
    "- choose_better\n",
    "- meta_model\n",
    "- restack\n",
    "- optimize\n",
    "- return_train_score\n",
    "\n",
    "You can check the docstring of the function for more info."
   ]
  },
  {
   "cell_type": "code",
   "execution_count": null,
   "id": "3305e597",
   "metadata": {},
   "outputs": [],
   "source": [
    "# help(stack_models)"
   ]
  },
  {
   "attachments": {},
   "cell_type": "markdown",
   "id": "279a3127",
   "metadata": {},
   "source": [
    "## ✅ Plot Model"
   ]
  },
  {
   "attachments": {},
   "cell_type": "markdown",
   "id": "862bd3e9",
   "metadata": {},
   "source": [
    "The `plot_model` function analyzes the performance of a trained model on the hold-out set. It may require re-training the model in certain cases."
   ]
  },
  {
   "cell_type": "code",
   "execution_count": null,
   "id": "9c8da9b4",
   "metadata": {},
   "outputs": [],
   "source": [
    "# plot residuals\n",
    "plot_model(best, plot = 'residuals')"
   ]
  },
  {
   "cell_type": "code",
   "execution_count": null,
   "id": "952b6f24",
   "metadata": {},
   "outputs": [],
   "source": [
    "# to control the scale of plot\n",
    "plot_model(best, plot = 'residuals', scale = 2)"
   ]
  },
  {
   "cell_type": "code",
   "execution_count": null,
   "id": "293e4d15",
   "metadata": {},
   "outputs": [],
   "source": [
    "# to save the plot\n",
    "plot_model(best, plot = 'residuals', save=True)"
   ]
  },
  {
   "attachments": {},
   "cell_type": "markdown",
   "id": "2fef279d",
   "metadata": {},
   "source": [
    "Some other parameters that you might find very useful in `plot_model` are:\n",
    "\n",
    "- fit_kwargs\n",
    "- plot_kwargs\n",
    "- groups\n",
    "- display_format\n",
    "\n",
    "You can check the docstring of the function for more info."
   ]
  },
  {
   "cell_type": "code",
   "execution_count": null,
   "id": "54b09b8e",
   "metadata": {},
   "outputs": [],
   "source": [
    "# help(plot_model)"
   ]
  },
  {
   "attachments": {},
   "cell_type": "markdown",
   "id": "b724ca46",
   "metadata": {},
   "source": [
    "## ✅ Interpret Model"
   ]
  },
  {
   "attachments": {},
   "cell_type": "markdown",
   "id": "52f8fb33",
   "metadata": {},
   "source": [
    "The `interpret_model` function analyzes the predictions generated from a trained model. Most plots in this function are implemented based on the SHAP (Shapley Additive exPlanations). For more info on this, please see https://shap.readthedocs.io/en/latest/"
   ]
  },
  {
   "cell_type": "code",
   "execution_count": null,
   "id": "6b6891b7",
   "metadata": {},
   "outputs": [],
   "source": [
    "# train lightgbm model\n",
    "lightgbm = create_model('lightgbm')"
   ]
  },
  {
   "cell_type": "code",
   "execution_count": null,
   "id": "3198b571",
   "metadata": {},
   "outputs": [],
   "source": [
    "# interpret summary model\n",
    "interpret_model(lightgbm, plot = 'summary')"
   ]
  },
  {
   "cell_type": "code",
   "execution_count": null,
   "id": "824bafdc",
   "metadata": {},
   "outputs": [],
   "source": [
    "# reason plot for test set observation 1\n",
    "interpret_model(lightgbm, plot = 'reason', observation = 1)"
   ]
  },
  {
   "attachments": {},
   "cell_type": "markdown",
   "id": "ca7ce2b4",
   "metadata": {},
   "source": [
    "Some other parameters that you might find very useful in `interpret_model` are:\n",
    "\n",
    "- plot\n",
    "- feature\n",
    "- use_train_data\n",
    "- X_new_sample\n",
    "- y_new_sample\n",
    "- save\n",
    "\n",
    "You can check the docstring of the function for more info."
   ]
  },
  {
   "cell_type": "code",
   "execution_count": null,
   "id": "42595030",
   "metadata": {},
   "outputs": [],
   "source": [
    "# help(interpret_model)"
   ]
  },
  {
   "attachments": {},
   "cell_type": "markdown",
   "id": "9f57d0c8",
   "metadata": {},
   "source": [
    "## ✅ Get Leaderboard"
   ]
  },
  {
   "attachments": {},
   "cell_type": "markdown",
   "id": "ec63b67a",
   "metadata": {},
   "source": [
    "This function returns the leaderboard of all models trained in the current setup."
   ]
  },
  {
   "cell_type": "code",
   "execution_count": null,
   "id": "307a6e3c",
   "metadata": {},
   "outputs": [],
   "source": [
    "# get leaderboard\n",
    "lb = get_leaderboard()\n",
    "lb"
   ]
  },
  {
   "cell_type": "code",
   "execution_count": null,
   "id": "f8a8b060",
   "metadata": {},
   "outputs": [],
   "source": [
    "# select the best model based on MAE\n",
    "lb.sort_values(by='MAE', ascending=True)['Model'].iloc[0]"
   ]
  },
  {
   "attachments": {},
   "cell_type": "markdown",
   "id": "9ecf0bfa",
   "metadata": {},
   "source": [
    "Some other parameters that you might find very useful in `get_leaderboard` are:\n",
    "\n",
    "- finalize_models\n",
    "- fit_kwargs\n",
    "- model_only\n",
    "- groups\n",
    "\n",
    "You can check the docstring of the function for more info."
   ]
  },
  {
   "cell_type": "code",
   "execution_count": null,
   "id": "dc76f0a5",
   "metadata": {},
   "outputs": [],
   "source": [
    "# help(get_leaderboard)"
   ]
  },
  {
   "attachments": {},
   "cell_type": "markdown",
   "id": "94669c72",
   "metadata": {},
   "source": [
    "## ✅ AutoML\n",
    "This function returns the best model out of all trained models in the current setup based on the optimize parameter. Metrics evaluated can be accessed using the `get_metrics` function."
   ]
  },
  {
   "cell_type": "code",
   "execution_count": null,
   "id": "01532054",
   "metadata": {},
   "outputs": [],
   "source": [
    "# find best model based on CV metrics\n",
    "automl()"
   ]
  },
  {
   "attachments": {},
   "cell_type": "markdown",
   "id": "726b2986",
   "metadata": {},
   "source": [
    "## ✅ Dashboard\n",
    "The dashboard function generates the interactive dashboard for a trained model. The dashboard is implemented using `ExplainerDashboard`. For more information check out [Explainer Dashboard.](explainerdashboard.readthedocs.io)"
   ]
  },
  {
   "cell_type": "code",
   "execution_count": null,
   "id": "ca75507d",
   "metadata": {},
   "outputs": [],
   "source": [
    "# dashboard function\n",
    "dashboard(dt, display_format ='inline')"
   ]
  },
  {
   "attachments": {},
   "cell_type": "markdown",
   "id": "58fd3e5a",
   "metadata": {},
   "source": [
    "## ✅Create App\n",
    "This function creates a basic gradio app for inference."
   ]
  },
  {
   "cell_type": "code",
   "execution_count": null,
   "id": "5cf989d3",
   "metadata": {},
   "outputs": [],
   "source": [
    "# create gradio app\n",
    "create_app(best)"
   ]
  },
  {
   "attachments": {},
   "cell_type": "markdown",
   "id": "a2d8e21d",
   "metadata": {},
   "source": [
    "## ✅ Create API\n",
    "This function takes an input model and creates a POST API for inference."
   ]
  },
  {
   "cell_type": "code",
   "execution_count": null,
   "id": "978413c9",
   "metadata": {},
   "outputs": [],
   "source": [
    "# create api\n",
    "create_api(best, api_name = 'my_first_api')"
   ]
  },
  {
   "cell_type": "code",
   "execution_count": null,
   "id": "68e539aa",
   "metadata": {},
   "outputs": [],
   "source": [
    "# !python my_first_api.py"
   ]
  },
  {
   "cell_type": "code",
   "execution_count": null,
   "id": "a3de3327",
   "metadata": {},
   "outputs": [],
   "source": [
    "# check out the .py file created with this magic command\n",
    "# %load my_first_api.py"
   ]
  },
  {
   "attachments": {},
   "cell_type": "markdown",
   "id": "1023f7df",
   "metadata": {},
   "source": [
    "## ✅ Create Docker\n",
    "This function creates a `Dockerfile` and `requirements.txt` for productionalizing API end-point."
   ]
  },
  {
   "cell_type": "code",
   "execution_count": null,
   "id": "452ced14",
   "metadata": {},
   "outputs": [],
   "source": [
    "create_docker('my_first_api')"
   ]
  },
  {
   "cell_type": "code",
   "execution_count": null,
   "id": "301e1fa5",
   "metadata": {},
   "outputs": [],
   "source": [
    "# check out the DockerFile file created with this magic command\n",
    "# %load DockerFile"
   ]
  },
  {
   "cell_type": "code",
   "execution_count": null,
   "id": "ca1e9ef7",
   "metadata": {},
   "outputs": [],
   "source": [
    "# check out the requirements file created with this magic command\n",
    "# %load requirements.txt"
   ]
  },
  {
   "attachments": {},
   "cell_type": "markdown",
   "id": "e27c212b",
   "metadata": {},
   "source": [
    "## ✅ Finalize Model\n",
    "This function trains a given model on the entire dataset including the hold-out set."
   ]
  },
  {
   "cell_type": "code",
   "execution_count": null,
   "id": "65225684",
   "metadata": {},
   "outputs": [],
   "source": [
    "final_best = finalize_model(best)"
   ]
  },
  {
   "cell_type": "code",
   "execution_count": null,
   "id": "80d17fec",
   "metadata": {},
   "outputs": [],
   "source": [
    "final_best"
   ]
  },
  {
   "attachments": {},
   "cell_type": "markdown",
   "id": "b4693f88",
   "metadata": {},
   "source": [
    "## ✅ Convert Model\n",
    "This function transpiles the trained machine learning model's decision function in different programming languages such as Python, C, Java, Go, C#, etc. It is very useful if you want to deploy models into environments where you can't install your normal Python stack to support model inference."
   ]
  },
  {
   "cell_type": "code",
   "execution_count": null,
   "id": "dbe0e9fe",
   "metadata": {},
   "outputs": [],
   "source": [
    "# transpiles learned function to java\n",
    "print(convert_model(dt, language = 'java'))"
   ]
  },
  {
   "attachments": {},
   "cell_type": "markdown",
   "id": "ed00202c",
   "metadata": {},
   "source": [
    "## ✅ Deploy Model\n",
    "This function deploys the entire ML pipeline on the cloud.\n",
    "\n",
    "**AWS:**  When deploying model on AWS S3, environment variables must be configured using the command-line interface. To configure AWS environment variables, type `aws configure` in terminal. The following information is required which can be generated using the Identity and Access Management (IAM) portal of your amazon console account:\n",
    "\n",
    "- AWS Access Key ID\n",
    "- AWS Secret Key Access\n",
    "- Default Region Name (can be seen under Global settings on your AWS console)\n",
    "- Default output format (must be left blank)\n",
    "\n",
    "**GCP:** To deploy a model on Google Cloud Platform ('gcp'), the project must be created using the command-line or GCP console. Once the project is created, you must create a service account and download the service account key as a JSON file to set environment variables in your local environment. Learn more about it: https://cloud.google.com/docs/authentication/production\n",
    "\n",
    "**Azure:** To deploy a model on Microsoft Azure ('azure'), environment variables for the connection string must be set in your local environment. Go to settings of storage account on Azure portal to access the connection string required.\n",
    "AZURE_STORAGE_CONNECTION_STRING (required as environment variable)\n",
    "Learn more about it: https://docs.microsoft.com/en-us/azure/storage/blobs/storage-quickstart-blobs-python?toc=%2Fpython%2Fazure%2FTOC.json"
   ]
  },
  {
   "cell_type": "code",
   "execution_count": null,
   "id": "40b20a18",
   "metadata": {},
   "outputs": [],
   "source": [
    "# deploy model on aws s3\n",
    "# deploy_model(best, model_name = 'my_first_platform_on_aws',\n",
    "#             platform = 'aws', authentication = {'bucket' : 'pycaret-test'})"
   ]
  },
  {
   "cell_type": "code",
   "execution_count": null,
   "id": "9e236516",
   "metadata": {},
   "outputs": [],
   "source": [
    "# load model from aws s3\n",
    "# loaded_from_aws = load_model(model_name = 'my_first_platform_on_aws', platform = 'aws',\n",
    "#                              authentication = {'bucket' : 'pycaret-test'})\n",
    "\n",
    "# loaded_from_aws"
   ]
  },
  {
   "attachments": {},
   "cell_type": "markdown",
   "id": "e169ae86",
   "metadata": {},
   "source": [
    "## ✅ Save / Load Model\n",
    "This function saves the transformation pipeline and a trained model object into the current working directory as a pickle file for later use."
   ]
  },
  {
   "cell_type": "code",
   "execution_count": null,
   "id": "bc5cf24a",
   "metadata": {},
   "outputs": [],
   "source": [
    "# save model\n",
    "save_model(best, 'my_first_model')"
   ]
  },
  {
   "cell_type": "code",
   "execution_count": null,
   "id": "e8478d34",
   "metadata": {},
   "outputs": [],
   "source": [
    "# load model\n",
    "loaded_from_disk = load_model('my_first_model')\n",
    "loaded_from_disk"
   ]
  },
  {
   "attachments": {},
   "cell_type": "markdown",
   "id": "de5eee8c",
   "metadata": {},
   "source": [
    "## ✅ Save / Load Experiment\n",
    "This function saves all the experiment variables on disk, allowing to later resume without rerunning the setup function."
   ]
  },
  {
   "cell_type": "code",
   "execution_count": null,
   "id": "6a3c61b6",
   "metadata": {},
   "outputs": [],
   "source": [
    "# save experiment\n",
    "save_experiment('my_experiment')"
   ]
  },
  {
   "cell_type": "code",
   "execution_count": null,
   "id": "83252c09",
   "metadata": {},
   "outputs": [],
   "source": [
    "# load experiment from disk\n",
    "exp_from_disk = load_experiment('my_experiment', data=data)"
   ]
  },
  {
   "cell_type": "code",
   "execution_count": null,
   "id": "154571c1",
   "metadata": {},
   "outputs": [],
   "source": []
  }
 ],
 "metadata": {
  "kernelspec": {
   "display_name": "EXAM_ML",
   "language": "python",
   "name": "python3"
  },
  "language_info": {
   "codemirror_mode": {
    "name": "ipython",
    "version": 3
   },
   "file_extension": ".py",
   "mimetype": "text/x-python",
   "name": "python",
   "nbconvert_exporter": "python",
   "pygments_lexer": "ipython3",
   "version": "3.9.18"
  }
 },
 "nbformat": 4,
 "nbformat_minor": 5
}
