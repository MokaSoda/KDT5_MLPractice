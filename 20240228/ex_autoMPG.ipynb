{
 "cells": [
  {
   "cell_type": "code",
   "execution_count": 31,
   "metadata": {
    "ExecuteTime": {
     "end_time": "2024-02-28T12:42:16.171378200Z",
     "start_time": "2024-02-28T12:42:15.574342100Z"
    }
   },
   "outputs": [
    {
     "name": "stderr",
     "output_type": "stream",
     "text": [
      "Intel(R) Extension for Scikit-learn* enabled (https://github.com/intel/scikit-learn-intelex)\n"
     ]
    }
   ],
   "source": [
    "# autoMPG\n",
    "import pandas as pd\n",
    "import numpy as np\n",
    "from sklearnex import patch_sklearn, unpatch_sklearn\n",
    "patch_sklearn()\n",
    "import sklearn\n",
    "import matplotlib.pyplot as plt\n",
    "import matplotlib as mpl\n",
    "# font to 맑은 고딕\n",
    "mpl.rc('font', family='Malgun Gothic')\n",
    "import seaborn as sns\n"
   ]
  },
  {
   "cell_type": "markdown",
   "metadata": {},
   "source": [
    "### 데이터셋 로딩 및 전처리\n"
   ]
  },
  {
   "cell_type": "code",
   "execution_count": 32,
   "metadata": {
    "ExecuteTime": {
     "end_time": "2024-02-28T12:42:16.935303400Z",
     "start_time": "2024-02-28T12:42:16.172375100Z"
    }
   },
   "outputs": [
    {
     "data": {
      "text/html": [
       "<div>\n",
       "<style scoped>\n",
       "    .dataframe tbody tr th:only-of-type {\n",
       "        vertical-align: middle;\n",
       "    }\n",
       "\n",
       "    .dataframe tbody tr th {\n",
       "        vertical-align: top;\n",
       "    }\n",
       "\n",
       "    .dataframe thead th {\n",
       "        text-align: right;\n",
       "    }\n",
       "</style>\n",
       "<table border=\"1\" class=\"dataframe\">\n",
       "  <thead>\n",
       "    <tr style=\"text-align: right;\">\n",
       "      <th></th>\n",
       "      <th>mpg</th>\n",
       "      <th>cylinders</th>\n",
       "      <th>displacement</th>\n",
       "      <th>horsepower</th>\n",
       "      <th>weight</th>\n",
       "      <th>acceleration</th>\n",
       "      <th>model_year</th>\n",
       "      <th>origin</th>\n",
       "      <th>car_name</th>\n",
       "    </tr>\n",
       "  </thead>\n",
       "  <tbody>\n",
       "    <tr>\n",
       "      <th>0</th>\n",
       "      <td>18.0</td>\n",
       "      <td>8</td>\n",
       "      <td>307.0</td>\n",
       "      <td>130.0</td>\n",
       "      <td>3504.0</td>\n",
       "      <td>12.0</td>\n",
       "      <td>70</td>\n",
       "      <td>1</td>\n",
       "      <td>chevrolet chevelle malibu</td>\n",
       "    </tr>\n",
       "    <tr>\n",
       "      <th>1</th>\n",
       "      <td>15.0</td>\n",
       "      <td>8</td>\n",
       "      <td>350.0</td>\n",
       "      <td>165.0</td>\n",
       "      <td>3693.0</td>\n",
       "      <td>11.5</td>\n",
       "      <td>70</td>\n",
       "      <td>1</td>\n",
       "      <td>buick skylark 320</td>\n",
       "    </tr>\n",
       "    <tr>\n",
       "      <th>2</th>\n",
       "      <td>18.0</td>\n",
       "      <td>8</td>\n",
       "      <td>318.0</td>\n",
       "      <td>150.0</td>\n",
       "      <td>3436.0</td>\n",
       "      <td>11.0</td>\n",
       "      <td>70</td>\n",
       "      <td>1</td>\n",
       "      <td>plymouth satellite</td>\n",
       "    </tr>\n",
       "    <tr>\n",
       "      <th>3</th>\n",
       "      <td>16.0</td>\n",
       "      <td>8</td>\n",
       "      <td>304.0</td>\n",
       "      <td>150.0</td>\n",
       "      <td>3433.0</td>\n",
       "      <td>12.0</td>\n",
       "      <td>70</td>\n",
       "      <td>1</td>\n",
       "      <td>amc rebel sst</td>\n",
       "    </tr>\n",
       "    <tr>\n",
       "      <th>4</th>\n",
       "      <td>17.0</td>\n",
       "      <td>8</td>\n",
       "      <td>302.0</td>\n",
       "      <td>140.0</td>\n",
       "      <td>3449.0</td>\n",
       "      <td>10.5</td>\n",
       "      <td>70</td>\n",
       "      <td>1</td>\n",
       "      <td>ford torino</td>\n",
       "    </tr>\n",
       "  </tbody>\n",
       "</table>\n",
       "</div>"
      ],
      "text/plain": [
       "    mpg  cylinders  displacement horsepower  weight  acceleration  model_year  \\\n",
       "0  18.0          8         307.0      130.0  3504.0          12.0          70   \n",
       "1  15.0          8         350.0      165.0  3693.0          11.5          70   \n",
       "2  18.0          8         318.0      150.0  3436.0          11.0          70   \n",
       "3  16.0          8         304.0      150.0  3433.0          12.0          70   \n",
       "4  17.0          8         302.0      140.0  3449.0          10.5          70   \n",
       "\n",
       "   origin                   car_name  \n",
       "0       1  chevrolet chevelle malibu  \n",
       "1       1          buick skylark 320  \n",
       "2       1         plymouth satellite  \n",
       "3       1              amc rebel sst  \n",
       "4       1                ford torino  "
      ]
     },
     "execution_count": 32,
     "metadata": {},
     "output_type": "execute_result"
    }
   ],
   "source": [
    "url = 'https://archive.ics.uci.edu/ml/machine-learning-databases/auto-mpg/auto-mpg.data'\n",
    "df = pd.read_csv(url, header=None, sep='\\s+')\n",
    "df.columns = ['mpg', 'cylinders', 'displacement', 'horsepower', 'weight', 'acceleration', 'model_year', 'origin', 'car_name']\n",
    "df.head()"
   ]
  },
  {
   "cell_type": "code",
   "execution_count": 33,
   "metadata": {
    "ExecuteTime": {
     "end_time": "2024-02-28T12:42:16.997792500Z",
     "start_time": "2024-02-28T12:42:16.968598300Z"
    }
   },
   "outputs": [
    {
     "name": "stdout",
     "output_type": "stream",
     "text": [
      "<class 'pandas.core.frame.DataFrame'>\n",
      "RangeIndex: 398 entries, 0 to 397\n",
      "Data columns (total 9 columns):\n",
      " #   Column        Non-Null Count  Dtype   \n",
      "---  ------        --------------  -----   \n",
      " 0   mpg           398 non-null    float64 \n",
      " 1   cylinders     398 non-null    int64   \n",
      " 2   displacement  398 non-null    float64 \n",
      " 3   horsepower    398 non-null    object  \n",
      " 4   weight        398 non-null    float64 \n",
      " 5   acceleration  398 non-null    float64 \n",
      " 6   model_year    398 non-null    int64   \n",
      " 7   origin        398 non-null    category\n",
      " 8   car_name      398 non-null    object  \n",
      "dtypes: category(1), float64(4), int64(2), object(2)\n",
      "memory usage: 25.5+ KB\n"
     ]
    }
   ],
   "source": [
    "df['origin'] = df['origin'].astype('category')\n",
    "df['model_year'] = df['model_year'].apply(lambda x: pd.to_datetime(x, format='%y').year)\n",
    "df.info()"
   ]
  },
  {
   "cell_type": "code",
   "execution_count": 34,
   "metadata": {
    "ExecuteTime": {
     "end_time": "2024-02-28T12:42:17.054951100Z",
     "start_time": "2024-02-28T12:42:16.970598500Z"
    }
   },
   "outputs": [
    {
     "name": "stdout",
     "output_type": "stream",
     "text": [
      "<class 'pandas.core.frame.DataFrame'>\n",
      "RangeIndex: 392 entries, 0 to 391\n",
      "Data columns (total 9 columns):\n",
      " #   Column        Non-Null Count  Dtype   \n",
      "---  ------        --------------  -----   \n",
      " 0   mpg           392 non-null    float64 \n",
      " 1   cylinders     392 non-null    int64   \n",
      " 2   displacement  392 non-null    float64 \n",
      " 3   horsepower    392 non-null    float64 \n",
      " 4   weight        392 non-null    float64 \n",
      " 5   acceleration  392 non-null    float64 \n",
      " 6   model_year    392 non-null    int64   \n",
      " 7   origin        392 non-null    category\n",
      " 8   car_name      392 non-null    object  \n",
      "dtypes: category(1), float64(5), int64(2), object(1)\n",
      "memory usage: 25.1+ KB\n"
     ]
    }
   ],
   "source": [
    "# df['horsepower'] = df['horsepower'].apply(lambda x: pd.to_numeric(x, errors='coerce'))\n",
    "df['horsepower'] = pd.to_numeric(df['horsepower'], errors='coerce')\n",
    "df.dropna(inplace=True, axis=0)\n",
    "df.reset_index(drop=True, inplace=True)\n",
    "df.info()"
   ]
  },
  {
   "cell_type": "code",
   "execution_count": 35,
   "metadata": {
    "ExecuteTime": {
     "end_time": "2024-02-28T12:42:17.114755800Z",
     "start_time": "2024-02-28T12:42:16.988306400Z"
    }
   },
   "outputs": [
    {
     "data": {
      "text/plain": [
       "mpg             1.000000\n",
       "cylinders      -0.777618\n",
       "displacement   -0.805127\n",
       "horsepower     -0.778427\n",
       "weight         -0.832244\n",
       "acceleration    0.423329\n",
       "Name: mpg, dtype: float64"
      ]
     },
     "execution_count": 35,
     "metadata": {},
     "output_type": "execute_result"
    }
   ],
   "source": [
    "corrdf = df.drop([\n",
    "    'car_name', \n",
    "    'origin', \n",
    "    'model_year',\n",
    "    ], axis=1)\n",
    "corrdf.corr()['mpg']"
   ]
  },
  {
   "cell_type": "code",
   "execution_count": 36,
   "metadata": {
    "ExecuteTime": {
     "end_time": "2024-02-28T12:42:17.116749Z",
     "start_time": "2024-02-28T12:42:16.994801400Z"
    }
   },
   "outputs": [
    {
     "data": {
      "text/html": [
       "<div>\n",
       "<style scoped>\n",
       "    .dataframe tbody tr th:only-of-type {\n",
       "        vertical-align: middle;\n",
       "    }\n",
       "\n",
       "    .dataframe tbody tr th {\n",
       "        vertical-align: top;\n",
       "    }\n",
       "\n",
       "    .dataframe thead th {\n",
       "        text-align: right;\n",
       "    }\n",
       "</style>\n",
       "<table border=\"1\" class=\"dataframe\">\n",
       "  <thead>\n",
       "    <tr style=\"text-align: right;\">\n",
       "      <th></th>\n",
       "      <th>cylinders</th>\n",
       "      <th>displacement</th>\n",
       "      <th>horsepower</th>\n",
       "      <th>weight</th>\n",
       "      <th>acceleration</th>\n",
       "    </tr>\n",
       "  </thead>\n",
       "  <tbody>\n",
       "    <tr>\n",
       "      <th>387</th>\n",
       "      <td>4</td>\n",
       "      <td>140.0</td>\n",
       "      <td>86.0</td>\n",
       "      <td>2790.0</td>\n",
       "      <td>15.6</td>\n",
       "    </tr>\n",
       "    <tr>\n",
       "      <th>388</th>\n",
       "      <td>4</td>\n",
       "      <td>97.0</td>\n",
       "      <td>52.0</td>\n",
       "      <td>2130.0</td>\n",
       "      <td>24.6</td>\n",
       "    </tr>\n",
       "    <tr>\n",
       "      <th>389</th>\n",
       "      <td>4</td>\n",
       "      <td>135.0</td>\n",
       "      <td>84.0</td>\n",
       "      <td>2295.0</td>\n",
       "      <td>11.6</td>\n",
       "    </tr>\n",
       "    <tr>\n",
       "      <th>390</th>\n",
       "      <td>4</td>\n",
       "      <td>120.0</td>\n",
       "      <td>79.0</td>\n",
       "      <td>2625.0</td>\n",
       "      <td>18.6</td>\n",
       "    </tr>\n",
       "    <tr>\n",
       "      <th>391</th>\n",
       "      <td>4</td>\n",
       "      <td>119.0</td>\n",
       "      <td>82.0</td>\n",
       "      <td>2720.0</td>\n",
       "      <td>19.4</td>\n",
       "    </tr>\n",
       "  </tbody>\n",
       "</table>\n",
       "</div>"
      ],
      "text/plain": [
       "     cylinders  displacement  horsepower  weight  acceleration\n",
       "387          4         140.0        86.0  2790.0          15.6\n",
       "388          4          97.0        52.0  2130.0          24.6\n",
       "389          4         135.0        84.0  2295.0          11.6\n",
       "390          4         120.0        79.0  2625.0          18.6\n",
       "391          4         119.0        82.0  2720.0          19.4"
      ]
     },
     "execution_count": 36,
     "metadata": {},
     "output_type": "execute_result"
    }
   ],
   "source": [
    "target = df['mpg']\n",
    "features = df.drop([\n",
    "    'mpg', \n",
    "    'car_name', \n",
    "    'origin' , \n",
    "    'model_year', \n",
    "    # 'acceleration',\n",
    "    ], axis=1\n",
    "                   )\n",
    "features.tail()"
   ]
  },
  {
   "cell_type": "code",
   "execution_count": 42,
   "metadata": {
    "ExecuteTime": {
     "end_time": "2024-02-28T12:42:19.735844600Z",
     "start_time": "2024-02-28T12:42:17.004110700Z"
    }
   },
   "outputs": [
    {
     "name": "stdout",
     "output_type": "stream",
     "text": [
      "RBscaler KNN Mean Squared Error: 2.91\n",
      "Mean Absolute Error: 2.20\n",
      "R2 Score: 0.8617\n",
      "stdScaler KNN Mean Squared Error: 2.97\n",
      "Mean Absolute Error: 2.35\n",
      "R2 Score: 0.8562\n",
      "scalerZ KNN Mean Squared Error: 2.62\n",
      "Mean Absolute Error: 2.00\n",
      "R2 Score: 0.8879\n",
      "RBscaler linear Mean Squared Error: 2.58\n",
      "Mean Absolute Error: 1.98\n",
      "R2 Score: 0.8914\n",
      "stdScaler linear Mean Squared Error: 2.58\n",
      "Mean Absolute Error: 1.98\n",
      "R2 Score: 0.8914\n",
      "scalerZ linear Mean Squared Error: 2.77\n",
      "Mean Absolute Error: 2.02\n",
      "R2 Score: 0.8745\n"
     ]
    },
    {
     "name": "stderr",
     "output_type": "stream",
     "text": [
      "c:\\Users\\Administrator\\anaconda3\\envs\\EXAM_ML\\lib\\site-packages\\sklearn\\metrics\\_regression.py:483: FutureWarning: 'squared' is deprecated in version 1.4 and will be removed in 1.6. To calculate the root mean squared error, use the function'root_mean_squared_error'.\n",
      "  warnings.warn(\n",
      "c:\\Users\\Administrator\\anaconda3\\envs\\EXAM_ML\\lib\\site-packages\\sklearn\\metrics\\_regression.py:483: FutureWarning: 'squared' is deprecated in version 1.4 and will be removed in 1.6. To calculate the root mean squared error, use the function'root_mean_squared_error'.\n",
      "  warnings.warn(\n",
      "c:\\Users\\Administrator\\anaconda3\\envs\\EXAM_ML\\lib\\site-packages\\sklearn\\preprocessing\\_data.py:2762: UserWarning: n_quantiles (1000) is greater than the total number of samples (313). n_quantiles is set to n_samples.\n",
      "  warnings.warn(\n",
      "c:\\Users\\Administrator\\anaconda3\\envs\\EXAM_ML\\lib\\site-packages\\sklearn\\metrics\\_regression.py:483: FutureWarning: 'squared' is deprecated in version 1.4 and will be removed in 1.6. To calculate the root mean squared error, use the function'root_mean_squared_error'.\n",
      "  warnings.warn(\n",
      "c:\\Users\\Administrator\\anaconda3\\envs\\EXAM_ML\\lib\\site-packages\\sklearn\\metrics\\_regression.py:483: FutureWarning: 'squared' is deprecated in version 1.4 and will be removed in 1.6. To calculate the root mean squared error, use the function'root_mean_squared_error'.\n",
      "  warnings.warn(\n",
      "c:\\Users\\Administrator\\anaconda3\\envs\\EXAM_ML\\lib\\site-packages\\sklearn\\metrics\\_regression.py:483: FutureWarning: 'squared' is deprecated in version 1.4 and will be removed in 1.6. To calculate the root mean squared error, use the function'root_mean_squared_error'.\n",
      "  warnings.warn(\n",
      "c:\\Users\\Administrator\\anaconda3\\envs\\EXAM_ML\\lib\\site-packages\\sklearn\\preprocessing\\_data.py:2762: UserWarning: n_quantiles (1000) is greater than the total number of samples (313). n_quantiles is set to n_samples.\n",
      "  warnings.warn(\n",
      "c:\\Users\\Administrator\\anaconda3\\envs\\EXAM_ML\\lib\\site-packages\\sklearn\\metrics\\_regression.py:483: FutureWarning: 'squared' is deprecated in version 1.4 and will be removed in 1.6. To calculate the root mean squared error, use the function'root_mean_squared_error'.\n",
      "  warnings.warn(\n"
     ]
    },
    {
     "name": "stdout",
     "output_type": "stream",
     "text": [
      "RBscaler randomForest Mean Squared Error: 2.41\n",
      "Mean Absolute Error: 1.87\n",
      "R2 Score: 0.9050\n"
     ]
    },
    {
     "name": "stderr",
     "output_type": "stream",
     "text": [
      "c:\\Users\\Administrator\\anaconda3\\envs\\EXAM_ML\\lib\\site-packages\\sklearn\\metrics\\_regression.py:483: FutureWarning: 'squared' is deprecated in version 1.4 and will be removed in 1.6. To calculate the root mean squared error, use the function'root_mean_squared_error'.\n",
      "  warnings.warn(\n"
     ]
    },
    {
     "name": "stdout",
     "output_type": "stream",
     "text": [
      "stdScaler randomForest Mean Squared Error: 2.41\n",
      "Mean Absolute Error: 1.80\n",
      "R2 Score: 0.9053\n"
     ]
    },
    {
     "name": "stderr",
     "output_type": "stream",
     "text": [
      "c:\\Users\\Administrator\\anaconda3\\envs\\EXAM_ML\\lib\\site-packages\\sklearn\\metrics\\_regression.py:483: FutureWarning: 'squared' is deprecated in version 1.4 and will be removed in 1.6. To calculate the root mean squared error, use the function'root_mean_squared_error'.\n",
      "  warnings.warn(\n",
      "c:\\Users\\Administrator\\anaconda3\\envs\\EXAM_ML\\lib\\site-packages\\sklearn\\preprocessing\\_data.py:2762: UserWarning: n_quantiles (1000) is greater than the total number of samples (313). n_quantiles is set to n_samples.\n",
      "  warnings.warn(\n"
     ]
    },
    {
     "name": "stdout",
     "output_type": "stream",
     "text": [
      "scalerZ randomForest Mean Squared Error: 2.36\n",
      "Mean Absolute Error: 1.90\n",
      "R2 Score: 0.9090\n",
      "RBscaler SVM Mean Squared Error: 2.92\n",
      "Mean Absolute Error: 2.22\n",
      "R2 Score: 0.8612\n",
      "stdScaler SVM Mean Squared Error: 2.69\n",
      "Mean Absolute Error: 2.09\n",
      "R2 Score: 0.8823\n",
      "scalerZ SVM Mean Squared Error: 3.12\n",
      "Mean Absolute Error: 2.46\n",
      "R2 Score: 0.8419\n"
     ]
    },
    {
     "name": "stderr",
     "output_type": "stream",
     "text": [
      "c:\\Users\\Administrator\\anaconda3\\envs\\EXAM_ML\\lib\\site-packages\\sklearn\\metrics\\_regression.py:483: FutureWarning: 'squared' is deprecated in version 1.4 and will be removed in 1.6. To calculate the root mean squared error, use the function'root_mean_squared_error'.\n",
      "  warnings.warn(\n",
      "c:\\Users\\Administrator\\anaconda3\\envs\\EXAM_ML\\lib\\site-packages\\sklearn\\metrics\\_regression.py:483: FutureWarning: 'squared' is deprecated in version 1.4 and will be removed in 1.6. To calculate the root mean squared error, use the function'root_mean_squared_error'.\n",
      "  warnings.warn(\n",
      "c:\\Users\\Administrator\\anaconda3\\envs\\EXAM_ML\\lib\\site-packages\\sklearn\\metrics\\_regression.py:483: FutureWarning: 'squared' is deprecated in version 1.4 and will be removed in 1.6. To calculate the root mean squared error, use the function'root_mean_squared_error'.\n",
      "  warnings.warn(\n",
      "c:\\Users\\Administrator\\anaconda3\\envs\\EXAM_ML\\lib\\site-packages\\sklearn\\preprocessing\\_data.py:2762: UserWarning: n_quantiles (1000) is greater than the total number of samples (313). n_quantiles is set to n_samples.\n",
      "  warnings.warn(\n",
      "c:\\Users\\Administrator\\anaconda3\\envs\\EXAM_ML\\lib\\site-packages\\sklearn\\metrics\\_regression.py:483: FutureWarning: 'squared' is deprecated in version 1.4 and will be removed in 1.6. To calculate the root mean squared error, use the function'root_mean_squared_error'.\n",
      "  warnings.warn(\n"
     ]
    }
   ],
   "source": [
    "from sklearn.pipeline import Pipeline\n",
    "from sklearn.preprocessing import StandardScaler\n",
    "from sklearn.preprocessing import MinMaxScaler\n",
    "from sklearn.preprocessing import RobustScaler\n",
    "from sklearn.preprocessing import QuantileTransformer\n",
    "from sklearn.preprocessing import PolynomialFeatures\n",
    "from sklearn.linear_model import LinearRegression\n",
    "from sklearn.neighbors import KNeighborsRegressor\n",
    "from sklearn.ensemble import RandomForestRegressor\n",
    "from sklearn.svm import SVR\n",
    "from sklearn.model_selection import train_test_split\n",
    "\n",
    "# num = 750\n",
    "saved = 0\n",
    "scores_test = []\n",
    "scores_train = []\n",
    "# randomforest 59  n_esti 750 \n",
    "# knn 59 n_neighbors = 5\n",
    "\n",
    "# for num in range(1,300):\n",
    "X_train, X_test, y_train, y_test = train_test_split(\n",
    "    features, \n",
    "    target, \n",
    "    test_size=0.2, \n",
    "    random_state=59\n",
    ")\n",
    "\n",
    "scalerList = [\n",
    "        ('RBscaler', RobustScaler()),\n",
    "        ('stdScaler', StandardScaler()),\n",
    "        ('scalerZ', QuantileTransformer(output_distribution='normal')),\n",
    "]\n",
    "\n",
    "regressionList = [\n",
    "        ('KNN', KNeighborsRegressor(n_neighbors=3)),\n",
    "        ('linear', LinearRegression()),\n",
    "        ('randomForest', RandomForestRegressor(n_estimators=750)),\n",
    "        ('SVM', SVR(C=399)),\n",
    "]\n",
    "\n",
    "\n",
    "def trainData(scaler, regression):\n",
    "        model = Pipeline(\n",
    "        [\n",
    "        scaler,\n",
    "        ('poly', PolynomialFeatures(\n",
    "            degree=3,\n",
    "            interaction_only=True,\n",
    "            include_bias=False,\n",
    "            )\n",
    "        ),\n",
    "        regression\n",
    "        ]\n",
    "        )\n",
    "        model.fit(X_train, y_train)\n",
    "        from sklearn.metrics import mean_squared_error, mean_absolute_error, r2_score\n",
    "        y_pred = model.predict(X_test)\n",
    "        score = r2_score(y_test, y_pred)\n",
    "        print(scaler[0], regression[0], end=' ')\n",
    "        print(f'Mean Squared Error: {mean_squared_error(y_test, y_pred, squared=False):.2f}')\n",
    "        print(f'Mean Absolute Error: {mean_absolute_error(y_test, y_pred):.2f}')\n",
    "        print(f'R2 Score: {score:.4f}')\n",
    "        \n",
    "for regression in regressionList:\n",
    "        for scaler in scalerList:\n",
    "                trainData(scaler, regression)"
   ]
  },
  {
   "cell_type": "code",
   "execution_count": 38,
   "metadata": {
    "ExecuteTime": {
     "end_time": "2024-02-28T12:42:19.737809500Z",
     "start_time": "2024-02-28T12:42:19.736811400Z"
    }
   },
   "outputs": [
    {
     "name": "stdout",
     "output_type": "stream",
     "text": [
      "Mean Squared Error: 2.39\n",
      "Mean Absolute Error: 1.82\n",
      "R2 Score: 0.9069\n"
     ]
    },
    {
     "name": "stderr",
     "output_type": "stream",
     "text": [
      "c:\\Users\\Administrator\\anaconda3\\envs\\EXAM_ML\\lib\\site-packages\\sklearn\\metrics\\_regression.py:483: FutureWarning: 'squared' is deprecated in version 1.4 and will be removed in 1.6. To calculate the root mean squared error, use the function'root_mean_squared_error'.\n",
      "  warnings.warn(\n"
     ]
    }
   ],
   "source": [
    "\n",
    "# for num in range(1,2):\n",
    "model = Pipeline(\n",
    "    [\n",
    "        ('RBscaler', RobustScaler()),\n",
    "        ('stdScaler', StandardScaler()),\n",
    "        # ('scalerZ', QuantileTransformer(output_distribution='normal')),\n",
    "        ('poly', PolynomialFeatures(\n",
    "            degree=3,\n",
    "            interaction_only=True,\n",
    "            include_bias=False,\n",
    "            )\n",
    "        ),\n",
    "        # ('KNN', KNeighborsRegressor(n_neighbors=3)),\n",
    "        # ('linear', LinearRegression()),\n",
    "        ('randomForest', RandomForestRegressor(n_estimators=750)),\n",
    "        # ('SVM', SVR(C=399)),\n",
    "        \n",
    "    ]\n",
    ")\n",
    "\n",
    "model.fit(X_train, y_train)\n",
    "\n",
    "from sklearn.metrics import mean_squared_error, mean_absolute_error, r2_score\n",
    "\n",
    "y_pred = model.predict(X_test)\n",
    "score = r2_score(y_test, y_pred)\n",
    "print(f'Mean Squared Error: {mean_squared_error(y_test, y_pred, squared=False):.2f}')\n",
    "print(f'Mean Absolute Error: {mean_absolute_error(y_test, y_pred):.2f}')\n",
    "print(f'R2 Score: {score:.4f}')\n",
    "# if saved < score:\n",
    "#     saved = score\n",
    "#     saved_num = num\n",
    "\n",
    "scores_train.append(model.score(X_train, y_train))\n",
    "scores_test.append(model.score(X_test, y_test))\n",
    "# print(f'Best num: {saved_num}, Best score: {saved}')\n"
   ]
  },
  {
   "cell_type": "code",
   "execution_count": 39,
   "metadata": {
    "ExecuteTime": {
     "end_time": "2024-02-28T12:42:19.737809500Z",
     "start_time": "2024-02-28T12:42:19.737809500Z"
    }
   },
   "outputs": [],
   "source": [
    "# plt.plot(range(len(scores_train)), scores_train, label='Training Score')\n",
    "# plt.plot(range(len(scores_test)), scores_test, label='Test Score')\n",
    "# plt.legend()\n",
    "# plt.show()\n",
    "\n"
   ]
  },
  {
   "cell_type": "code",
   "execution_count": 40,
   "metadata": {
    "ExecuteTime": {
     "start_time": "2024-02-28T12:42:19.738805900Z"
    }
   },
   "outputs": [],
   "source": [
    "# for idx, data in enumerate(scores_train):\n",
    "#     tmp = scores_test[idx] - data\n",
    "#     print(tmp, idx)"
   ]
  }
 ],
 "metadata": {
  "kernelspec": {
   "display_name": "EXAM_ML",
   "language": "python",
   "name": "python3"
  },
  "language_info": {
   "codemirror_mode": {
    "name": "ipython",
    "version": 3
   },
   "file_extension": ".py",
   "mimetype": "text/x-python",
   "name": "python",
   "nbconvert_exporter": "python",
   "pygments_lexer": "ipython3",
   "version": "3.9.18"
  }
 },
 "nbformat": 4,
 "nbformat_minor": 2
}
