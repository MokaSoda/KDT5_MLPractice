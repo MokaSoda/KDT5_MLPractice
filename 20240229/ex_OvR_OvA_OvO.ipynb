{
 "cells": [
  {
   "cell_type": "markdown",
   "metadata": {},
   "source": [
    "과일을 분류하는 모델 : 다중분류(3개 부터)  \n",
    "=> OvR/OvA : 2진 분류기가 클래스 갯수만큼 생성  \n",
    "타켓  \n",
    "사과 ==> 사과 vs 나머지    \n",
    "배 ==> 배 vs 나머지  \n",
    "바나나 ==> 바나나 vs 나머지  \n",
    "수박 ==> 수박 vs 나머지  \n",
    "키위 ==> 키위 vs 나머지  \n",
    "\n",
    "\n",
    "과일 => 과일을 분류하는 모델 OvO 5 * 4 = 20, 5 * 4 = 20 / 2 = 10  \n",
    "타켓  \n",
    "사과 => 사과 vs 배 / 바나나 / 수박 / 키위  \n",
    "배 => 배 vs 사과 / 바나나 / 수박 / 키위  \n",
    "바나나 => 바나나 / 사과 / 배 / 수박 / 키위  \n",
    "수박 => 수박 vs 사과 / 배 / 바나나 / 키위  \n",
    "키위 => 키위 vs 사과 / 배 / 바나나 / 수박  \n",
    "\n",
    "latex eqution of 3c2\n",
    "$$\n",
    "\\begin{aligned}\n",
    "& \\text { 5C2 }=\\frac{5 \\times 4}{2} = 10 \\\\\n",
    "\\end{aligned}\n",
    "$$\n",
    "\n",
    "중복된 데이터를 위 식에 의해 삭제됨  \n",
    "\n",
    "\n"
   ]
  }
 ],
 "metadata": {
  "language_info": {
   "name": "python"
  }
 },
 "nbformat": 4,
 "nbformat_minor": 2
}
