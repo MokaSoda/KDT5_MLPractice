{
 "cells": [
  {
   "cell_type": "markdown",
   "metadata": {},
   "source": [
    "## 목표 : 생선 분류 모델\n",
    "- 데이터 : fish.csv\n",
    "- 피쳐 : 5개 Weight, Length, Diagonal, Height, Width\n",
    "- 타겟 : 1개 Species\n",
    "- 방법 : 지도학습 + LogisticRegression"
   ]
  },
  {
   "cell_type": "code",
   "execution_count": 118,
   "metadata": {},
   "outputs": [
    {
     "name": "stderr",
     "output_type": "stream",
     "text": [
      "Intel(R) Extension for Scikit-learn* enabled (https://github.com/intel/scikit-learn-intelex)\n"
     ]
    }
   ],
   "source": [
    "\n",
    "from sklearnex import patch_sklearn, unpatch_sklearn\n",
    "patch_sklearn()\n",
    "\n",
    "import sklearn\n",
    "import pandas as pd\n",
    "import numpy as np\n",
    "import matplotlib.pyplot as plt\n",
    "import matplotlib as mpl\n",
    "# 나눔고딕\n",
    "mpl.rc('font', family='NanumGothic')\n",
    "import seaborn as sns\n",
    "import scipy.stats as stats\n",
    "from sklearn.model_selection import train_test_split\n",
    "from sklearn.preprocessing import StandardScaler, MinMaxScaler, RobustScaler\n",
    "from sklearn.linear_model import LogisticRegression\n",
    "from sklearn.datasets import load_iris\n",
    "from sklearn.pipeline import Pipeline\n",
    "\n"
   ]
  },
  {
   "cell_type": "code",
   "execution_count": 119,
   "metadata": {},
   "outputs": [
    {
     "name": "stdout",
     "output_type": "stream",
     "text": [
      "<class 'pandas.core.frame.DataFrame'>\n",
      "RangeIndex: 159 entries, 0 to 158\n",
      "Data columns (total 6 columns):\n",
      " #   Column    Non-Null Count  Dtype   \n",
      "---  ------    --------------  -----   \n",
      " 0   Species   159 non-null    category\n",
      " 1   Weight    159 non-null    float64 \n",
      " 2   Length    159 non-null    float64 \n",
      " 3   Diagonal  159 non-null    float64 \n",
      " 4   Height    159 non-null    float64 \n",
      " 5   Width     159 non-null    float64 \n",
      "dtypes: category(1), float64(5)\n",
      "memory usage: 6.8 KB\n"
     ]
    }
   ],
   "source": [
    "data_file = '../data/fish.csv'\n",
    "df = pd.read_csv(data_file)\n",
    "df['Species'] = df['Species'].astype('category')\n",
    "# df['Species'] = df['Species'].cat.codes\n",
    "\n",
    "df.info()"
   ]
  },
  {
   "cell_type": "markdown",
   "metadata": {},
   "source": [
    "### (2) 학습 위한 데이터 준비\n",
    "<hr>\n"
   ]
  },
  {
   "cell_type": "markdown",
   "metadata": {},
   "source": [
    "#### (2-1) 피쳐 / 타켓 분리"
   ]
  },
  {
   "cell_type": "code",
   "execution_count": 120,
   "metadata": {},
   "outputs": [],
   "source": [
    "featuredf = df[['Weight', 'Length', 'Diagonal', 'Height', 'Width']]\n",
    "targetf = df['Species']\n"
   ]
  },
  {
   "cell_type": "code",
   "execution_count": 121,
   "metadata": {},
   "outputs": [
    {
     "name": "stdout",
     "output_type": "stream",
     "text": [
      "(159, 5) (159,)\n"
     ]
    }
   ],
   "source": [
    "print(featuredf.shape, targetf.shape)"
   ]
  },
  {
   "cell_type": "code",
   "execution_count": 122,
   "metadata": {},
   "outputs": [
    {
     "data": {
      "text/plain": [
       "Perch        35.22\n",
       "Bream        22.01\n",
       "Roach        12.58\n",
       "Pike         10.69\n",
       "Smelt         8.81\n",
       "Parkki        6.92\n",
       "Whitefish     3.77\n",
       "Name: Species, dtype: float64"
      ]
     },
     "execution_count": 122,
     "metadata": {},
     "output_type": "execute_result"
    }
   ],
   "source": [
    "round(targetf.value_counts()/targetf.shape[0]*100,2)"
   ]
  },
  {
   "cell_type": "code",
   "execution_count": 123,
   "metadata": {},
   "outputs": [],
   "source": [
    "# from sklearn.preprocessing import LabelEncoder, OneHotEncoder\n",
    "\n",
    "# le = LabelEncoder()\n",
    "# targetf = le.fit_transform(targetf)\n",
    "# # numpy unique element\n",
    "# print(np.unique(\n",
    "# targetf))\n"
   ]
  },
  {
   "cell_type": "markdown",
   "metadata": {},
   "source": [
    "#### (2-2) 학습용/테스트용 데이터셋 준비"
   ]
  },
  {
   "cell_type": "code",
   "execution_count": 124,
   "metadata": {},
   "outputs": [],
   "source": [
    "from sklearn.model_selection import train_test_split"
   ]
  },
  {
   "cell_type": "code",
   "execution_count": 125,
   "metadata": {},
   "outputs": [],
   "source": [
    "X_train, X_test, y_train, y_test = train_test_split(\n",
    "    featuredf, \n",
    "    targetf, \n",
    "    test_size=0.2, \n",
    "    random_state=42, \n",
    "    stratify=targetf\n",
    ")"
   ]
  },
  {
   "cell_type": "code",
   "execution_count": 126,
   "metadata": {},
   "outputs": [
    {
     "name": "stdout",
     "output_type": "stream",
     "text": [
      "[Train Dataset] (127, 5), (127,)\n",
      "[Test Dataset] (32, 5), (32,)\n"
     ]
    }
   ],
   "source": [
    "print(f\"[Train Dataset] {X_train.shape}, {y_train.shape}\")\n",
    "print(f\"[Test Dataset] {X_test.shape}, {y_test.shape}\")\n"
   ]
  },
  {
   "cell_type": "markdown",
   "metadata": {},
   "source": [
    "#### (3) 학습 진행"
   ]
  },
  {
   "cell_type": "code",
   "execution_count": 127,
   "metadata": {},
   "outputs": [
    {
     "data": {
      "text/plain": [
       "0.96875"
      ]
     },
     "execution_count": 127,
     "metadata": {},
     "output_type": "execute_result"
    }
   ],
   "source": [
    "from sklearn.linear_model import LogisticRegression\n",
    "\n",
    "model = LogisticRegression(max_iter=10**4, solver='liblinear')\n",
    "model.fit(X_train, y_train)\n",
    "model.score(X_test, y_test)"
   ]
  },
  {
   "cell_type": "code",
   "execution_count": 128,
   "metadata": {},
   "outputs": [
    {
     "name": "stdout",
     "output_type": "stream",
     "text": [
      "intercept_: [-0.44714905  0.0157149  -0.21076237 -1.29436017 -1.46575477  0.30909346\n",
      " -0.43485959]\n",
      "coef_: [[ 1.28739252e-02 -1.79260663e+00  1.01225040e+00  1.32066452e+00\n",
      "  -4.72412257e-01]\n",
      " [-1.92989443e-02  4.76638517e-01 -1.11348797e+00  2.18920063e+00\n",
      "   3.98172820e-02]\n",
      " [-2.08914578e-03  2.71756398e+00 -2.77974648e+00 -1.07689131e-02\n",
      "   1.97871899e+00]\n",
      " [ 1.05220007e-02  3.46506792e-01  7.60637048e-02 -1.97989150e+00\n",
      "  -8.84042982e-01]\n",
      " [-8.80359352e-03 -1.73998982e+00  1.54152420e+00 -6.06878924e-01\n",
      "   1.88062298e+00]\n",
      " [-7.19409896e-02  2.64464766e-01  2.86969882e-01 -1.58463377e+00\n",
      "  -7.21863827e-01]\n",
      " [ 6.36648444e-03 -5.31173756e-01  2.71526723e-01 -2.63074980e-01\n",
      "   7.63853632e-01]]\n",
      "n_iter_: [16 22 19 17 17 17 22]\n",
      "classes_: ['Bream' 'Parkki' 'Perch' 'Pike' 'Roach' 'Smelt' 'Whitefish']\n",
      "feature_names_in_: ['Weight' 'Length' 'Diagonal' 'Height' 'Width']\n"
     ]
    }
   ],
   "source": [
    "# 모델 파라메터 확인 \n",
    "attributes = ['intercept_', 'coef_', 'n_iter_', 'classes_', 'feature_names_in_'] \n",
    "for attr in attributes:\n",
    "    print(f\"{attr}: {getattr(model, attr)}\")\n",
    "\n"
   ]
  },
  {
   "cell_type": "markdown",
   "metadata": {},
   "source": [
    "### (4) 평가\n",
    "<hr>\n"
   ]
  },
  {
   "cell_type": "code",
   "execution_count": 129,
   "metadata": {},
   "outputs": [
    {
     "name": "stdout",
     "output_type": "stream",
     "text": [
      "              precision    recall  f1-score   support\n",
      "\n",
      "       Bream       1.00      1.00      1.00         7\n",
      "      Parkki       1.00      1.00      1.00         2\n",
      "       Perch       0.92      1.00      0.96        11\n",
      "        Pike       1.00      1.00      1.00         4\n",
      "       Roach       1.00      1.00      1.00         4\n",
      "       Smelt       1.00      1.00      1.00         3\n",
      "   Whitefish       0.00      0.00      0.00         1\n",
      "\n",
      "    accuracy                           0.97        32\n",
      "   macro avg       0.85      0.86      0.85        32\n",
      "weighted avg       0.94      0.97      0.95        32\n",
      "\n",
      "[[ 7  0  0  0  0  0  0]\n",
      " [ 0  2  0  0  0  0  0]\n",
      " [ 0  0 11  0  0  0  0]\n",
      " [ 0  0  0  4  0  0  0]\n",
      " [ 0  0  0  0  4  0  0]\n",
      " [ 0  0  0  0  0  3  0]\n",
      " [ 0  0  1  0  0  0  0]]\n",
      "0.96875 0.952755905511811\n"
     ]
    },
    {
     "name": "stderr",
     "output_type": "stream",
     "text": [
      "c:\\Users\\Administrator\\anaconda3\\envs\\EXAM_ML\\lib\\site-packages\\sklearn\\metrics\\_classification.py:1509: UndefinedMetricWarning: Precision is ill-defined and being set to 0.0 in labels with no predicted samples. Use `zero_division` parameter to control this behavior.\n",
      "  _warn_prf(average, modifier, f\"{metric.capitalize()} is\", len(result))\n",
      "c:\\Users\\Administrator\\anaconda3\\envs\\EXAM_ML\\lib\\site-packages\\sklearn\\metrics\\_classification.py:1509: UndefinedMetricWarning: Precision is ill-defined and being set to 0.0 in labels with no predicted samples. Use `zero_division` parameter to control this behavior.\n",
      "  _warn_prf(average, modifier, f\"{metric.capitalize()} is\", len(result))\n",
      "c:\\Users\\Administrator\\anaconda3\\envs\\EXAM_ML\\lib\\site-packages\\sklearn\\metrics\\_classification.py:1509: UndefinedMetricWarning: Precision is ill-defined and being set to 0.0 in labels with no predicted samples. Use `zero_division` parameter to control this behavior.\n",
      "  _warn_prf(average, modifier, f\"{metric.capitalize()} is\", len(result))\n"
     ]
    }
   ],
   "source": [
    "from sklearn.metrics import classification_report, confusion_matrix, accuracy_score\n",
    "\n",
    "y_pred = model.predict(X_test)\n",
    "print(classification_report(y_test, y_pred))\n",
    "print(confusion_matrix(y_test, y_pred))\n",
    "print(accuracy_score(y_test, y_pred), accuracy_score(y_train, model.predict(X_train)))"
   ]
  },
  {
   "cell_type": "markdown",
   "metadata": {},
   "source": [
    "### (5) 모델 활용\n",
    "<hr>"
   ]
  },
  {
   "cell_type": "code",
   "execution_count": 130,
   "metadata": {},
   "outputs": [
    {
     "name": "stdout",
     "output_type": "stream",
     "text": [
      "['Bream']\n",
      "Bream\n"
     ]
    }
   ],
   "source": [
    "y_pre = model.predict(X_test.iloc[[0]])\n",
    "print(y_pre)\n",
    "print(y_test.iloc[0])"
   ]
  },
  {
   "cell_type": "code",
   "execution_count": 131,
   "metadata": {},
   "outputs": [
    {
     "name": "stderr",
     "output_type": "stream",
     "text": [
      "c:\\Users\\Administrator\\anaconda3\\envs\\EXAM_ML\\lib\\site-packages\\sklearn\\base.py:493: UserWarning: X does not have valid feature names, but LogisticRegression was fitted with feature names\n",
      "  warnings.warn(\n"
     ]
    },
    {
     "data": {
      "text/plain": [
       "(array([[0.93 , 0.   , 0.   , 0.   , 0.002, 0.   , 0.067],\n",
       "        [0.009, 0.003, 0.057, 0.001, 0.872, 0.   , 0.058],\n",
       "        [0.001, 0.005, 0.101, 0.129, 0.187, 0.538, 0.038],\n",
       "        [0.   , 0.   , 0.945, 0.001, 0.013, 0.   , 0.041],\n",
       "        [0.001, 0.029, 0.783, 0.002, 0.16 , 0.   , 0.026]]),\n",
       " 28     Bream\n",
       " 50     Roach\n",
       " 154    Smelt\n",
       " 110    Perch\n",
       " 85     Perch\n",
       " Name: Species, dtype: category\n",
       " Categories (7, object): ['Bream', 'Parkki', 'Perch', 'Pike', 'Roach', 'Smelt', 'Whitefish'])"
      ]
     },
     "execution_count": 131,
     "metadata": {},
     "output_type": "execute_result"
    }
   ],
   "source": [
    "np.round(model.predict_proba(X_test.iloc[:5]), 3), y_test[:5]"
   ]
  },
  {
   "cell_type": "code",
   "execution_count": 132,
   "metadata": {},
   "outputs": [
    {
     "name": "stderr",
     "output_type": "stream",
     "text": [
      "c:\\Users\\Administrator\\anaconda3\\envs\\EXAM_ML\\lib\\site-packages\\sklearn\\base.py:493: UserWarning: X does not have valid feature names, but LogisticRegression was fitted with feature names\n",
      "  warnings.warn(\n"
     ]
    },
    {
     "data": {
      "text/plain": [
       "array([0, 4, 5, 2, 2], dtype=int64)"
      ]
     },
     "execution_count": 132,
     "metadata": {},
     "output_type": "execute_result"
    }
   ],
   "source": [
    "result = model.predict_proba(X_test.iloc[:5]).argmax(axis=1)\n",
    "result"
   ]
  },
  {
   "cell_type": "code",
   "execution_count": 133,
   "metadata": {},
   "outputs": [
    {
     "data": {
      "text/html": [
       "<div>\n",
       "<style scoped>\n",
       "    .dataframe tbody tr th:only-of-type {\n",
       "        vertical-align: middle;\n",
       "    }\n",
       "\n",
       "    .dataframe tbody tr th {\n",
       "        vertical-align: top;\n",
       "    }\n",
       "\n",
       "    .dataframe thead th {\n",
       "        text-align: right;\n",
       "    }\n",
       "</style>\n",
       "<table border=\"1\" class=\"dataframe\">\n",
       "  <thead>\n",
       "    <tr style=\"text-align: right;\">\n",
       "      <th></th>\n",
       "      <th>Pre Y</th>\n",
       "      <th>True Y</th>\n",
       "    </tr>\n",
       "  </thead>\n",
       "  <tbody>\n",
       "    <tr>\n",
       "      <th>28</th>\n",
       "      <td>Bream</td>\n",
       "      <td>Bream</td>\n",
       "    </tr>\n",
       "    <tr>\n",
       "      <th>50</th>\n",
       "      <td>Roach</td>\n",
       "      <td>Roach</td>\n",
       "    </tr>\n",
       "    <tr>\n",
       "      <th>154</th>\n",
       "      <td>Smelt</td>\n",
       "      <td>Smelt</td>\n",
       "    </tr>\n",
       "    <tr>\n",
       "      <th>110</th>\n",
       "      <td>Perch</td>\n",
       "      <td>Perch</td>\n",
       "    </tr>\n",
       "    <tr>\n",
       "      <th>85</th>\n",
       "      <td>Perch</td>\n",
       "      <td>Perch</td>\n",
       "    </tr>\n",
       "  </tbody>\n",
       "</table>\n",
       "</div>"
      ],
      "text/plain": [
       "     Pre Y True Y\n",
       "28   Bream  Bream\n",
       "50   Roach  Roach\n",
       "154  Smelt  Smelt\n",
       "110  Perch  Perch\n",
       "85   Perch  Perch"
      ]
     },
     "execution_count": 133,
     "metadata": {},
     "output_type": "execute_result"
    }
   ],
   "source": [
    "data = {\n",
    "    'Pre Y' : [model.classes_[idx] for idx in result],\n",
    "    \"True Y\" : y_test[:5]\n",
    "}\n",
    "\n",
    "pd.DataFrame(data)"
   ]
  },
  {
   "cell_type": "markdown",
   "metadata": {},
   "source": [
    "### (6) 모델 성능 평가\n",
    "<hr>\n",
    "\n",
    "- 정확도\n",
    "- 정밀도\n",
    "- 재현율\n",
    "- f1 score\n",
    "- Confusion Matrix\n",
    "- Classification Report"
   ]
  },
  {
   "cell_type": "code",
   "execution_count": 134,
   "metadata": {},
   "outputs": [
    {
     "name": "stdout",
     "output_type": "stream",
     "text": [
      "              precision    recall  f1-score   support\n",
      "\n",
      "       Bream       1.00      1.00      1.00         7\n",
      "      Parkki       1.00      1.00      1.00         2\n",
      "       Perch       0.92      1.00      0.96        11\n",
      "        Pike       1.00      1.00      1.00         4\n",
      "       Roach       1.00      1.00      1.00         4\n",
      "       Smelt       1.00      1.00      1.00         3\n",
      "   Whitefish       0.00      0.00      0.00         1\n",
      "\n",
      "    accuracy                           0.97        32\n",
      "   macro avg       0.85      0.86      0.85        32\n",
      "weighted avg       0.94      0.97      0.95        32\n",
      "\n",
      "[[0 0 0 ... 0 0 0]\n",
      " [0 0 0 ... 0 0 0]\n",
      " [0 0 0 ... 0 0 0]\n",
      " ...\n",
      " [0 0 0 ... 0 0 0]\n",
      " [0 0 0 ... 0 0 0]\n",
      " [0 0 0 ... 0 0 3]]\n",
      "0.96875\n",
      "0.8509316770186335\n",
      "0.8452380952380951\n",
      "0.8571428571428571\n"
     ]
    },
    {
     "name": "stderr",
     "output_type": "stream",
     "text": [
      "c:\\Users\\Administrator\\anaconda3\\envs\\EXAM_ML\\lib\\site-packages\\sklearn\\metrics\\_classification.py:1509: UndefinedMetricWarning: Precision is ill-defined and being set to 0.0 in labels with no predicted samples. Use `zero_division` parameter to control this behavior.\n",
      "  _warn_prf(average, modifier, f\"{metric.capitalize()} is\", len(result))\n"
     ]
    }
   ],
   "source": [
    "from sklearn.metrics import classification_report, confusion_matrix, accuracy_score, f1_score, precision_score, recall_score\n",
    "\n",
    "y_pred = model.predict(X_test)\n",
    "print(classification_report(y_test, y_pred, zero_division=0))\n",
    "print(confusion_matrix(y_test, y_pred, labels=df['Species'].tolist()))\n",
    "print(accuracy_score(y_test, y_pred))\n",
    "print(f1_score(y_test, y_pred, average='macro'))\n",
    "print(precision_score(y_test, y_pred, average='macro'))\n",
    "print(recall_score(y_test, y_pred, average='macro'))"
   ]
  },
  {
   "cell_type": "code",
   "execution_count": null,
   "metadata": {},
   "outputs": [],
   "source": []
  }
 ],
 "metadata": {
  "kernelspec": {
   "display_name": "EXAM_ML",
   "language": "python",
   "name": "python3"
  },
  "language_info": {
   "codemirror_mode": {
    "name": "ipython",
    "version": 3
   },
   "file_extension": ".py",
   "mimetype": "text/x-python",
   "name": "python",
   "nbconvert_exporter": "python",
   "pygments_lexer": "ipython3",
   "version": "3.9.18"
  }
 },
 "nbformat": 4,
 "nbformat_minor": 2
}
