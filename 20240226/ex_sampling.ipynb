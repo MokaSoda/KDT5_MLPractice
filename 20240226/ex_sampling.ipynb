{
 "cells": [
  {
   "cell_type": "markdown",
   "source": [
    "### 표본추출/샘플링\n",
    "- 전체 데이터에서 일부 데이터를 추출\n",
    "- pandas.DataFrame.sample()\n",
    "- 복원 추출 : 추출된 데이터를 다시 추가해서 추출\n",
    "- 비복원 추출 : 추출된 데이터를 제거 후 남은 데이터에서 추출하는 방식\n",
    "- "
   ],
   "metadata": {
    "collapsed": false
   },
   "id": "3ed5630894f5c569"
  },
  {
   "cell_type": "code",
   "outputs": [],
   "source": [],
   "metadata": {
    "collapsed": false
   },
   "id": "58a8d5d505325ec7"
  },
  {
   "cell_type": "code",
   "execution_count": 1,
   "id": "initial_id",
   "metadata": {
    "collapsed": true,
    "ExecuteTime": {
     "end_time": "2024-02-26T01:15:52.643008100Z",
     "start_time": "2024-02-26T01:15:52.334435900Z"
    }
   },
   "outputs": [],
   "source": [
    "import numpy as np\n",
    "import random\n",
    "import pandas as pd\n"
   ]
  },
  {
   "cell_type": "code",
   "outputs": [
    {
     "data": {
      "text/plain": "   A   B    C    D    E\n0  0  10  100  110  120\n1  1  11  101  111  121\n2  2  12  102  112  122\n3  3  13  103  113  123\n4  4  14  104  114  124\n5  5  15  105  115  125\n6  6  16  106  116  126\n7  7  17  107  117  127\n8  8  18  108  118  128\n9  9  19  109  119  129",
      "text/html": "<div>\n<style scoped>\n    .dataframe tbody tr th:only-of-type {\n        vertical-align: middle;\n    }\n\n    .dataframe tbody tr th {\n        vertical-align: top;\n    }\n\n    .dataframe thead th {\n        text-align: right;\n    }\n</style>\n<table border=\"1\" class=\"dataframe\">\n  <thead>\n    <tr style=\"text-align: right;\">\n      <th></th>\n      <th>A</th>\n      <th>B</th>\n      <th>C</th>\n      <th>D</th>\n      <th>E</th>\n    </tr>\n  </thead>\n  <tbody>\n    <tr>\n      <th>0</th>\n      <td>0</td>\n      <td>10</td>\n      <td>100</td>\n      <td>110</td>\n      <td>120</td>\n    </tr>\n    <tr>\n      <th>1</th>\n      <td>1</td>\n      <td>11</td>\n      <td>101</td>\n      <td>111</td>\n      <td>121</td>\n    </tr>\n    <tr>\n      <th>2</th>\n      <td>2</td>\n      <td>12</td>\n      <td>102</td>\n      <td>112</td>\n      <td>122</td>\n    </tr>\n    <tr>\n      <th>3</th>\n      <td>3</td>\n      <td>13</td>\n      <td>103</td>\n      <td>113</td>\n      <td>123</td>\n    </tr>\n    <tr>\n      <th>4</th>\n      <td>4</td>\n      <td>14</td>\n      <td>104</td>\n      <td>114</td>\n      <td>124</td>\n    </tr>\n    <tr>\n      <th>5</th>\n      <td>5</td>\n      <td>15</td>\n      <td>105</td>\n      <td>115</td>\n      <td>125</td>\n    </tr>\n    <tr>\n      <th>6</th>\n      <td>6</td>\n      <td>16</td>\n      <td>106</td>\n      <td>116</td>\n      <td>126</td>\n    </tr>\n    <tr>\n      <th>7</th>\n      <td>7</td>\n      <td>17</td>\n      <td>107</td>\n      <td>117</td>\n      <td>127</td>\n    </tr>\n    <tr>\n      <th>8</th>\n      <td>8</td>\n      <td>18</td>\n      <td>108</td>\n      <td>118</td>\n      <td>128</td>\n    </tr>\n    <tr>\n      <th>9</th>\n      <td>9</td>\n      <td>19</td>\n      <td>109</td>\n      <td>119</td>\n      <td>129</td>\n    </tr>\n  </tbody>\n</table>\n</div>"
     },
     "execution_count": 26,
     "metadata": {},
     "output_type": "execute_result"
    }
   ],
   "source": [
    "df = pd.DataFrame(\n",
    "    {\n",
    "        'A': range(10), \n",
    "        'B': range(10, 20), \n",
    "        'C': range(100, 110), \n",
    "        'D': range(110, 120), \n",
    "        'E': range(120, 130), \n",
    "     }\n",
    ")\n",
    "df"
   ],
   "metadata": {
    "collapsed": false,
    "ExecuteTime": {
     "end_time": "2024-02-26T01:19:42.225200900Z",
     "start_time": "2024-02-26T01:19:42.213619600Z"
    }
   },
   "id": "3bab08b05dfc264b",
   "execution_count": 26
  },
  {
   "cell_type": "code",
   "outputs": [
    {
     "data": {
      "text/plain": "     C   B    C  A    D   B    E    E  A  A\n0  100  10  100  0  110  10  120  120  0  0\n1  101  11  101  1  111  11  121  121  1  1\n2  102  12  102  2  112  12  122  122  2  2\n3  103  13  103  3  113  13  123  123  3  3\n4  104  14  104  4  114  14  124  124  4  4\n5  105  15  105  5  115  15  125  125  5  5\n6  106  16  106  6  116  16  126  126  6  6\n7  107  17  107  7  117  17  127  127  7  7\n8  108  18  108  8  118  18  128  128  8  8\n9  109  19  109  9  119  19  129  129  9  9",
      "text/html": "<div>\n<style scoped>\n    .dataframe tbody tr th:only-of-type {\n        vertical-align: middle;\n    }\n\n    .dataframe tbody tr th {\n        vertical-align: top;\n    }\n\n    .dataframe thead th {\n        text-align: right;\n    }\n</style>\n<table border=\"1\" class=\"dataframe\">\n  <thead>\n    <tr style=\"text-align: right;\">\n      <th></th>\n      <th>C</th>\n      <th>B</th>\n      <th>C</th>\n      <th>A</th>\n      <th>D</th>\n      <th>B</th>\n      <th>E</th>\n      <th>E</th>\n      <th>A</th>\n      <th>A</th>\n    </tr>\n  </thead>\n  <tbody>\n    <tr>\n      <th>0</th>\n      <td>100</td>\n      <td>10</td>\n      <td>100</td>\n      <td>0</td>\n      <td>110</td>\n      <td>10</td>\n      <td>120</td>\n      <td>120</td>\n      <td>0</td>\n      <td>0</td>\n    </tr>\n    <tr>\n      <th>1</th>\n      <td>101</td>\n      <td>11</td>\n      <td>101</td>\n      <td>1</td>\n      <td>111</td>\n      <td>11</td>\n      <td>121</td>\n      <td>121</td>\n      <td>1</td>\n      <td>1</td>\n    </tr>\n    <tr>\n      <th>2</th>\n      <td>102</td>\n      <td>12</td>\n      <td>102</td>\n      <td>2</td>\n      <td>112</td>\n      <td>12</td>\n      <td>122</td>\n      <td>122</td>\n      <td>2</td>\n      <td>2</td>\n    </tr>\n    <tr>\n      <th>3</th>\n      <td>103</td>\n      <td>13</td>\n      <td>103</td>\n      <td>3</td>\n      <td>113</td>\n      <td>13</td>\n      <td>123</td>\n      <td>123</td>\n      <td>3</td>\n      <td>3</td>\n    </tr>\n    <tr>\n      <th>4</th>\n      <td>104</td>\n      <td>14</td>\n      <td>104</td>\n      <td>4</td>\n      <td>114</td>\n      <td>14</td>\n      <td>124</td>\n      <td>124</td>\n      <td>4</td>\n      <td>4</td>\n    </tr>\n    <tr>\n      <th>5</th>\n      <td>105</td>\n      <td>15</td>\n      <td>105</td>\n      <td>5</td>\n      <td>115</td>\n      <td>15</td>\n      <td>125</td>\n      <td>125</td>\n      <td>5</td>\n      <td>5</td>\n    </tr>\n    <tr>\n      <th>6</th>\n      <td>106</td>\n      <td>16</td>\n      <td>106</td>\n      <td>6</td>\n      <td>116</td>\n      <td>16</td>\n      <td>126</td>\n      <td>126</td>\n      <td>6</td>\n      <td>6</td>\n    </tr>\n    <tr>\n      <th>7</th>\n      <td>107</td>\n      <td>17</td>\n      <td>107</td>\n      <td>7</td>\n      <td>117</td>\n      <td>17</td>\n      <td>127</td>\n      <td>127</td>\n      <td>7</td>\n      <td>7</td>\n    </tr>\n    <tr>\n      <th>8</th>\n      <td>108</td>\n      <td>18</td>\n      <td>108</td>\n      <td>8</td>\n      <td>118</td>\n      <td>18</td>\n      <td>128</td>\n      <td>128</td>\n      <td>8</td>\n      <td>8</td>\n    </tr>\n    <tr>\n      <th>9</th>\n      <td>109</td>\n      <td>19</td>\n      <td>109</td>\n      <td>9</td>\n      <td>119</td>\n      <td>19</td>\n      <td>129</td>\n      <td>129</td>\n      <td>9</td>\n      <td>9</td>\n    </tr>\n  </tbody>\n</table>\n</div>"
     },
     "execution_count": 48,
     "metadata": {},
     "output_type": "execute_result"
    }
   ],
   "source": [
    "# 1개의 샘플/표본 데이터 추출 => [기본] 비복원 - 전체 데이터 수 초과 불가\n",
    "\n",
    "df.sample(10, replace=True, axis=1)"
   ],
   "metadata": {
    "collapsed": false,
    "ExecuteTime": {
     "end_time": "2024-02-26T01:21:20.022478500Z",
     "start_time": "2024-02-26T01:21:20.018562200Z"
    }
   },
   "id": "4659ff540ffdabfd",
   "execution_count": 48
  }
 ],
 "metadata": {
  "kernelspec": {
   "display_name": "Python 3",
   "language": "python",
   "name": "python3"
  },
  "language_info": {
   "codemirror_mode": {
    "name": "ipython",
    "version": 2
   },
   "file_extension": ".py",
   "mimetype": "text/x-python",
   "name": "python",
   "nbconvert_exporter": "python",
   "pygments_lexer": "ipython2",
   "version": "2.7.6"
  }
 },
 "nbformat": 4,
 "nbformat_minor": 5
}
