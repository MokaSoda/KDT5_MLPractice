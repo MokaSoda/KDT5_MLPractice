{
 "cells": [
  {
   "cell_type": "markdown",
   "source": [
    "## KNN\n",
    "- 유유상종 : 끼리끼리 모임\n",
    "- K Nearest Neighbors\n",
    "- K개의 가장 가까이 존재하는 데이터를  \n",
    "기준으로 결과를 정하는 알고리즘\n",
    "- 데이터와 데이터의 거리를 도출 후 거리 순으로 정렬\n",
    "- K개 만큼 가까이 있는 데이터를 도출\n",
    "> - 분류: 다수결원칙으로 많은 종류의 데이터로 결론 도출\n",
    "> - 회귀: 데이터의 평균값으로 결과를 도출\n",
    "- 특징\n",
    "> - 데이터의 규칙/패털을 나타내는 수식이 없음 \n",
    "> - 데이터를 메모리 모두 저장 후 거리를 측정해서 결과 도출 (Lazy 학습) "
   ],
   "metadata": {
    "collapsed": false
   },
   "id": "90149916b832d164"
  },
  {
   "cell_type": "markdown",
   "source": [
    "## scikit-learn 패키지\n",
    "기계학습 방법  \n",
    "1. 학습 모델 인스턴스 생성\n",
    "2. fit 메서드 사용하여 데이터 학습\n",
    "> fit(2D, 1D(라벨))\n",
    "3. score 에서드 사용하여 학습 테스트\n",
    "> score(2D, 1D(라벨))\n",
    "4. 활용 메서드 => predict(2D) ----> 결과\n"
   ],
   "metadata": {
    "collapsed": false
   },
   "id": "98d7fb17b9d6060a"
  },
  {
   "cell_type": "markdown",
   "source": [
    "### 목표 : 생성 품중 분류 모델\n",
    "- 데이터 : 2가지 품종의 생선 데이터로 fish.csv\n",
    "- Feature : Weight, Length\n",
    "- Target : Species\n",
    "- 유형 : 지도학습 / 분류\n",
    "- 최적의 생선 품종 예측"
   ],
   "metadata": {
    "collapsed": false
   },
   "id": "c36bdd998879851e"
  },
  {
   "cell_type": "markdown",
   "source": [
    "#### 모듈 준비 & 데이터 준비"
   ],
   "metadata": {
    "collapsed": false
   },
   "id": "a55d6cd3a5e915ae"
  },
  {
   "cell_type": "code",
   "outputs": [
    {
     "name": "stderr",
     "output_type": "stream",
     "text": [
      "Intel(R) Extension for Scikit-learn* enabled (https://github.com/intel/scikit-learn-intelex)\n"
     ]
    }
   ],
   "source": [
    "\n",
    "from sklearnex import patch_sklearn, unpatch_sklearn\n",
    "patch_sklearn()\n",
    "import sklearn\n",
    "import numpy as np\n",
    "import pandas as pd\n",
    "import matplotlib.pyplot as plt\n"
   ],
   "metadata": {
    "collapsed": false,
    "ExecuteTime": {
     "end_time": "2024-02-26T07:05:04.000990Z",
     "start_time": "2024-02-26T07:05:03.132419200Z"
    }
   },
   "id": "bd83214734acce7c",
   "execution_count": 2
  },
  {
   "cell_type": "code",
   "outputs": [
    {
     "data": {
      "text/plain": "  Species  Weight  Length\n0   Bream   242.0    25.4\n1   Bream   290.0    26.3\n2   Bream   340.0    26.5\n3   Bream   363.0    29.0\n4   Bream   430.0    29.0",
      "text/html": "<div>\n<style scoped>\n    .dataframe tbody tr th:only-of-type {\n        vertical-align: middle;\n    }\n\n    .dataframe tbody tr th {\n        vertical-align: top;\n    }\n\n    .dataframe thead th {\n        text-align: right;\n    }\n</style>\n<table border=\"1\" class=\"dataframe\">\n  <thead>\n    <tr style=\"text-align: right;\">\n      <th></th>\n      <th>Species</th>\n      <th>Weight</th>\n      <th>Length</th>\n    </tr>\n  </thead>\n  <tbody>\n    <tr>\n      <th>0</th>\n      <td>Bream</td>\n      <td>242.0</td>\n      <td>25.4</td>\n    </tr>\n    <tr>\n      <th>1</th>\n      <td>Bream</td>\n      <td>290.0</td>\n      <td>26.3</td>\n    </tr>\n    <tr>\n      <th>2</th>\n      <td>Bream</td>\n      <td>340.0</td>\n      <td>26.5</td>\n    </tr>\n    <tr>\n      <th>3</th>\n      <td>Bream</td>\n      <td>363.0</td>\n      <td>29.0</td>\n    </tr>\n    <tr>\n      <th>4</th>\n      <td>Bream</td>\n      <td>430.0</td>\n      <td>29.0</td>\n    </tr>\n  </tbody>\n</table>\n</div>"
     },
     "execution_count": 3,
     "metadata": {},
     "output_type": "execute_result"
    }
   ],
   "source": [
    "# 5개의 피쳐/특성 중 2개의 피쳐/특성 선택\n",
    "df = pd.read_csv(\"../data/fish.csv\", usecols=[\"Weight\", \"Length\", \"Species\"])\n",
    "df.head()"
   ],
   "metadata": {
    "collapsed": false,
    "ExecuteTime": {
     "end_time": "2024-02-26T07:05:04.009950200Z",
     "start_time": "2024-02-26T07:05:03.996647800Z"
    }
   },
   "id": "c3b25d8f42eff8d9",
   "execution_count": 3
  },
  {
   "cell_type": "code",
   "outputs": [
    {
     "data": {
      "text/plain": "  Species  Weight  Length\n0   Bream   242.0    25.4\n1   Bream   290.0    26.3\n2   Bream   340.0    26.5\n3   Bream   363.0    29.0\n4   Bream   430.0    29.0",
      "text/html": "<div>\n<style scoped>\n    .dataframe tbody tr th:only-of-type {\n        vertical-align: middle;\n    }\n\n    .dataframe tbody tr th {\n        vertical-align: top;\n    }\n\n    .dataframe thead th {\n        text-align: right;\n    }\n</style>\n<table border=\"1\" class=\"dataframe\">\n  <thead>\n    <tr style=\"text-align: right;\">\n      <th></th>\n      <th>Species</th>\n      <th>Weight</th>\n      <th>Length</th>\n    </tr>\n  </thead>\n  <tbody>\n    <tr>\n      <th>0</th>\n      <td>Bream</td>\n      <td>242.0</td>\n      <td>25.4</td>\n    </tr>\n    <tr>\n      <th>1</th>\n      <td>Bream</td>\n      <td>290.0</td>\n      <td>26.3</td>\n    </tr>\n    <tr>\n      <th>2</th>\n      <td>Bream</td>\n      <td>340.0</td>\n      <td>26.5</td>\n    </tr>\n    <tr>\n      <th>3</th>\n      <td>Bream</td>\n      <td>363.0</td>\n      <td>29.0</td>\n    </tr>\n    <tr>\n      <th>4</th>\n      <td>Bream</td>\n      <td>430.0</td>\n      <td>29.0</td>\n    </tr>\n  </tbody>\n</table>\n</div>"
     },
     "execution_count": 4,
     "metadata": {},
     "output_type": "execute_result"
    }
   ],
   "source": [
    "df['Species'] = df['Species'].astype('category')\n",
    "mask = df['Species'].isin(['Bream', 'Smelt'])\n",
    "fishDF = df[mask].copy()\n",
    "fishDF.head()"
   ],
   "metadata": {
    "collapsed": false,
    "ExecuteTime": {
     "end_time": "2024-02-26T07:05:04.024577400Z",
     "start_time": "2024-02-26T07:05:04.016949400Z"
    }
   },
   "id": "c5536568492bafaa",
   "execution_count": 4
  },
  {
   "cell_type": "code",
   "outputs": [
    {
     "data": {
      "text/plain": "    Species  Weight  Length\n0         0   242.0    25.4\n1         0   290.0    26.3\n2         0   340.0    26.5\n3         0   363.0    29.0\n4         0   430.0    29.0\n5         0   450.0    29.7\n6         0   500.0    29.7\n7         0   390.0    30.0\n8         0   450.0    30.0\n9         0   500.0    30.7\n10        0   475.0    31.0\n11        0   500.0    31.0\n12        0   500.0    31.5\n13        0   340.0    32.0\n14        0   600.0    32.0\n15        0   600.0    32.0\n16        0   700.0    33.0\n17        0   700.0    33.0\n18        0   610.0    33.5\n19        0   650.0    33.5\n20        0   575.0    34.0\n21        0   685.0    34.0\n22        0   620.0    34.5\n23        0   680.0    35.0\n24        0   700.0    35.0\n25        0   725.0    35.0\n26        0   720.0    35.0\n27        0   714.0    36.0\n28        0   850.0    36.0\n29        0  1000.0    37.0\n30        0   920.0    38.5\n31        0   955.0    38.5\n32        0   925.0    39.5\n33        0   975.0    41.0\n34        0   950.0    41.0\n35        5     6.7     9.8\n36        5     7.5    10.5\n37        5     7.0    10.6\n38        5     9.7    11.0\n39        5     9.8    11.2\n40        5     8.7    11.3\n41        5    10.0    11.8\n42        5     9.9    11.8\n43        5     9.8    12.0\n44        5    12.2    12.2\n45        5    13.4    12.4\n46        5    12.2    13.0\n47        5    19.7    14.3\n48        5    19.9    15.0",
      "text/html": "<div>\n<style scoped>\n    .dataframe tbody tr th:only-of-type {\n        vertical-align: middle;\n    }\n\n    .dataframe tbody tr th {\n        vertical-align: top;\n    }\n\n    .dataframe thead th {\n        text-align: right;\n    }\n</style>\n<table border=\"1\" class=\"dataframe\">\n  <thead>\n    <tr style=\"text-align: right;\">\n      <th></th>\n      <th>Species</th>\n      <th>Weight</th>\n      <th>Length</th>\n    </tr>\n  </thead>\n  <tbody>\n    <tr>\n      <th>0</th>\n      <td>0</td>\n      <td>242.0</td>\n      <td>25.4</td>\n    </tr>\n    <tr>\n      <th>1</th>\n      <td>0</td>\n      <td>290.0</td>\n      <td>26.3</td>\n    </tr>\n    <tr>\n      <th>2</th>\n      <td>0</td>\n      <td>340.0</td>\n      <td>26.5</td>\n    </tr>\n    <tr>\n      <th>3</th>\n      <td>0</td>\n      <td>363.0</td>\n      <td>29.0</td>\n    </tr>\n    <tr>\n      <th>4</th>\n      <td>0</td>\n      <td>430.0</td>\n      <td>29.0</td>\n    </tr>\n    <tr>\n      <th>5</th>\n      <td>0</td>\n      <td>450.0</td>\n      <td>29.7</td>\n    </tr>\n    <tr>\n      <th>6</th>\n      <td>0</td>\n      <td>500.0</td>\n      <td>29.7</td>\n    </tr>\n    <tr>\n      <th>7</th>\n      <td>0</td>\n      <td>390.0</td>\n      <td>30.0</td>\n    </tr>\n    <tr>\n      <th>8</th>\n      <td>0</td>\n      <td>450.0</td>\n      <td>30.0</td>\n    </tr>\n    <tr>\n      <th>9</th>\n      <td>0</td>\n      <td>500.0</td>\n      <td>30.7</td>\n    </tr>\n    <tr>\n      <th>10</th>\n      <td>0</td>\n      <td>475.0</td>\n      <td>31.0</td>\n    </tr>\n    <tr>\n      <th>11</th>\n      <td>0</td>\n      <td>500.0</td>\n      <td>31.0</td>\n    </tr>\n    <tr>\n      <th>12</th>\n      <td>0</td>\n      <td>500.0</td>\n      <td>31.5</td>\n    </tr>\n    <tr>\n      <th>13</th>\n      <td>0</td>\n      <td>340.0</td>\n      <td>32.0</td>\n    </tr>\n    <tr>\n      <th>14</th>\n      <td>0</td>\n      <td>600.0</td>\n      <td>32.0</td>\n    </tr>\n    <tr>\n      <th>15</th>\n      <td>0</td>\n      <td>600.0</td>\n      <td>32.0</td>\n    </tr>\n    <tr>\n      <th>16</th>\n      <td>0</td>\n      <td>700.0</td>\n      <td>33.0</td>\n    </tr>\n    <tr>\n      <th>17</th>\n      <td>0</td>\n      <td>700.0</td>\n      <td>33.0</td>\n    </tr>\n    <tr>\n      <th>18</th>\n      <td>0</td>\n      <td>610.0</td>\n      <td>33.5</td>\n    </tr>\n    <tr>\n      <th>19</th>\n      <td>0</td>\n      <td>650.0</td>\n      <td>33.5</td>\n    </tr>\n    <tr>\n      <th>20</th>\n      <td>0</td>\n      <td>575.0</td>\n      <td>34.0</td>\n    </tr>\n    <tr>\n      <th>21</th>\n      <td>0</td>\n      <td>685.0</td>\n      <td>34.0</td>\n    </tr>\n    <tr>\n      <th>22</th>\n      <td>0</td>\n      <td>620.0</td>\n      <td>34.5</td>\n    </tr>\n    <tr>\n      <th>23</th>\n      <td>0</td>\n      <td>680.0</td>\n      <td>35.0</td>\n    </tr>\n    <tr>\n      <th>24</th>\n      <td>0</td>\n      <td>700.0</td>\n      <td>35.0</td>\n    </tr>\n    <tr>\n      <th>25</th>\n      <td>0</td>\n      <td>725.0</td>\n      <td>35.0</td>\n    </tr>\n    <tr>\n      <th>26</th>\n      <td>0</td>\n      <td>720.0</td>\n      <td>35.0</td>\n    </tr>\n    <tr>\n      <th>27</th>\n      <td>0</td>\n      <td>714.0</td>\n      <td>36.0</td>\n    </tr>\n    <tr>\n      <th>28</th>\n      <td>0</td>\n      <td>850.0</td>\n      <td>36.0</td>\n    </tr>\n    <tr>\n      <th>29</th>\n      <td>0</td>\n      <td>1000.0</td>\n      <td>37.0</td>\n    </tr>\n    <tr>\n      <th>30</th>\n      <td>0</td>\n      <td>920.0</td>\n      <td>38.5</td>\n    </tr>\n    <tr>\n      <th>31</th>\n      <td>0</td>\n      <td>955.0</td>\n      <td>38.5</td>\n    </tr>\n    <tr>\n      <th>32</th>\n      <td>0</td>\n      <td>925.0</td>\n      <td>39.5</td>\n    </tr>\n    <tr>\n      <th>33</th>\n      <td>0</td>\n      <td>975.0</td>\n      <td>41.0</td>\n    </tr>\n    <tr>\n      <th>34</th>\n      <td>0</td>\n      <td>950.0</td>\n      <td>41.0</td>\n    </tr>\n    <tr>\n      <th>35</th>\n      <td>5</td>\n      <td>6.7</td>\n      <td>9.8</td>\n    </tr>\n    <tr>\n      <th>36</th>\n      <td>5</td>\n      <td>7.5</td>\n      <td>10.5</td>\n    </tr>\n    <tr>\n      <th>37</th>\n      <td>5</td>\n      <td>7.0</td>\n      <td>10.6</td>\n    </tr>\n    <tr>\n      <th>38</th>\n      <td>5</td>\n      <td>9.7</td>\n      <td>11.0</td>\n    </tr>\n    <tr>\n      <th>39</th>\n      <td>5</td>\n      <td>9.8</td>\n      <td>11.2</td>\n    </tr>\n    <tr>\n      <th>40</th>\n      <td>5</td>\n      <td>8.7</td>\n      <td>11.3</td>\n    </tr>\n    <tr>\n      <th>41</th>\n      <td>5</td>\n      <td>10.0</td>\n      <td>11.8</td>\n    </tr>\n    <tr>\n      <th>42</th>\n      <td>5</td>\n      <td>9.9</td>\n      <td>11.8</td>\n    </tr>\n    <tr>\n      <th>43</th>\n      <td>5</td>\n      <td>9.8</td>\n      <td>12.0</td>\n    </tr>\n    <tr>\n      <th>44</th>\n      <td>5</td>\n      <td>12.2</td>\n      <td>12.2</td>\n    </tr>\n    <tr>\n      <th>45</th>\n      <td>5</td>\n      <td>13.4</td>\n      <td>12.4</td>\n    </tr>\n    <tr>\n      <th>46</th>\n      <td>5</td>\n      <td>12.2</td>\n      <td>13.0</td>\n    </tr>\n    <tr>\n      <th>47</th>\n      <td>5</td>\n      <td>19.7</td>\n      <td>14.3</td>\n    </tr>\n    <tr>\n      <th>48</th>\n      <td>5</td>\n      <td>19.9</td>\n      <td>15.0</td>\n    </tr>\n  </tbody>\n</table>\n</div>"
     },
     "execution_count": 5,
     "metadata": {},
     "output_type": "execute_result"
    }
   ],
   "source": [
    "fishDF.reset_index(drop=True, inplace=True)\n",
    "fishDF['Species'] = fishDF['Species'].cat.codes\n",
    "fishDF"
   ],
   "metadata": {
    "collapsed": false,
    "ExecuteTime": {
     "end_time": "2024-02-26T07:05:04.068856600Z",
     "start_time": "2024-02-26T07:05:04.028589Z"
    }
   },
   "id": "9bfc673966647ed8",
   "execution_count": 5
  },
  {
   "cell_type": "markdown",
   "source": [
    "#### 데이터 전처리 <hr>\n",
    "- 정제 : 결측치, 중복데이터 \n",
    "- 정규화 : feature scaling"
   ],
   "metadata": {
    "collapsed": false
   },
   "id": "9b12a2304fe0178c"
  },
  {
   "cell_type": "markdown",
   "source": [
    "#### (3-1) 학습 / 테스트 데이터셋 분리 <hr>\n",
    "- 지도학습 중 분류 = > [고려] 타켓의 비율\n",
    "- 학습 : 테스트 = 80 : 20\n",
    "- "
   ],
   "metadata": {
    "collapsed": false
   },
   "id": "433ea6ae5b98497b"
  },
  {
   "cell_type": "code",
   "outputs": [],
   "source": [
    "from sklearn.model_selection import train_test_split\n",
    "\n",
    "# 학습 데이터셋 생성\n",
    "X = fishDF.drop('Species', axis=1)\n",
    "y = fishDF['Species']\n",
    "X_train, X_test, y_train, y_test = train_test_split(\n",
    "    X,\n",
    "    y,\n",
    "    test_size=0.2,\n",
    "    random_state=42,\n",
    "    stratify=y,\n",
    ")\n"
   ],
   "metadata": {
    "collapsed": false,
    "ExecuteTime": {
     "end_time": "2024-02-26T07:05:04.111231800Z",
     "start_time": "2024-02-26T07:05:04.032106Z"
    }
   },
   "id": "102d862e15e3b168",
   "execution_count": 6
  },
  {
   "cell_type": "code",
   "outputs": [
    {
     "name": "stdout",
     "output_type": "stream",
     "text": [
      "학습용 데이터셋---->\n",
      "(39, 2), (39,)\n",
      "\n",
      "\n",
      " Species\n",
      "0    0.717949\n",
      "5    0.282051\n",
      "Name: count, dtype: float64\n",
      "\n",
      "테스트용 데이터셋---->\n",
      "(10, 2), (10,)\n",
      "\n",
      "\n",
      " Species\n",
      "0    0.7\n",
      "5    0.3\n",
      "Name: count, dtype: float64\n"
     ]
    }
   ],
   "source": [
    "# 학습 및 테스트 데이터셋 확인 \n",
    "print(f\"학습용 데이터셋---->\\n{X_train.shape}, {y_train.shape}\\n\")\n",
    "print(f\"\\n {y_train.value_counts() / y_train.shape[0]}\\n\")\n",
    "print(f\"테스트용 데이터셋---->\\n{X_test.shape}, {y_test.shape}\\n\")\n",
    "print(f\"\\n {y_test.value_counts() / y_test.shape[0]}\\n\")\n"
   ],
   "metadata": {
    "collapsed": false,
    "ExecuteTime": {
     "end_time": "2024-02-26T07:05:04.126868300Z",
     "start_time": "2024-02-26T07:05:04.078978900Z"
    }
   },
   "id": "489eac92266b76da",
   "execution_count": 7
  },
  {
   "cell_type": "markdown",
   "source": [
    "#### (3-2) 피쳐 데이터의 스케일링 : 피쳐들의 값의 범위가 다른 것을 통일시켜줌 <hr>\n",
    "- 피쳐들의 값의 범위가 다른 것을 통일 시켜줌\n",
    "- scikit-learn의 preprocessing 모듈 활용\n"
   ],
   "metadata": {
    "collapsed": false
   },
   "id": "add62b00bb488805"
  },
  {
   "cell_type": "code",
   "outputs": [
    {
     "data": {
      "text/plain": "array([[ 0.49638249,  0.50310895],\n       [-1.33243816, -1.57164548],\n       [ 0.18657042,  0.37467177],\n       [ 0.86815697,  0.79950244],\n       [-1.30145695, -1.24561264],\n       [-1.32097511, -1.43332852],\n       [-1.32469285, -1.45308808],\n       [-0.61274472, -0.14895673],\n       [ 0.74423214,  0.79950244],\n       [-1.33925402, -1.62104439],\n       [-1.33212834, -1.55188591],\n       [ 1.50327171,  1.24409267],\n       [ 0.84956824,  0.89830027],\n       [-0.46403493, -0.06003868],\n       [ 0.80619455,  0.60190678],\n       [ 1.48778111,  1.14529484],\n       [ 1.73563076,  0.9970981 ],\n       [-1.33181853, -1.49260721],\n       [-0.23787212,  0.20671546],\n       [ 0.5583449 ,  0.75010352],\n       [ 0.18657042,  0.40431112],\n       [-1.33150872, -1.49260721],\n       [ 0.03166438,  0.27587394],\n       [-1.33212834, -1.47284765],\n       [ 0.80619455,  0.79950244],\n       [-1.33553628, -1.54200613],\n       [ 0.18657042,  0.45371003],\n       [ 1.65817774,  1.39228942],\n       [ 0.65128852,  0.65130569],\n       [-1.34173252, -1.69020287],\n       [ 0.80619455,  0.60190678],\n       [ 0.52736369,  0.65130569],\n       [-0.30912889, -0.04027912],\n       [-0.30912889,  0.50310895],\n       [ 0.1091174 ,  0.40431112],\n       [ 0.03166438,  0.30551329],\n       [-0.03029803,  0.20671546],\n       [ 1.59621533,  1.14529484],\n       [ 0.75972274,  0.70070461]])"
     },
     "execution_count": 8,
     "metadata": {},
     "output_type": "execute_result"
    }
   ],
   "source": [
    "from sklearn.preprocessing import StandardScaler\n",
    "\n",
    "# 표준정규분포 스케일링 : 평균 0, 편차 1\n",
    "# (1) 스케일러 인스턴스 생성\n",
    "# (2) 데이터에 대한 평균, 표준편차 계산 진행 : fit() 메서드\n",
    "# (3) 데이터 스케일링 : transform() 메서드\n",
    "\n",
    "scaler = StandardScaler()\n",
    "scaler.fit(X_train)\n",
    "# 학습용 데이터 피쳐 스케일링\n",
    "scaled_X_train = scaler.transform(X_train)\n",
    "scaled_X_train\n",
    "\n",
    "# scaled_features = scaler.fit_transform(fishDF[fishDF.columns[1:]])\n",
    "# scaled_features"
   ],
   "metadata": {
    "collapsed": false,
    "ExecuteTime": {
     "end_time": "2024-02-26T07:05:04.157616200Z",
     "start_time": "2024-02-26T07:05:04.085813500Z"
    }
   },
   "id": "587938f2733f3cb8",
   "execution_count": 8
  },
  {
   "cell_type": "code",
   "outputs": [
    {
     "data": {
      "text/plain": "array([[ 0.49638249,  0.50310895],\n       [ 0.41892947,  0.70070461],\n       [-1.32469285, -1.37404982],\n       [ 1.58072473,  1.39228942],\n       [ 0.88364757,  0.79950244],\n       [-1.34080308, -1.61116461],\n       [-1.30083733, -1.17645416],\n       [ 1.27091266,  0.89830027],\n       [ 0.18657042,  0.27587394],\n       [-0.15422286,  0.30551329]])"
     },
     "execution_count": 9,
     "metadata": {},
     "output_type": "execute_result"
    }
   ],
   "source": [
    "# 테스트용 데이터 치펴 스케일링\n",
    "scaled_X_test = scaler.transform(X_test)\n",
    "scaled_X_test"
   ],
   "metadata": {
    "collapsed": false,
    "ExecuteTime": {
     "end_time": "2024-02-26T07:05:04.157616200Z",
     "start_time": "2024-02-26T07:05:04.092060300Z"
    }
   },
   "id": "b117acc221b49cdb",
   "execution_count": 9
  },
  {
   "cell_type": "markdown",
   "source": [
    "#### (3-3) 시각화\n"
   ],
   "metadata": {
    "collapsed": false
   },
   "id": "60f7b5f65dceb59b"
  },
  {
   "cell_type": "code",
   "outputs": [],
   "source": [
    "# 모듈 로딩\n",
    "import matplotlib.pyplot as plt"
   ],
   "metadata": {
    "collapsed": false,
    "ExecuteTime": {
     "end_time": "2024-02-26T07:05:04.186683500Z",
     "start_time": "2024-02-26T07:05:04.099610700Z"
    }
   },
   "id": "f291f7a571adf61c",
   "execution_count": 10
  },
  {
   "cell_type": "code",
   "outputs": [
    {
     "data": {
      "text/plain": "    Weight  Length\n15   600.0    32.0\n38     9.7    11.0\n9    500.0    30.7\n26   720.0    35.0\n47    19.7    14.3\n45    13.4    12.4\n44    12.2    12.2\n0    242.0    25.4\n23   680.0    35.0\n36     7.5    10.5\n39     9.8    11.2\n32   925.0    39.5\n27   714.0    36.0\n1    290.0    26.3\n16   700.0    33.0\n30   920.0    38.5\n29  1000.0    37.0\n42     9.9    11.8\n3    363.0    29.0\n22   620.0    34.5\n11   500.0    31.0\n41    10.0    11.8\n5    450.0    29.7\n43     9.8    12.0\n24   700.0    35.0\n40     8.7    11.3\n12   500.0    31.5\n33   975.0    41.0\n19   650.0    33.5\n35     6.7     9.8\n17   700.0    33.0\n18   610.0    33.5\n2    340.0    26.5\n13   340.0    32.0\n10   475.0    31.0\n8    450.0    30.0\n4    430.0    29.0\n31   955.0    38.5\n21   685.0    34.0",
      "text/html": "<div>\n<style scoped>\n    .dataframe tbody tr th:only-of-type {\n        vertical-align: middle;\n    }\n\n    .dataframe tbody tr th {\n        vertical-align: top;\n    }\n\n    .dataframe thead th {\n        text-align: right;\n    }\n</style>\n<table border=\"1\" class=\"dataframe\">\n  <thead>\n    <tr style=\"text-align: right;\">\n      <th></th>\n      <th>Weight</th>\n      <th>Length</th>\n    </tr>\n  </thead>\n  <tbody>\n    <tr>\n      <th>15</th>\n      <td>600.0</td>\n      <td>32.0</td>\n    </tr>\n    <tr>\n      <th>38</th>\n      <td>9.7</td>\n      <td>11.0</td>\n    </tr>\n    <tr>\n      <th>9</th>\n      <td>500.0</td>\n      <td>30.7</td>\n    </tr>\n    <tr>\n      <th>26</th>\n      <td>720.0</td>\n      <td>35.0</td>\n    </tr>\n    <tr>\n      <th>47</th>\n      <td>19.7</td>\n      <td>14.3</td>\n    </tr>\n    <tr>\n      <th>45</th>\n      <td>13.4</td>\n      <td>12.4</td>\n    </tr>\n    <tr>\n      <th>44</th>\n      <td>12.2</td>\n      <td>12.2</td>\n    </tr>\n    <tr>\n      <th>0</th>\n      <td>242.0</td>\n      <td>25.4</td>\n    </tr>\n    <tr>\n      <th>23</th>\n      <td>680.0</td>\n      <td>35.0</td>\n    </tr>\n    <tr>\n      <th>36</th>\n      <td>7.5</td>\n      <td>10.5</td>\n    </tr>\n    <tr>\n      <th>39</th>\n      <td>9.8</td>\n      <td>11.2</td>\n    </tr>\n    <tr>\n      <th>32</th>\n      <td>925.0</td>\n      <td>39.5</td>\n    </tr>\n    <tr>\n      <th>27</th>\n      <td>714.0</td>\n      <td>36.0</td>\n    </tr>\n    <tr>\n      <th>1</th>\n      <td>290.0</td>\n      <td>26.3</td>\n    </tr>\n    <tr>\n      <th>16</th>\n      <td>700.0</td>\n      <td>33.0</td>\n    </tr>\n    <tr>\n      <th>30</th>\n      <td>920.0</td>\n      <td>38.5</td>\n    </tr>\n    <tr>\n      <th>29</th>\n      <td>1000.0</td>\n      <td>37.0</td>\n    </tr>\n    <tr>\n      <th>42</th>\n      <td>9.9</td>\n      <td>11.8</td>\n    </tr>\n    <tr>\n      <th>3</th>\n      <td>363.0</td>\n      <td>29.0</td>\n    </tr>\n    <tr>\n      <th>22</th>\n      <td>620.0</td>\n      <td>34.5</td>\n    </tr>\n    <tr>\n      <th>11</th>\n      <td>500.0</td>\n      <td>31.0</td>\n    </tr>\n    <tr>\n      <th>41</th>\n      <td>10.0</td>\n      <td>11.8</td>\n    </tr>\n    <tr>\n      <th>5</th>\n      <td>450.0</td>\n      <td>29.7</td>\n    </tr>\n    <tr>\n      <th>43</th>\n      <td>9.8</td>\n      <td>12.0</td>\n    </tr>\n    <tr>\n      <th>24</th>\n      <td>700.0</td>\n      <td>35.0</td>\n    </tr>\n    <tr>\n      <th>40</th>\n      <td>8.7</td>\n      <td>11.3</td>\n    </tr>\n    <tr>\n      <th>12</th>\n      <td>500.0</td>\n      <td>31.5</td>\n    </tr>\n    <tr>\n      <th>33</th>\n      <td>975.0</td>\n      <td>41.0</td>\n    </tr>\n    <tr>\n      <th>19</th>\n      <td>650.0</td>\n      <td>33.5</td>\n    </tr>\n    <tr>\n      <th>35</th>\n      <td>6.7</td>\n      <td>9.8</td>\n    </tr>\n    <tr>\n      <th>17</th>\n      <td>700.0</td>\n      <td>33.0</td>\n    </tr>\n    <tr>\n      <th>18</th>\n      <td>610.0</td>\n      <td>33.5</td>\n    </tr>\n    <tr>\n      <th>2</th>\n      <td>340.0</td>\n      <td>26.5</td>\n    </tr>\n    <tr>\n      <th>13</th>\n      <td>340.0</td>\n      <td>32.0</td>\n    </tr>\n    <tr>\n      <th>10</th>\n      <td>475.0</td>\n      <td>31.0</td>\n    </tr>\n    <tr>\n      <th>8</th>\n      <td>450.0</td>\n      <td>30.0</td>\n    </tr>\n    <tr>\n      <th>4</th>\n      <td>430.0</td>\n      <td>29.0</td>\n    </tr>\n    <tr>\n      <th>31</th>\n      <td>955.0</td>\n      <td>38.5</td>\n    </tr>\n    <tr>\n      <th>21</th>\n      <td>685.0</td>\n      <td>34.0</td>\n    </tr>\n  </tbody>\n</table>\n</div>"
     },
     "execution_count": 11,
     "metadata": {},
     "output_type": "execute_result"
    }
   ],
   "source": [
    "X_train"
   ],
   "metadata": {
    "collapsed": false,
    "ExecuteTime": {
     "end_time": "2024-02-26T07:05:04.189184100Z",
     "start_time": "2024-02-26T07:05:04.104101400Z"
    }
   },
   "id": "fbfc58d8905bc338",
   "execution_count": 11
  },
  {
   "cell_type": "code",
   "outputs": [
    {
     "data": {
      "text/plain": "<Figure size 640x480 with 2 Axes>",
      "image/png": "[encoded data removed]"
     },
     "metadata": {},
     "output_type": "display_data"
    },
    {
     "data": {
      "text/plain": "<Figure size 640x480 with 1 Axes>",
      "image/png": "[encoded data removed]"
     },
     "metadata": {},
     "output_type": "display_data"
    }
   ],
   "source": [
    "## => 원본 데이터 시각화\n",
    "\n",
    "X_train.plot(kind='scatter', x='Weight', y='Length', c=y_train, label='Original', colormap='winter')\n",
    "plt.show()\n",
    "## => 스케일된 데이터 시각화\n",
    "\n",
    "plt.scatter(scaled_X_train[:,0], scaled_X_train[:,1], c=y_train, label='Scaled', cmap='summer')\n",
    "plt.xlabel('Weight')\n",
    "plt.ylabel('Length')\n",
    "plt.legend()\n",
    "plt.show()\n"
   ],
   "metadata": {
    "collapsed": false,
    "ExecuteTime": {
     "end_time": "2024-02-26T07:05:04.404307400Z",
     "start_time": "2024-02-26T07:05:04.113238400Z"
    }
   },
   "id": "c7457826d315c0d8",
   "execution_count": 12
  },
  {
   "cell_type": "markdown",
   "source": [
    "#### (4) 학습 진행"
   ],
   "metadata": {
    "collapsed": false
   },
   "id": "f0d10565995114ba"
  },
  {
   "cell_type": "code",
   "outputs": [
    {
     "name": "stderr",
     "output_type": "stream",
     "text": [
      "Intel(R) Extension for Scikit-learn* enabled (https://github.com/intel/scikit-learn-intelex)\n"
     ]
    }
   ],
   "source": [
    "from sklearn.neighbors import KNeighborsClassifier\n",
    "from sklearn.svm import SVC\n",
    "from sklearn.linear_model import LogisticRegression\n",
    "\n",
    "## 모델 성능 좌우하는 매개변수 => 하이퍼파라미터 : n_neighbors\n",
    "## n_neighbors 즉 k 갯수 : 1 ~ 학습한 데이터 수\n",
    "patch_sklearn()\n",
    "# unpatch_sklearn()\n",
    "train_scorelist = []\n",
    "test_scorelist = []\n",
    "for model in [\n",
    "    # KNeighborsClassifier, \n",
    "    SVC, \n",
    "    # LogisticRegression,\n",
    "]:\n",
    "    for n in range(1, scaled_X_train.shape[0]+1):\n",
    "        fishModel = model(C=n)\n",
    "        fishModel.fit(scaled_X_train, y_train)\n",
    "        fishModel.score(scaled_X_test, y_test)\n",
    "        #### (6) 예측 <hr>\n",
    "        \n",
    "        new_data = pd.DataFrame([[112.0, 25.4], [100.0, 26.3], [98.0, 28.0], [10, 20]], columns=['Weight', 'Length'])\n",
    "        new_data\n",
    "        # 피쳐 스케일링 진행\n",
    "        scaler.transform(new_data)\n",
    "        y_pre = fishModel.predict(scaler.transform(new_data))\n",
    "        # print(y_pre, model)\n",
    "        test_scorelist.append(fishModel.score(scaled_X_test, y_test))\n",
    "        train_scorelist.append(fishModel.score(scaled_X_train, y_train))"
   ],
   "metadata": {
    "collapsed": false,
    "ExecuteTime": {
     "end_time": "2024-02-26T07:15:32.376851400Z",
     "start_time": "2024-02-26T07:15:32.229155400Z"
    }
   },
   "id": "79977617bc17ac87",
   "execution_count": 81
  },
  {
   "cell_type": "code",
   "outputs": [
    {
     "data": {
      "text/plain": "<Figure size 640x480 with 1 Axes>",
      "image/png": "[encoded data removed]"
     },
     "metadata": {},
     "output_type": "display_data"
    }
   ],
   "source": [
    "plt.plot(range(1, scaled_X_train.shape[0]+1), train_scorelist, 'bo-',label='Train')\n",
    "plt.plot(range(1, scaled_X_train.shape[0]+1), test_scorelist, 'r^--',label='Test')\n",
    "plt.legend()\n",
    "plt.title('K & Score')\n",
    "plt.show()\n"
   ],
   "metadata": {
    "collapsed": false,
    "ExecuteTime": {
     "end_time": "2024-02-26T07:15:11.315614700Z",
     "start_time": "2024-02-26T07:15:11.214627900Z"
    }
   },
   "id": "fb568ca1fdbbca75",
   "execution_count": 73
  },
  {
   "cell_type": "markdown",
   "source": [
    "#### 기계학습 데이터셋 준비 => 피쳐와 타켓 분리 <hr>\n"
   ],
   "metadata": {
    "collapsed": false
   },
   "id": "18391af915417bcc"
  }
 ],
 "metadata": {
  "kernelspec": {
   "display_name": "Python 3",
   "language": "python",
   "name": "python3"
  },
  "language_info": {
   "codemirror_mode": {
    "name": "ipython",
    "version": 2
   },
   "file_extension": ".py",
   "mimetype": "text/x-python",
   "name": "python",
   "nbconvert_exporter": "python",
   "pygments_lexer": "ipython2",
   "version": "2.7.6"
  }
 },
 "nbformat": 4,
 "nbformat_minor": 5
}
