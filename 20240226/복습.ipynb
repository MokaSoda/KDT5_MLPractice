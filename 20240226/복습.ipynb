{
 "cells": [
  {
   "cell_type": "markdown",
   "source": [
    "## 기계학습 방법\n",
    "(1) 목표 설정  \n",
    "(2) 목표에 맞는 데이터 준비 \n",
    "- 파일 형식 수집\n",
    "- 웹 크롤링 수집\n",
    "\n",
    "(3) 데이터 전처리  \n",
    "- 목표에 맞는 데이터 추출  \n",
    "- 불필요 데이터 제거  \n",
    "- 학습 방법에 적합하도록 데이터 가공\n",
    "  \n",
    "(2), (3) : 시간 많이 소요, 가장 중요  \n",
    "\n",
    "(4) 학습 진행  \n",
    "- 본인 목표를 구현하기 위한 최적의 학습 방법 선정  \n",
    "- 본인 데이터 맞는 최고 성능을 내는 방법 찾기  \n",
    "\n",
    "(5) 테스트 진행  \n",
    "- 학습에 사용되지 않은 데이터로 학습 완료된 모델(규칙/패턴/수식)에 검사 진행  \n",
    "- 만족스러운 결과 도출되면 학습 완료  \n",
    "- 다시 학습 진행: 데이터 전처리에 문제? 학습 방법 문제? 데이터양?  \n",
    "\n",
    "(6) 완성된 모델에 대한 활용  \n",
    "- 웹/앱에서 해당 모델 활용한 서비스 제공  "
   ],
   "metadata": {
    "collapsed": false
   },
   "id": "d8846b47a27c850f"
  },
  {
   "cell_type": "markdown",
   "source": [
    "## 데이터셋\n",
    "> 피쳐/특성 + 타켓/라벨/답/클래스 (지도학습시)\n",
    "> 피쳐/특성 (비지도학습시)"
   ],
   "metadata": {
    "collapsed": false
   },
   "id": "c0c6b8ab469cee95"
  },
  {
   "cell_type": "markdown",
   "source": [
    "\n",
    "## 학습하기 위해서 데이터 준비\n",
    "> 학습용 데이터셋\n",
    "> 검증용 데이터셋 : 쪽지시험 / 미니테스트\n",
    "> - 학습이 제대로 되고 있는지 검증용\n",
    "> - 학습 중단 여부 결정\n",
    ">\n",
    "> 테스트 데이터셋\n"
   ],
   "metadata": {
    "collapsed": false
   },
   "id": "6bab358b14959c8f"
  },
  {
   "cell_type": "markdown",
   "source": [
    "## 기계학습의 학습 방법 즉 알고리즘\n",
    "> 1. 지도학습\n",
    "> 2. 비지도학습 (NO LABEL)\n",
    "> 3. 강화학습 (NO LABEL)\n"
   ],
   "metadata": {
    "collapsed": false
   },
   "id": "6f0687adf83673e8"
  },
  {
   "cell_type": "markdown",
   "source": [
    "## KNN\n",
    "- 유유상종 : 끼리끼리 모임\n",
    "- K Nearest Neighbors\n",
    "- K개의 가장 가까이 존재하는 데이터를  \n",
    "기준으로 결과를 정하는 알고리즘\n",
    "- 데이터와 데이터의 거리를 도출 후 거리 순으로 정렬\n",
    "- K개 만큼 가까이 있는 데이터를 도출\n",
    "> - 분류: 다수결원칙으로 많은 종류의 데이터로 결론 도출\n",
    "> - 회귀: 데이터의 평균값으로 결과를 도출\n",
    "- 특징\n",
    "> - 데이터의 규칙/패털을 나타내는 수식이 없음 \n",
    "> - 데이터를 메모리 모두 저장 후 거리를 측정해서 결과 도출 (Lazy 학습) "
   ],
   "metadata": {
    "collapsed": false
   },
   "id": "b43cee1baea09a43"
  },
  {
   "cell_type": "markdown",
   "source": [
    "## scikit-learn 패키지\n",
    "기계학습 방법  \n",
    "1. 학습 모델 인스턴스 생성\n",
    "2. fit 메서드 사용하여 데이터 학습\n",
    "> fit(2D, 1D(라벨))\n",
    "3. score 에서드 사용하여 학습 테스트\n",
    "> score(2D, 1D(라벨))\n",
    "4. 활용 메서드 => predict(2D) ----> 결과\n"
   ],
   "metadata": {
    "collapsed": false
   },
   "id": "9e00a394dfb4b676"
  },
  {
   "cell_type": "code",
   "outputs": [],
   "source": [],
   "metadata": {
    "collapsed": false
   },
   "id": "74778d0896e52ed5"
  }
 ],
 "metadata": {
  "kernelspec": {
   "display_name": "Python 3",
   "language": "python",
   "name": "python3"
  },
  "language_info": {
   "codemirror_mode": {
    "name": "ipython",
    "version": 2
   },
   "file_extension": ".py",
   "mimetype": "text/x-python",
   "name": "python",
   "nbconvert_exporter": "python",
   "pygments_lexer": "ipython2",
   "version": "2.7.6"
  }
 },
 "nbformat": 4,
 "nbformat_minor": 5
}
